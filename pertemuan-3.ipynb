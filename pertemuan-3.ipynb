{
 "cells": [
  {
   "cell_type": "markdown",
   "metadata": {},
   "source": [
    "#"
   ]
  },
  {
   "cell_type": "markdown",
   "metadata": {},
   "source": [
    "# Soal 1"
   ]
  },
  {
   "cell_type": "code",
   "execution_count": 61,
   "metadata": {},
   "outputs": [
    {
     "name": "stderr",
     "output_type": "stream",
     "text": [
      "[nltk_data] Downloading package brown to C:\\Users\\Asus\n",
      "[nltk_data]     Vivobook\\AppData\\Roaming\\nltk_data...\n",
      "[nltk_data]   Package brown is already up-to-date!\n"
     ]
    },
    {
     "data": {
      "text/plain": [
       "True"
      ]
     },
     "execution_count": 61,
     "metadata": {},
     "output_type": "execute_result"
    }
   ],
   "source": [
    "import nltk\n",
    "nltk.download('brown')"
   ]
  },
  {
   "cell_type": "code",
   "execution_count": 62,
   "metadata": {},
   "outputs": [
    {
     "data": {
      "text/plain": [
       "['adventure',\n",
       " 'belles_lettres',\n",
       " 'editorial',\n",
       " 'fiction',\n",
       " 'government',\n",
       " 'hobbies',\n",
       " 'humor',\n",
       " 'learned',\n",
       " 'lore',\n",
       " 'mystery',\n",
       " 'news',\n",
       " 'religion',\n",
       " 'reviews',\n",
       " 'romance',\n",
       " 'science_fiction']"
      ]
     },
     "execution_count": 62,
     "metadata": {},
     "output_type": "execute_result"
    }
   ],
   "source": [
    "from nltk.corpus import brown\n",
    "brown.categories()"
   ]
  },
  {
   "cell_type": "code",
   "execution_count": 63,
   "metadata": {},
   "outputs": [],
   "source": [
    "fileids = ['cd12', 'cb02', 'cj19', 'cm01']\n",
    "categories = ['fiction', 'mystery', 'humor', 'romance']"
   ]
  },
  {
   "cell_type": "code",
   "execution_count": 64,
   "metadata": {},
   "outputs": [
    {
     "name": "stdout",
     "output_type": "stream",
     "text": [
      "fiction ['Thirty-three', 'Scotty', 'did', 'not', 'go', 'back', ...]\n",
      "mystery ['There', 'were', 'thirty-eight', 'patients', 'on', ...]\n",
      "humor ['It', 'was', 'among', 'these', 'that', 'Hinkle', ...]\n",
      "romance ['They', 'neither', 'liked', 'nor', 'disliked', 'the', ...]\n"
     ]
    }
   ],
   "source": [
    "for category in categories:\n",
    "    print(category, brown.words(categories=category))"
   ]
  },
  {
   "cell_type": "code",
   "execution_count": 65,
   "metadata": {},
   "outputs": [
    {
     "name": "stdout",
     "output_type": "stream",
     "text": [
      "cd12 ['Much', 'more', 'than', 'shelter', ',', 'housing', ...]\n",
      "cb02 ['Must', 'Berlin', 'remain', 'divided', '?', '?', ...]\n",
      "cj19 ['7-1', '.', 'Examples', 'of', 'binomial', ...]\n",
      "cm01 ['Now', 'that', 'he', 'knew', 'himself', 'to', 'be', ...]\n"
     ]
    }
   ],
   "source": [
    "for fileid in fileids:\n",
    "    print(fileid, brown.words(fileids=fileid))"
   ]
  },
  {
   "cell_type": "markdown",
   "metadata": {},
   "source": [
    "# Soal 2"
   ]
  },
  {
   "cell_type": "code",
   "execution_count": 66,
   "metadata": {},
   "outputs": [
    {
     "name": "stderr",
     "output_type": "stream",
     "text": [
      "[nltk_data] Downloading package inaugural to C:\\Users\\Asus\n",
      "[nltk_data]     Vivobook\\AppData\\Roaming\\nltk_data...\n",
      "[nltk_data]   Package inaugural is already up-to-date!\n"
     ]
    }
   ],
   "source": [
    "nltk.download('inaugural')\n",
    "from nltk.corpus import inaugural"
   ]
  },
  {
   "cell_type": "code",
   "execution_count": 67,
   "metadata": {},
   "outputs": [
    {
     "name": "stdout",
     "output_type": "stream",
     "text": [
      "My fellow citizens, today we celebrate the mystery of American renewal. This ceremony is held in the depth of winter, but by the words we speak and the faces we show the world, we force the spring. A spring reborn in the world's oldest democracy, that brings forth the vision and courage to reinvent America. When our founders boldly declared America's independence to the world, and our purposes to the Almighty, they knew that America, to endure, would have to change. Not change for change sake, b\n"
     ]
    }
   ],
   "source": [
    "raw = inaugural.raw('1993-Clinton.txt')\n",
    "print(raw[:500])"
   ]
  },
  {
   "cell_type": "code",
   "execution_count": 68,
   "metadata": {},
   "outputs": [
    {
     "name": "stdout",
     "output_type": "stream",
     "text": [
      "['My', 'fellow', 'citizens', ',', 'today', 'we', 'celebrate', 'the', 'mystery', 'of']\n"
     ]
    }
   ],
   "source": [
    "words = inaugural.words('1993-Clinton.txt')\n",
    "print(words[:10])"
   ]
  },
  {
   "cell_type": "code",
   "execution_count": 69,
   "metadata": {},
   "outputs": [
    {
     "name": "stdout",
     "output_type": "stream",
     "text": [
      "[['My', 'fellow', 'citizens', ',', 'today', 'we', 'celebrate', 'the', 'mystery', 'of', 'American', 'renewal', '.'], ['This', 'ceremony', 'is', 'held', 'in', 'the', 'depth', 'of', 'winter', ',', 'but', 'by', 'the', 'words', 'we', 'speak', 'and', 'the', 'faces', 'we', 'show', 'the', 'world', ',', 'we', 'force', 'the', 'spring', '.']]\n"
     ]
    }
   ],
   "source": [
    "sents = inaugural.sents('1993-Clinton.txt')\n",
    "print(sents[:2])"
   ]
  },
  {
   "cell_type": "code",
   "execution_count": 70,
   "metadata": {},
   "outputs": [
    {
     "name": "stdout",
     "output_type": "stream",
     "text": [
      "[[['My', 'fellow', 'citizens', ',', 'today', 'we', 'celebrate', 'the', 'mystery', 'of', 'American', 'renewal', '.'], ['This', 'ceremony', 'is', 'held', 'in', 'the', 'depth', 'of', 'winter', ',', 'but', 'by', 'the', 'words', 'we', 'speak', 'and', 'the', 'faces', 'we', 'show', 'the', 'world', ',', 'we', 'force', 'the', 'spring', '.'], ['A', 'spring', 'reborn', 'in', 'the', 'world', \"'\", 's', 'oldest', 'democracy', ',', 'that', 'brings', 'forth', 'the', 'vision', 'and', 'courage', 'to', 'reinvent', 'America', '.'], ['When', 'our', 'founders', 'boldly', 'declared', 'America', \"'\", 's', 'independence', 'to', 'the', 'world', ',', 'and', 'our', 'purposes', 'to', 'the', 'Almighty', ',', 'they', 'knew', 'that', 'America', ',', 'to', 'endure', ',', 'would', 'have', 'to', 'change', '.'], ['Not', 'change', 'for', 'change', 'sake', ',', 'but', 'change', 'to', 'preserve', 'America', \"'\", 's', 'ideals', ':', 'life', ',', 'liberty', ',', 'the', 'pursuit', 'of', 'happiness', '.']]]\n"
     ]
    }
   ],
   "source": [
    "pars = inaugural.paras('1993-Clinton.txt')\n",
    "print(pars[:1])"
   ]
  },
  {
   "cell_type": "markdown",
   "metadata": {},
   "source": [
    "# Soal 3"
   ]
  },
  {
   "cell_type": "code",
   "execution_count": 71,
   "metadata": {},
   "outputs": [
    {
     "name": "stderr",
     "output_type": "stream",
     "text": [
      "[nltk_data] Downloading package reuters to C:\\Users\\Asus\n",
      "[nltk_data]     Vivobook\\AppData\\Roaming\\nltk_data...\n",
      "[nltk_data]   Package reuters is already up-to-date!\n"
     ]
    }
   ],
   "source": [
    "nltk.download('reuters')\n",
    "from nltk.corpus import reuters"
   ]
  },
  {
   "cell_type": "code",
   "execution_count": 72,
   "metadata": {},
   "outputs": [
    {
     "name": "stdout",
     "output_type": "stream",
     "text": [
      "['acq', 'alum', 'barley', 'bop', 'carcass']\n"
     ]
    }
   ],
   "source": [
    "categories = reuters.categories()\n",
    "print(categories[:5])"
   ]
  },
  {
   "cell_type": "code",
   "execution_count": 73,
   "metadata": {},
   "outputs": [
    {
     "name": "stdout",
     "output_type": "stream",
     "text": [
      "['test/14826', 'test/14828', 'test/14829', 'test/14832', 'test/14833', 'test/14839', 'test/14840', 'test/14841', 'test/14842', 'test/14843']\n"
     ]
    }
   ],
   "source": [
    "fields = reuters.fileids()\n",
    "print(fields[:10])"
   ]
  }
 ],
 "metadata": {
  "kernelspec": {
   "display_name": "pyenv",
   "language": "python",
   "name": "python3"
  },
  "language_info": {
   "codemirror_mode": {
    "name": "ipython",
    "version": 3
   },
   "file_extension": ".py",
   "mimetype": "text/x-python",
   "name": "python",
   "nbconvert_exporter": "python",
   "pygments_lexer": "ipython3",
   "version": "3.11.3"
  }
 },
 "nbformat": 4,
 "nbformat_minor": 2
}

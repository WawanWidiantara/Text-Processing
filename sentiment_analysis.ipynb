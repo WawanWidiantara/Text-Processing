{
 "cells": [
  {
   "cell_type": "markdown",
   "metadata": {},
   "source": [
    "# Import Module"
   ]
  },
  {
   "cell_type": "code",
   "execution_count": 53,
   "metadata": {},
   "outputs": [],
   "source": [
    "import pandas as pd\n",
    "import numpy as np\n",
    "\n",
    "import matplotlib.pyplot as plt\n",
    "import seaborn as sns\n",
    "from plotly import graph_objs as go\n",
    "import plotly.express as px\n",
    "import plotly.figure_factory as ff\n",
    "\n",
    "from PIL import Image\n",
    "from wordcloud import WordCloud, STOPWORDS, ImageColorGenerator\n",
    "\n",
    "import os"
   ]
  },
  {
   "cell_type": "markdown",
   "metadata": {},
   "source": [
    "# Load the data"
   ]
  },
  {
   "cell_type": "code",
   "execution_count": 54,
   "metadata": {},
   "outputs": [
    {
     "name": "stdout",
     "output_type": "stream",
     "text": [
      "['pajak (1).csv', 'pajak (2).csv', 'pajak-1.csv', 'pajak-10.csv', 'pajak-aufa.csv', 'pajak-evi1.csv', 'pajak-evi2.csv', 'pajak.csv']\n"
     ]
    }
   ],
   "source": [
    "import os\n",
    "\n",
    "folder_path = r\"D:\\Code\\py_code\\Text-Processing\\data\\twitter_data\"\n",
    "file_names = os.listdir(folder_path)\n",
    "\n",
    "print(file_names)"
   ]
  },
  {
   "cell_type": "code",
   "execution_count": 55,
   "metadata": {},
   "outputs": [],
   "source": [
    "def load_data(folder_path, file_name):\n",
    "    data = pd.read_csv(os.path.join(folder_path, file_name))\n",
    "    return data"
   ]
  },
  {
   "cell_type": "code",
   "execution_count": 56,
   "metadata": {},
   "outputs": [
    {
     "data": {
      "text/plain": [
       "(2955, 15)"
      ]
     },
     "execution_count": 56,
     "metadata": {},
     "output_type": "execute_result"
    }
   ],
   "source": [
    "datas = []\n",
    "\n",
    "for file_name in file_names:\n",
    "    data = load_data(folder_path, file_name)\n",
    "    datas.append(data)\n",
    "\n",
    "data = pd.concat(datas, axis=0)\n",
    "data.shape"
   ]
  },
  {
   "cell_type": "markdown",
   "metadata": {},
   "source": [
    "# Preprocessing"
   ]
  },
  {
   "cell_type": "code",
   "execution_count": 57,
   "metadata": {},
   "outputs": [
    {
     "data": {
      "text/html": [
       "<div>\n",
       "<style scoped>\n",
       "    .dataframe tbody tr th:only-of-type {\n",
       "        vertical-align: middle;\n",
       "    }\n",
       "\n",
       "    .dataframe tbody tr th {\n",
       "        vertical-align: top;\n",
       "    }\n",
       "\n",
       "    .dataframe thead th {\n",
       "        text-align: right;\n",
       "    }\n",
       "</style>\n",
       "<table border=\"1\" class=\"dataframe\">\n",
       "  <thead>\n",
       "    <tr style=\"text-align: right;\">\n",
       "      <th></th>\n",
       "      <th>conversation_id_str</th>\n",
       "      <th>created_at</th>\n",
       "      <th>favorite_count</th>\n",
       "      <th>full_text</th>\n",
       "      <th>id_str</th>\n",
       "      <th>image_url</th>\n",
       "      <th>in_reply_to_screen_name</th>\n",
       "      <th>lang</th>\n",
       "      <th>location</th>\n",
       "      <th>quote_count</th>\n",
       "      <th>reply_count</th>\n",
       "      <th>retweet_count</th>\n",
       "      <th>tweet_url</th>\n",
       "      <th>user_id_str</th>\n",
       "      <th>username</th>\n",
       "    </tr>\n",
       "  </thead>\n",
       "  <tbody>\n",
       "    <tr>\n",
       "      <th>0</th>\n",
       "      <td>1786040009260445713</td>\n",
       "      <td>Thu May 02 14:28:15 +0000 2024</td>\n",
       "      <td>9620</td>\n",
       "      <td>aku ga pernah punya pengalaman serupa tapi be...</td>\n",
       "      <td>1786040009260445713</td>\n",
       "      <td>https://pbs.twimg.com/media/GMlJ685aAAASA6n.jpg</td>\n",
       "      <td>NaN</td>\n",
       "      <td>in</td>\n",
       "      <td>NaN</td>\n",
       "      <td>638</td>\n",
       "      <td>262</td>\n",
       "      <td>627</td>\n",
       "      <td>https://twitter.com/convomfs/status/1786040009...</td>\n",
       "      <td>1284061445148209154</td>\n",
       "      <td>convomfs</td>\n",
       "    </tr>\n",
       "    <tr>\n",
       "      <th>1</th>\n",
       "      <td>1786277896056864854</td>\n",
       "      <td>Fri May 03 06:13:32 +0000 2024</td>\n",
       "      <td>210</td>\n",
       "      <td>Wuiiih perpanjang kontrak dgn red spark Megawa...</td>\n",
       "      <td>1786277896056864854</td>\n",
       "      <td>https://pbs.twimg.com/ext_tw_video_thumb/17862...</td>\n",
       "      <td>NaN</td>\n",
       "      <td>in</td>\n",
       "      <td>58%</td>\n",
       "      <td>3</td>\n",
       "      <td>58</td>\n",
       "      <td>81</td>\n",
       "      <td>https://twitter.com/toe_giman/status/178627789...</td>\n",
       "      <td>1336576386987790336</td>\n",
       "      <td>toe_giman</td>\n",
       "    </tr>\n",
       "    <tr>\n",
       "      <th>2</th>\n",
       "      <td>1788725387201261835</td>\n",
       "      <td>Fri May 10 00:18:59 +0000 2024</td>\n",
       "      <td>156</td>\n",
       "      <td>Ada 3 kepastian di dunia ini: 1) Kematian 2) P...</td>\n",
       "      <td>1788725387201261835</td>\n",
       "      <td>NaN</td>\n",
       "      <td>NaN</td>\n",
       "      <td>in</td>\n",
       "      <td>Michuhol-gu, Republic of Korea</td>\n",
       "      <td>1</td>\n",
       "      <td>9</td>\n",
       "      <td>18</td>\n",
       "      <td>https://twitter.com/ardisatriawan/status/17887...</td>\n",
       "      <td>170542374</td>\n",
       "      <td>ardisatriawan</td>\n",
       "    </tr>\n",
       "    <tr>\n",
       "      <th>3</th>\n",
       "      <td>1786778563557163490</td>\n",
       "      <td>Sat May 04 15:23:00 +0000 2024</td>\n",
       "      <td>42</td>\n",
       "      <td>Pemerintahan Joe Biden membakar uang pajak war...</td>\n",
       "      <td>1786778563557163490</td>\n",
       "      <td>https://pbs.twimg.com/media/GMvpomIbkAAYrSE.jpg</td>\n",
       "      <td>NaN</td>\n",
       "      <td>in</td>\n",
       "      <td>Indonesia</td>\n",
       "      <td>0</td>\n",
       "      <td>3</td>\n",
       "      <td>8</td>\n",
       "      <td>https://twitter.com/Vendra_Deje/status/1786778...</td>\n",
       "      <td>384176072</td>\n",
       "      <td>Vendra_Deje</td>\n",
       "    </tr>\n",
       "    <tr>\n",
       "      <th>4</th>\n",
       "      <td>1788764422900732144</td>\n",
       "      <td>Fri May 10 02:54:06 +0000 2024</td>\n",
       "      <td>37</td>\n",
       "      <td>Indonesia memburuk sangat cepat marilah bangki...</td>\n",
       "      <td>1788764422900732144</td>\n",
       "      <td>https://pbs.twimg.com/media/GNL3w1Ja4AAHY7u.jpg</td>\n",
       "      <td>NaN</td>\n",
       "      <td>in</td>\n",
       "      <td>NaN</td>\n",
       "      <td>2</td>\n",
       "      <td>0</td>\n",
       "      <td>24</td>\n",
       "      <td>https://twitter.com/Raky4tB3rs4tu__/status/178...</td>\n",
       "      <td>1629184074781954048</td>\n",
       "      <td>Raky4tB3rs4tu__</td>\n",
       "    </tr>\n",
       "  </tbody>\n",
       "</table>\n",
       "</div>"
      ],
      "text/plain": [
       "   conversation_id_str                      created_at  favorite_count  \\\n",
       "0  1786040009260445713  Thu May 02 14:28:15 +0000 2024            9620   \n",
       "1  1786277896056864854  Fri May 03 06:13:32 +0000 2024             210   \n",
       "2  1788725387201261835  Fri May 10 00:18:59 +0000 2024             156   \n",
       "3  1786778563557163490  Sat May 04 15:23:00 +0000 2024              42   \n",
       "4  1788764422900732144  Fri May 10 02:54:06 +0000 2024              37   \n",
       "\n",
       "                                           full_text               id_str  \\\n",
       "0   aku ga pernah punya pengalaman serupa tapi be...  1786040009260445713   \n",
       "1  Wuiiih perpanjang kontrak dgn red spark Megawa...  1786277896056864854   \n",
       "2  Ada 3 kepastian di dunia ini: 1) Kematian 2) P...  1788725387201261835   \n",
       "3  Pemerintahan Joe Biden membakar uang pajak war...  1786778563557163490   \n",
       "4  Indonesia memburuk sangat cepat marilah bangki...  1788764422900732144   \n",
       "\n",
       "                                           image_url in_reply_to_screen_name  \\\n",
       "0    https://pbs.twimg.com/media/GMlJ685aAAASA6n.jpg                     NaN   \n",
       "1  https://pbs.twimg.com/ext_tw_video_thumb/17862...                     NaN   \n",
       "2                                                NaN                     NaN   \n",
       "3    https://pbs.twimg.com/media/GMvpomIbkAAYrSE.jpg                     NaN   \n",
       "4    https://pbs.twimg.com/media/GNL3w1Ja4AAHY7u.jpg                     NaN   \n",
       "\n",
       "  lang                        location  quote_count  reply_count  \\\n",
       "0   in                             NaN          638          262   \n",
       "1   in                             58%            3           58   \n",
       "2   in  Michuhol-gu, Republic of Korea            1            9   \n",
       "3   in                       Indonesia            0            3   \n",
       "4   in                             NaN            2            0   \n",
       "\n",
       "   retweet_count                                          tweet_url  \\\n",
       "0            627  https://twitter.com/convomfs/status/1786040009...   \n",
       "1             81  https://twitter.com/toe_giman/status/178627789...   \n",
       "2             18  https://twitter.com/ardisatriawan/status/17887...   \n",
       "3              8  https://twitter.com/Vendra_Deje/status/1786778...   \n",
       "4             24  https://twitter.com/Raky4tB3rs4tu__/status/178...   \n",
       "\n",
       "           user_id_str         username  \n",
       "0  1284061445148209154         convomfs  \n",
       "1  1336576386987790336        toe_giman  \n",
       "2            170542374    ardisatriawan  \n",
       "3            384176072      Vendra_Deje  \n",
       "4  1629184074781954048  Raky4tB3rs4tu__  "
      ]
     },
     "execution_count": 57,
     "metadata": {},
     "output_type": "execute_result"
    }
   ],
   "source": [
    "data.head()"
   ]
  },
  {
   "cell_type": "code",
   "execution_count": 58,
   "metadata": {},
   "outputs": [
    {
     "name": "stdout",
     "output_type": "stream",
     "text": [
      "<class 'pandas.core.frame.DataFrame'>\n",
      "Index: 2955 entries, 0 to 593\n",
      "Data columns (total 15 columns):\n",
      " #   Column                   Non-Null Count  Dtype \n",
      "---  ------                   --------------  ----- \n",
      " 0   conversation_id_str      2955 non-null   int64 \n",
      " 1   created_at               2955 non-null   object\n",
      " 2   favorite_count           2955 non-null   int64 \n",
      " 3   full_text                2955 non-null   object\n",
      " 4   id_str                   2955 non-null   int64 \n",
      " 5   image_url                1202 non-null   object\n",
      " 6   in_reply_to_screen_name  595 non-null    object\n",
      " 7   lang                     2955 non-null   object\n",
      " 8   location                 1955 non-null   object\n",
      " 9   quote_count              2955 non-null   int64 \n",
      " 10  reply_count              2955 non-null   int64 \n",
      " 11  retweet_count            2955 non-null   int64 \n",
      " 12  tweet_url                2955 non-null   object\n",
      " 13  user_id_str              2955 non-null   int64 \n",
      " 14  username                 2955 non-null   object\n",
      "dtypes: int64(7), object(8)\n",
      "memory usage: 369.4+ KB\n"
     ]
    }
   ],
   "source": [
    "data.info()"
   ]
  },
  {
   "cell_type": "code",
   "execution_count": 59,
   "metadata": {},
   "outputs": [
    {
     "data": {
      "text/html": [
       "<div>\n",
       "<style scoped>\n",
       "    .dataframe tbody tr th:only-of-type {\n",
       "        vertical-align: middle;\n",
       "    }\n",
       "\n",
       "    .dataframe tbody tr th {\n",
       "        vertical-align: top;\n",
       "    }\n",
       "\n",
       "    .dataframe thead th {\n",
       "        text-align: right;\n",
       "    }\n",
       "</style>\n",
       "<table border=\"1\" class=\"dataframe\">\n",
       "  <thead>\n",
       "    <tr style=\"text-align: right;\">\n",
       "      <th></th>\n",
       "      <th>conversation_id_str</th>\n",
       "      <th>favorite_count</th>\n",
       "      <th>id_str</th>\n",
       "      <th>quote_count</th>\n",
       "      <th>reply_count</th>\n",
       "      <th>retweet_count</th>\n",
       "      <th>user_id_str</th>\n",
       "    </tr>\n",
       "  </thead>\n",
       "  <tbody>\n",
       "    <tr>\n",
       "      <th>count</th>\n",
       "      <td>2.955000e+03</td>\n",
       "      <td>2955.000000</td>\n",
       "      <td>2.955000e+03</td>\n",
       "      <td>2955.000000</td>\n",
       "      <td>2955.000000</td>\n",
       "      <td>2955.000000</td>\n",
       "      <td>2.955000e+03</td>\n",
       "    </tr>\n",
       "    <tr>\n",
       "      <th>mean</th>\n",
       "      <td>1.774143e+18</td>\n",
       "      <td>1727.250761</td>\n",
       "      <td>1.774163e+18</td>\n",
       "      <td>57.832487</td>\n",
       "      <td>64.388156</td>\n",
       "      <td>473.622673</td>\n",
       "      <td>7.020478e+17</td>\n",
       "    </tr>\n",
       "    <tr>\n",
       "      <th>std</th>\n",
       "      <td>7.317340e+16</td>\n",
       "      <td>5766.266791</td>\n",
       "      <td>7.317592e+16</td>\n",
       "      <td>332.045320</td>\n",
       "      <td>241.746094</td>\n",
       "      <td>1637.588647</td>\n",
       "      <td>7.048841e+17</td>\n",
       "    </tr>\n",
       "    <tr>\n",
       "      <th>min</th>\n",
       "      <td>2.498896e+17</td>\n",
       "      <td>0.000000</td>\n",
       "      <td>2.498896e+17</td>\n",
       "      <td>0.000000</td>\n",
       "      <td>0.000000</td>\n",
       "      <td>0.000000</td>\n",
       "      <td>7.442530e+05</td>\n",
       "    </tr>\n",
       "    <tr>\n",
       "      <th>25%</th>\n",
       "      <td>1.783009e+18</td>\n",
       "      <td>8.000000</td>\n",
       "      <td>1.783017e+18</td>\n",
       "      <td>0.000000</td>\n",
       "      <td>1.000000</td>\n",
       "      <td>2.000000</td>\n",
       "      <td>2.375303e+08</td>\n",
       "    </tr>\n",
       "    <tr>\n",
       "      <th>50%</th>\n",
       "      <td>1.784411e+18</td>\n",
       "      <td>45.000000</td>\n",
       "      <td>1.784413e+18</td>\n",
       "      <td>1.000000</td>\n",
       "      <td>4.000000</td>\n",
       "      <td>12.000000</td>\n",
       "      <td>7.865173e+17</td>\n",
       "    </tr>\n",
       "    <tr>\n",
       "      <th>75%</th>\n",
       "      <td>1.785910e+18</td>\n",
       "      <td>378.000000</td>\n",
       "      <td>1.785937e+18</td>\n",
       "      <td>7.000000</td>\n",
       "      <td>20.000000</td>\n",
       "      <td>90.000000</td>\n",
       "      <td>1.391916e+18</td>\n",
       "    </tr>\n",
       "    <tr>\n",
       "      <th>max</th>\n",
       "      <td>1.788873e+18</td>\n",
       "      <td>64155.000000</td>\n",
       "      <td>1.788873e+18</td>\n",
       "      <td>9325.000000</td>\n",
       "      <td>3072.000000</td>\n",
       "      <td>32782.000000</td>\n",
       "      <td>1.775367e+18</td>\n",
       "    </tr>\n",
       "  </tbody>\n",
       "</table>\n",
       "</div>"
      ],
      "text/plain": [
       "       conversation_id_str  favorite_count        id_str  quote_count  \\\n",
       "count         2.955000e+03     2955.000000  2.955000e+03  2955.000000   \n",
       "mean          1.774143e+18     1727.250761  1.774163e+18    57.832487   \n",
       "std           7.317340e+16     5766.266791  7.317592e+16   332.045320   \n",
       "min           2.498896e+17        0.000000  2.498896e+17     0.000000   \n",
       "25%           1.783009e+18        8.000000  1.783017e+18     0.000000   \n",
       "50%           1.784411e+18       45.000000  1.784413e+18     1.000000   \n",
       "75%           1.785910e+18      378.000000  1.785937e+18     7.000000   \n",
       "max           1.788873e+18    64155.000000  1.788873e+18  9325.000000   \n",
       "\n",
       "       reply_count  retweet_count   user_id_str  \n",
       "count  2955.000000    2955.000000  2.955000e+03  \n",
       "mean     64.388156     473.622673  7.020478e+17  \n",
       "std     241.746094    1637.588647  7.048841e+17  \n",
       "min       0.000000       0.000000  7.442530e+05  \n",
       "25%       1.000000       2.000000  2.375303e+08  \n",
       "50%       4.000000      12.000000  7.865173e+17  \n",
       "75%      20.000000      90.000000  1.391916e+18  \n",
       "max    3072.000000   32782.000000  1.775367e+18  "
      ]
     },
     "execution_count": 59,
     "metadata": {},
     "output_type": "execute_result"
    }
   ],
   "source": [
    "data.describe()"
   ]
  },
  {
   "cell_type": "code",
   "execution_count": 60,
   "metadata": {},
   "outputs": [
    {
     "data": {
      "text/plain": [
       "conversation_id_str           0\n",
       "created_at                    0\n",
       "favorite_count                0\n",
       "full_text                     0\n",
       "id_str                        0\n",
       "image_url                  1753\n",
       "in_reply_to_screen_name    2360\n",
       "lang                          0\n",
       "location                   1000\n",
       "quote_count                   0\n",
       "reply_count                   0\n",
       "retweet_count                 0\n",
       "tweet_url                     0\n",
       "user_id_str                   0\n",
       "username                      0\n",
       "dtype: int64"
      ]
     },
     "execution_count": 60,
     "metadata": {},
     "output_type": "execute_result"
    }
   ],
   "source": [
    "data.isna().sum()"
   ]
  },
  {
   "cell_type": "markdown",
   "metadata": {},
   "source": [
    "## Drop unwanted columns"
   ]
  },
  {
   "cell_type": "code",
   "execution_count": 61,
   "metadata": {},
   "outputs": [
    {
     "data": {
      "text/html": [
       "<div>\n",
       "<style scoped>\n",
       "    .dataframe tbody tr th:only-of-type {\n",
       "        vertical-align: middle;\n",
       "    }\n",
       "\n",
       "    .dataframe tbody tr th {\n",
       "        vertical-align: top;\n",
       "    }\n",
       "\n",
       "    .dataframe thead th {\n",
       "        text-align: right;\n",
       "    }\n",
       "</style>\n",
       "<table border=\"1\" class=\"dataframe\">\n",
       "  <thead>\n",
       "    <tr style=\"text-align: right;\">\n",
       "      <th></th>\n",
       "      <th>full_text</th>\n",
       "    </tr>\n",
       "  </thead>\n",
       "  <tbody>\n",
       "    <tr>\n",
       "      <th>0</th>\n",
       "      <td>aku ga pernah punya pengalaman serupa tapi be...</td>\n",
       "    </tr>\n",
       "    <tr>\n",
       "      <th>1</th>\n",
       "      <td>Wuiiih perpanjang kontrak dgn red spark Megawa...</td>\n",
       "    </tr>\n",
       "    <tr>\n",
       "      <th>2</th>\n",
       "      <td>Ada 3 kepastian di dunia ini: 1) Kematian 2) P...</td>\n",
       "    </tr>\n",
       "    <tr>\n",
       "      <th>3</th>\n",
       "      <td>Pemerintahan Joe Biden membakar uang pajak war...</td>\n",
       "    </tr>\n",
       "    <tr>\n",
       "      <th>4</th>\n",
       "      <td>Indonesia memburuk sangat cepat marilah bangki...</td>\n",
       "    </tr>\n",
       "  </tbody>\n",
       "</table>\n",
       "</div>"
      ],
      "text/plain": [
       "                                           full_text\n",
       "0   aku ga pernah punya pengalaman serupa tapi be...\n",
       "1  Wuiiih perpanjang kontrak dgn red spark Megawa...\n",
       "2  Ada 3 kepastian di dunia ini: 1) Kematian 2) P...\n",
       "3  Pemerintahan Joe Biden membakar uang pajak war...\n",
       "4  Indonesia memburuk sangat cepat marilah bangki..."
      ]
     },
     "execution_count": 61,
     "metadata": {},
     "output_type": "execute_result"
    }
   ],
   "source": [
    "data = data[['full_text']]\n",
    "data.head()"
   ]
  },
  {
   "cell_type": "markdown",
   "metadata": {},
   "source": [
    "## Drop missing values & duplicate data"
   ]
  },
  {
   "cell_type": "code",
   "execution_count": 62,
   "metadata": {},
   "outputs": [
    {
     "data": {
      "text/plain": [
       "(full_text    0\n",
       " dtype: int64,\n",
       " (2955, 1))"
      ]
     },
     "execution_count": 62,
     "metadata": {},
     "output_type": "execute_result"
    }
   ],
   "source": [
    "data.isna().sum(), data.shape"
   ]
  },
  {
   "cell_type": "code",
   "execution_count": 63,
   "metadata": {},
   "outputs": [
    {
     "data": {
      "text/plain": [
       "(1533, 1)"
      ]
     },
     "execution_count": 63,
     "metadata": {},
     "output_type": "execute_result"
    }
   ],
   "source": [
    "data.drop_duplicates(inplace=True)\n",
    "data.shape"
   ]
  },
  {
   "cell_type": "code",
   "execution_count": 64,
   "metadata": {},
   "outputs": [],
   "source": [
    "data.to_csv(r'D:\\Code\\py_code\\Text-Processing\\data\\labelled\\clean-column.csv', index=False)\n",
    "data.to_excel(r'D:\\Code\\py_code\\Text-Processing\\data\\labelled\\clean-column.xlsx', index=False)\n"
   ]
  },
  {
   "cell_type": "code",
   "execution_count": 65,
   "metadata": {},
   "outputs": [
    {
     "data": {
      "text/html": [
       "<div>\n",
       "<style scoped>\n",
       "    .dataframe tbody tr th:only-of-type {\n",
       "        vertical-align: middle;\n",
       "    }\n",
       "\n",
       "    .dataframe tbody tr th {\n",
       "        vertical-align: top;\n",
       "    }\n",
       "\n",
       "    .dataframe thead th {\n",
       "        text-align: right;\n",
       "    }\n",
       "</style>\n",
       "<table border=\"1\" class=\"dataframe\">\n",
       "  <thead>\n",
       "    <tr style=\"text-align: right;\">\n",
       "      <th></th>\n",
       "      <th>id_str</th>\n",
       "      <th>full_text</th>\n",
       "      <th>label</th>\n",
       "    </tr>\n",
       "  </thead>\n",
       "  <tbody>\n",
       "    <tr>\n",
       "      <th>0</th>\n",
       "      <td>1</td>\n",
       "      <td>aku ga pernah punya pengalaman serupa tapi be...</td>\n",
       "      <td>0</td>\n",
       "    </tr>\n",
       "    <tr>\n",
       "      <th>1</th>\n",
       "      <td>2</td>\n",
       "      <td>Wujud Revolusi Mental: - Yang dihajar yang min...</td>\n",
       "      <td>0</td>\n",
       "    </tr>\n",
       "    <tr>\n",
       "      <th>2</th>\n",
       "      <td>3</td>\n",
       "      <td>Lagi viral ! Pengusaha empek-empek di Palemban...</td>\n",
       "      <td>1</td>\n",
       "    </tr>\n",
       "    <tr>\n",
       "      <th>3</th>\n",
       "      <td>4</td>\n",
       "      <td>Tolak Bayar Pajak Pasangan Ini Pilih Robek Tas...</td>\n",
       "      <td>0</td>\n",
       "    </tr>\n",
       "    <tr>\n",
       "      <th>4</th>\n",
       "      <td>5</td>\n",
       "      <td>Hukum bekerja dikantor pajak dan bea cukai htt...</td>\n",
       "      <td>1</td>\n",
       "    </tr>\n",
       "  </tbody>\n",
       "</table>\n",
       "</div>"
      ],
      "text/plain": [
       "   id_str                                          full_text  label\n",
       "0       1   aku ga pernah punya pengalaman serupa tapi be...      0\n",
       "1       2  Wujud Revolusi Mental: - Yang dihajar yang min...      0\n",
       "2       3  Lagi viral ! Pengusaha empek-empek di Palemban...      1\n",
       "3       4  Tolak Bayar Pajak Pasangan Ini Pilih Robek Tas...      0\n",
       "4       5  Hukum bekerja dikantor pajak dan bea cukai htt...      1"
      ]
     },
     "execution_count": 65,
     "metadata": {},
     "output_type": "execute_result"
    }
   ],
   "source": [
    "labelled_data = pd.read_excel(r'D:\\Code\\py_code\\Text-Processing\\data\\labelled\\labelled_data.xlsx')\n",
    "labelled_data.head()"
   ]
  }
 ],
 "metadata": {
  "kernelspec": {
   "display_name": "pyenv",
   "language": "python",
   "name": "python3"
  },
  "language_info": {
   "codemirror_mode": {
    "name": "ipython",
    "version": 3
   },
   "file_extension": ".py",
   "mimetype": "text/x-python",
   "name": "python",
   "nbconvert_exporter": "python",
   "pygments_lexer": "ipython3",
   "version": "3.12.3"
  }
 },
 "nbformat": 4,
 "nbformat_minor": 2
}

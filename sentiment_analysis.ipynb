{
 "cells": [
  {
   "cell_type": "markdown",
   "metadata": {},
   "source": [
    "# Import Module"
   ]
  },
  {
   "cell_type": "code",
   "execution_count": 2,
   "metadata": {},
   "outputs": [],
   "source": [
    "import pandas as pd\n",
    "import numpy as np\n",
    "\n",
    "import matplotlib.pyplot as plt\n",
    "import seaborn as sns\n",
    "from plotly import graph_objs as go\n",
    "import plotly.express as px\n",
    "import plotly.figure_factory as ff\n",
    "\n",
    "from PIL import Image\n",
    "from wordcloud import WordCloud, STOPWORDS, ImageColorGenerator\n",
    "\n",
    "import os"
   ]
  },
  {
   "cell_type": "markdown",
   "metadata": {},
   "source": [
    "# Load the data"
   ]
  },
  {
   "cell_type": "code",
   "execution_count": 3,
   "metadata": {},
   "outputs": [
    {
     "name": "stdout",
     "output_type": "stream",
     "text": [
      "['pajak-1.csv', 'pajak-aufa.csv', 'pajak-evi1.csv', 'pajak-evi2.csv', 'pajak.csv']\n"
     ]
    }
   ],
   "source": [
    "import os\n",
    "\n",
    "folder_path = r\"D:\\Code\\py_code\\Text-Processing\\data\\twitter_data\"\n",
    "file_names = os.listdir(folder_path)\n",
    "\n",
    "print(file_names)"
   ]
  },
  {
   "cell_type": "code",
   "execution_count": 4,
   "metadata": {},
   "outputs": [],
   "source": [
    "def load_data(folder_path, file_name):\n",
    "    data = pd.read_csv(os.path.join(folder_path, file_name))\n",
    "    return data"
   ]
  },
  {
   "cell_type": "code",
   "execution_count": 5,
   "metadata": {},
   "outputs": [
    {
     "data": {
      "text/plain": [
       "(2258, 15)"
      ]
     },
     "execution_count": 5,
     "metadata": {},
     "output_type": "execute_result"
    }
   ],
   "source": [
    "data1 = load_data(folder_path, file_names[0])\n",
    "data2 = load_data(folder_path, file_names[1])\n",
    "data3 = load_data(folder_path, file_names[2])\n",
    "data4 = load_data(folder_path, file_names[3])\n",
    "data5 = load_data(folder_path, file_names[4])\n",
    "\n",
    "data = pd.concat([data1, data2, data3, data4, data5], axis=0)\n",
    "data.shape"
   ]
  },
  {
   "cell_type": "markdown",
   "metadata": {},
   "source": [
    "# Preprocessing"
   ]
  },
  {
   "cell_type": "code",
   "execution_count": 6,
   "metadata": {},
   "outputs": [
    {
     "data": {
      "text/html": [
       "<div>\n",
       "<style scoped>\n",
       "    .dataframe tbody tr th:only-of-type {\n",
       "        vertical-align: middle;\n",
       "    }\n",
       "\n",
       "    .dataframe tbody tr th {\n",
       "        vertical-align: top;\n",
       "    }\n",
       "\n",
       "    .dataframe thead th {\n",
       "        text-align: right;\n",
       "    }\n",
       "</style>\n",
       "<table border=\"1\" class=\"dataframe\">\n",
       "  <thead>\n",
       "    <tr style=\"text-align: right;\">\n",
       "      <th></th>\n",
       "      <th>conversation_id_str</th>\n",
       "      <th>created_at</th>\n",
       "      <th>favorite_count</th>\n",
       "      <th>full_text</th>\n",
       "      <th>id_str</th>\n",
       "      <th>image_url</th>\n",
       "      <th>in_reply_to_screen_name</th>\n",
       "      <th>lang</th>\n",
       "      <th>location</th>\n",
       "      <th>quote_count</th>\n",
       "      <th>reply_count</th>\n",
       "      <th>retweet_count</th>\n",
       "      <th>tweet_url</th>\n",
       "      <th>user_id_str</th>\n",
       "      <th>username</th>\n",
       "    </tr>\n",
       "  </thead>\n",
       "  <tbody>\n",
       "    <tr>\n",
       "      <th>0</th>\n",
       "      <td>1786040009260445713</td>\n",
       "      <td>Thu May 02 14:28:15 +0000 2024</td>\n",
       "      <td>3263</td>\n",
       "      <td>aku ga pernah punya pengalaman serupa tapi be...</td>\n",
       "      <td>1786040009260445713</td>\n",
       "      <td>https://pbs.twimg.com/media/GMlJ685aAAASA6n.jpg</td>\n",
       "      <td>NaN</td>\n",
       "      <td>in</td>\n",
       "      <td>NaN</td>\n",
       "      <td>300</td>\n",
       "      <td>109</td>\n",
       "      <td>212</td>\n",
       "      <td>https://twitter.com/convomfs/status/1786040009...</td>\n",
       "      <td>1284061445148209154</td>\n",
       "      <td>convomfs</td>\n",
       "    </tr>\n",
       "    <tr>\n",
       "      <th>1</th>\n",
       "      <td>1786085322604044347</td>\n",
       "      <td>Thu May 02 17:28:19 +0000 2024</td>\n",
       "      <td>2612</td>\n",
       "      <td>Wujud Revolusi Mental: - Yang dihajar yang min...</td>\n",
       "      <td>1786085322604044347</td>\n",
       "      <td>NaN</td>\n",
       "      <td>NaN</td>\n",
       "      <td>in</td>\n",
       "      <td>Depok, Indonesia</td>\n",
       "      <td>11</td>\n",
       "      <td>18</td>\n",
       "      <td>1462</td>\n",
       "      <td>https://twitter.com/andikamalreza/status/17860...</td>\n",
       "      <td>499262326</td>\n",
       "      <td>andikamalreza</td>\n",
       "    </tr>\n",
       "    <tr>\n",
       "      <th>2</th>\n",
       "      <td>1786182532943479201</td>\n",
       "      <td>Thu May 02 23:54:36 +0000 2024</td>\n",
       "      <td>83</td>\n",
       "      <td>Lagi viral ! Pengusaha empek-empek di Palemban...</td>\n",
       "      <td>1786182532943479201</td>\n",
       "      <td>https://pbs.twimg.com/ext_tw_video_thumb/17861...</td>\n",
       "      <td>NaN</td>\n",
       "      <td>in</td>\n",
       "      <td>Ponorogo, Indonesia</td>\n",
       "      <td>8</td>\n",
       "      <td>14</td>\n",
       "      <td>41</td>\n",
       "      <td>https://twitter.com/Naandaa27/status/178618253...</td>\n",
       "      <td>1259753320152887296</td>\n",
       "      <td>Naandaa27</td>\n",
       "    </tr>\n",
       "    <tr>\n",
       "      <th>3</th>\n",
       "      <td>1785628643139698992</td>\n",
       "      <td>Wed May 01 11:13:38 +0000 2024</td>\n",
       "      <td>3985</td>\n",
       "      <td>Tolak Bayar Pajak Pasangan Ini Pilih Robek Tas...</td>\n",
       "      <td>1785628643139698992</td>\n",
       "      <td>https://pbs.twimg.com/media/GMfTyHyb0AAPHIF.jpg</td>\n",
       "      <td>NaN</td>\n",
       "      <td>in</td>\n",
       "      <td>NaN</td>\n",
       "      <td>49</td>\n",
       "      <td>297</td>\n",
       "      <td>567</td>\n",
       "      <td>https://twitter.com/Artic_monkey12/status/1785...</td>\n",
       "      <td>1388483598</td>\n",
       "      <td>Artic_monkey12</td>\n",
       "    </tr>\n",
       "    <tr>\n",
       "      <th>4</th>\n",
       "      <td>1785206063916310954</td>\n",
       "      <td>Tue Apr 30 07:14:27 +0000 2024</td>\n",
       "      <td>771</td>\n",
       "      <td>Hukum bekerja dikantor pajak dan bea cukai htt...</td>\n",
       "      <td>1785206063916310954</td>\n",
       "      <td>https://pbs.twimg.com/ext_tw_video_thumb/17852...</td>\n",
       "      <td>NaN</td>\n",
       "      <td>in</td>\n",
       "      <td>Indonesia</td>\n",
       "      <td>48</td>\n",
       "      <td>95</td>\n",
       "      <td>271</td>\n",
       "      <td>https://twitter.com/fotodakwah/status/17852060...</td>\n",
       "      <td>105428309</td>\n",
       "      <td>fotodakwah</td>\n",
       "    </tr>\n",
       "  </tbody>\n",
       "</table>\n",
       "</div>"
      ],
      "text/plain": [
       "   conversation_id_str                      created_at  favorite_count  \\\n",
       "0  1786040009260445713  Thu May 02 14:28:15 +0000 2024            3263   \n",
       "1  1786085322604044347  Thu May 02 17:28:19 +0000 2024            2612   \n",
       "2  1786182532943479201  Thu May 02 23:54:36 +0000 2024              83   \n",
       "3  1785628643139698992  Wed May 01 11:13:38 +0000 2024            3985   \n",
       "4  1785206063916310954  Tue Apr 30 07:14:27 +0000 2024             771   \n",
       "\n",
       "                                           full_text               id_str  \\\n",
       "0   aku ga pernah punya pengalaman serupa tapi be...  1786040009260445713   \n",
       "1  Wujud Revolusi Mental: - Yang dihajar yang min...  1786085322604044347   \n",
       "2  Lagi viral ! Pengusaha empek-empek di Palemban...  1786182532943479201   \n",
       "3  Tolak Bayar Pajak Pasangan Ini Pilih Robek Tas...  1785628643139698992   \n",
       "4  Hukum bekerja dikantor pajak dan bea cukai htt...  1785206063916310954   \n",
       "\n",
       "                                           image_url in_reply_to_screen_name  \\\n",
       "0    https://pbs.twimg.com/media/GMlJ685aAAASA6n.jpg                     NaN   \n",
       "1                                                NaN                     NaN   \n",
       "2  https://pbs.twimg.com/ext_tw_video_thumb/17861...                     NaN   \n",
       "3    https://pbs.twimg.com/media/GMfTyHyb0AAPHIF.jpg                     NaN   \n",
       "4  https://pbs.twimg.com/ext_tw_video_thumb/17852...                     NaN   \n",
       "\n",
       "  lang             location  quote_count  reply_count  retweet_count  \\\n",
       "0   in                  NaN          300          109            212   \n",
       "1   in     Depok, Indonesia           11           18           1462   \n",
       "2   in  Ponorogo, Indonesia            8           14             41   \n",
       "3   in                  NaN           49          297            567   \n",
       "4   in            Indonesia           48           95            271   \n",
       "\n",
       "                                           tweet_url          user_id_str  \\\n",
       "0  https://twitter.com/convomfs/status/1786040009...  1284061445148209154   \n",
       "1  https://twitter.com/andikamalreza/status/17860...            499262326   \n",
       "2  https://twitter.com/Naandaa27/status/178618253...  1259753320152887296   \n",
       "3  https://twitter.com/Artic_monkey12/status/1785...           1388483598   \n",
       "4  https://twitter.com/fotodakwah/status/17852060...            105428309   \n",
       "\n",
       "         username  \n",
       "0        convomfs  \n",
       "1   andikamalreza  \n",
       "2       Naandaa27  \n",
       "3  Artic_monkey12  \n",
       "4      fotodakwah  "
      ]
     },
     "execution_count": 6,
     "metadata": {},
     "output_type": "execute_result"
    }
   ],
   "source": [
    "data.head()"
   ]
  },
  {
   "cell_type": "code",
   "execution_count": 7,
   "metadata": {},
   "outputs": [
    {
     "name": "stdout",
     "output_type": "stream",
     "text": [
      "<class 'pandas.core.frame.DataFrame'>\n",
      "Index: 2258 entries, 0 to 593\n",
      "Data columns (total 15 columns):\n",
      " #   Column                   Non-Null Count  Dtype \n",
      "---  ------                   --------------  ----- \n",
      " 0   conversation_id_str      2258 non-null   int64 \n",
      " 1   created_at               2258 non-null   object\n",
      " 2   favorite_count           2258 non-null   int64 \n",
      " 3   full_text                2258 non-null   object\n",
      " 4   id_str                   2258 non-null   int64 \n",
      " 5   image_url                857 non-null    object\n",
      " 6   in_reply_to_screen_name  461 non-null    object\n",
      " 7   lang                     2258 non-null   object\n",
      " 8   location                 1532 non-null   object\n",
      " 9   quote_count              2258 non-null   int64 \n",
      " 10  reply_count              2258 non-null   int64 \n",
      " 11  retweet_count            2258 non-null   int64 \n",
      " 12  tweet_url                2258 non-null   object\n",
      " 13  user_id_str              2258 non-null   int64 \n",
      " 14  username                 2258 non-null   object\n",
      "dtypes: int64(7), object(8)\n",
      "memory usage: 282.2+ KB\n"
     ]
    }
   ],
   "source": [
    "data.info()"
   ]
  },
  {
   "cell_type": "code",
   "execution_count": 8,
   "metadata": {},
   "outputs": [
    {
     "data": {
      "text/html": [
       "<div>\n",
       "<style scoped>\n",
       "    .dataframe tbody tr th:only-of-type {\n",
       "        vertical-align: middle;\n",
       "    }\n",
       "\n",
       "    .dataframe tbody tr th {\n",
       "        vertical-align: top;\n",
       "    }\n",
       "\n",
       "    .dataframe thead th {\n",
       "        text-align: right;\n",
       "    }\n",
       "</style>\n",
       "<table border=\"1\" class=\"dataframe\">\n",
       "  <thead>\n",
       "    <tr style=\"text-align: right;\">\n",
       "      <th></th>\n",
       "      <th>conversation_id_str</th>\n",
       "      <th>favorite_count</th>\n",
       "      <th>id_str</th>\n",
       "      <th>quote_count</th>\n",
       "      <th>reply_count</th>\n",
       "      <th>retweet_count</th>\n",
       "      <th>user_id_str</th>\n",
       "    </tr>\n",
       "  </thead>\n",
       "  <tbody>\n",
       "    <tr>\n",
       "      <th>count</th>\n",
       "      <td>2.258000e+03</td>\n",
       "      <td>2258.000000</td>\n",
       "      <td>2.258000e+03</td>\n",
       "      <td>2258.000000</td>\n",
       "      <td>2258.000000</td>\n",
       "      <td>2258.000000</td>\n",
       "      <td>2.258000e+03</td>\n",
       "    </tr>\n",
       "    <tr>\n",
       "      <th>mean</th>\n",
       "      <td>1.770030e+18</td>\n",
       "      <td>2066.302480</td>\n",
       "      <td>1.770052e+18</td>\n",
       "      <td>71.310895</td>\n",
       "      <td>74.966342</td>\n",
       "      <td>573.108503</td>\n",
       "      <td>6.704591e+17</td>\n",
       "    </tr>\n",
       "    <tr>\n",
       "      <th>std</th>\n",
       "      <td>8.328196e+16</td>\n",
       "      <td>6444.182483</td>\n",
       "      <td>8.328505e+16</td>\n",
       "      <td>377.751347</td>\n",
       "      <td>271.080100</td>\n",
       "      <td>1841.943679</td>\n",
       "      <td>6.974322e+17</td>\n",
       "    </tr>\n",
       "    <tr>\n",
       "      <th>min</th>\n",
       "      <td>2.498896e+17</td>\n",
       "      <td>0.000000</td>\n",
       "      <td>2.498896e+17</td>\n",
       "      <td>0.000000</td>\n",
       "      <td>0.000000</td>\n",
       "      <td>0.000000</td>\n",
       "      <td>7.442530e+05</td>\n",
       "    </tr>\n",
       "    <tr>\n",
       "      <th>25%</th>\n",
       "      <td>1.782678e+18</td>\n",
       "      <td>9.000000</td>\n",
       "      <td>1.782691e+18</td>\n",
       "      <td>0.000000</td>\n",
       "      <td>1.000000</td>\n",
       "      <td>2.000000</td>\n",
       "      <td>1.980271e+08</td>\n",
       "    </tr>\n",
       "    <tr>\n",
       "      <th>50%</th>\n",
       "      <td>1.783815e+18</td>\n",
       "      <td>46.000000</td>\n",
       "      <td>1.783820e+18</td>\n",
       "      <td>1.000000</td>\n",
       "      <td>4.000000</td>\n",
       "      <td>12.000000</td>\n",
       "      <td>7.126836e+17</td>\n",
       "    </tr>\n",
       "    <tr>\n",
       "      <th>75%</th>\n",
       "      <td>1.784605e+18</td>\n",
       "      <td>444.000000</td>\n",
       "      <td>1.784608e+18</td>\n",
       "      <td>8.000000</td>\n",
       "      <td>20.000000</td>\n",
       "      <td>98.000000</td>\n",
       "      <td>1.368347e+18</td>\n",
       "    </tr>\n",
       "    <tr>\n",
       "      <th>max</th>\n",
       "      <td>1.786253e+18</td>\n",
       "      <td>64155.000000</td>\n",
       "      <td>1.786253e+18</td>\n",
       "      <td>9325.000000</td>\n",
       "      <td>3072.000000</td>\n",
       "      <td>32782.000000</td>\n",
       "      <td>1.775367e+18</td>\n",
       "    </tr>\n",
       "  </tbody>\n",
       "</table>\n",
       "</div>"
      ],
      "text/plain": [
       "       conversation_id_str  favorite_count        id_str  quote_count  \\\n",
       "count         2.258000e+03     2258.000000  2.258000e+03  2258.000000   \n",
       "mean          1.770030e+18     2066.302480  1.770052e+18    71.310895   \n",
       "std           8.328196e+16     6444.182483  8.328505e+16   377.751347   \n",
       "min           2.498896e+17        0.000000  2.498896e+17     0.000000   \n",
       "25%           1.782678e+18        9.000000  1.782691e+18     0.000000   \n",
       "50%           1.783815e+18       46.000000  1.783820e+18     1.000000   \n",
       "75%           1.784605e+18      444.000000  1.784608e+18     8.000000   \n",
       "max           1.786253e+18    64155.000000  1.786253e+18  9325.000000   \n",
       "\n",
       "       reply_count  retweet_count   user_id_str  \n",
       "count  2258.000000    2258.000000  2.258000e+03  \n",
       "mean     74.966342     573.108503  6.704591e+17  \n",
       "std     271.080100    1841.943679  6.974322e+17  \n",
       "min       0.000000       0.000000  7.442530e+05  \n",
       "25%       1.000000       2.000000  1.980271e+08  \n",
       "50%       4.000000      12.000000  7.126836e+17  \n",
       "75%      20.000000      98.000000  1.368347e+18  \n",
       "max    3072.000000   32782.000000  1.775367e+18  "
      ]
     },
     "execution_count": 8,
     "metadata": {},
     "output_type": "execute_result"
    }
   ],
   "source": [
    "data.describe()"
   ]
  },
  {
   "cell_type": "code",
   "execution_count": 9,
   "metadata": {},
   "outputs": [
    {
     "data": {
      "text/plain": [
       "conversation_id_str           0\n",
       "created_at                    0\n",
       "favorite_count                0\n",
       "full_text                     0\n",
       "id_str                        0\n",
       "image_url                  1401\n",
       "in_reply_to_screen_name    1797\n",
       "lang                          0\n",
       "location                    726\n",
       "quote_count                   0\n",
       "reply_count                   0\n",
       "retweet_count                 0\n",
       "tweet_url                     0\n",
       "user_id_str                   0\n",
       "username                      0\n",
       "dtype: int64"
      ]
     },
     "execution_count": 9,
     "metadata": {},
     "output_type": "execute_result"
    }
   ],
   "source": [
    "data.isna().sum()"
   ]
  },
  {
   "cell_type": "markdown",
   "metadata": {},
   "source": [
    "## Drop unwanted columns"
   ]
  },
  {
   "cell_type": "code",
   "execution_count": 10,
   "metadata": {},
   "outputs": [
    {
     "data": {
      "text/html": [
       "<div>\n",
       "<style scoped>\n",
       "    .dataframe tbody tr th:only-of-type {\n",
       "        vertical-align: middle;\n",
       "    }\n",
       "\n",
       "    .dataframe tbody tr th {\n",
       "        vertical-align: top;\n",
       "    }\n",
       "\n",
       "    .dataframe thead th {\n",
       "        text-align: right;\n",
       "    }\n",
       "</style>\n",
       "<table border=\"1\" class=\"dataframe\">\n",
       "  <thead>\n",
       "    <tr style=\"text-align: right;\">\n",
       "      <th></th>\n",
       "      <th>id_str</th>\n",
       "      <th>full_text</th>\n",
       "    </tr>\n",
       "  </thead>\n",
       "  <tbody>\n",
       "    <tr>\n",
       "      <th>0</th>\n",
       "      <td>1786040009260445713</td>\n",
       "      <td>aku ga pernah punya pengalaman serupa tapi be...</td>\n",
       "    </tr>\n",
       "    <tr>\n",
       "      <th>1</th>\n",
       "      <td>1786085322604044347</td>\n",
       "      <td>Wujud Revolusi Mental: - Yang dihajar yang min...</td>\n",
       "    </tr>\n",
       "    <tr>\n",
       "      <th>2</th>\n",
       "      <td>1786182532943479201</td>\n",
       "      <td>Lagi viral ! Pengusaha empek-empek di Palemban...</td>\n",
       "    </tr>\n",
       "    <tr>\n",
       "      <th>3</th>\n",
       "      <td>1785628643139698992</td>\n",
       "      <td>Tolak Bayar Pajak Pasangan Ini Pilih Robek Tas...</td>\n",
       "    </tr>\n",
       "    <tr>\n",
       "      <th>4</th>\n",
       "      <td>1785206063916310954</td>\n",
       "      <td>Hukum bekerja dikantor pajak dan bea cukai htt...</td>\n",
       "    </tr>\n",
       "  </tbody>\n",
       "</table>\n",
       "</div>"
      ],
      "text/plain": [
       "                id_str                                          full_text\n",
       "0  1786040009260445713   aku ga pernah punya pengalaman serupa tapi be...\n",
       "1  1786085322604044347  Wujud Revolusi Mental: - Yang dihajar yang min...\n",
       "2  1786182532943479201  Lagi viral ! Pengusaha empek-empek di Palemban...\n",
       "3  1785628643139698992  Tolak Bayar Pajak Pasangan Ini Pilih Robek Tas...\n",
       "4  1785206063916310954  Hukum bekerja dikantor pajak dan bea cukai htt..."
      ]
     },
     "execution_count": 10,
     "metadata": {},
     "output_type": "execute_result"
    }
   ],
   "source": [
    "data = data[['id_str', 'full_text']]\n",
    "data.head()"
   ]
  },
  {
   "cell_type": "markdown",
   "metadata": {},
   "source": [
    "## Drop missing values & duplicate data"
   ]
  },
  {
   "cell_type": "code",
   "execution_count": 11,
   "metadata": {},
   "outputs": [
    {
     "data": {
      "text/plain": [
       "(id_str       0\n",
       " full_text    0\n",
       " dtype: int64,\n",
       " (2258, 2))"
      ]
     },
     "execution_count": 11,
     "metadata": {},
     "output_type": "execute_result"
    }
   ],
   "source": [
    "data.isna().sum(), data.shape"
   ]
  },
  {
   "cell_type": "code",
   "execution_count": 12,
   "metadata": {},
   "outputs": [
    {
     "data": {
      "text/plain": [
       "(1177, 2)"
      ]
     },
     "execution_count": 12,
     "metadata": {},
     "output_type": "execute_result"
    }
   ],
   "source": [
    "data.drop_duplicates(inplace=True)\n",
    "data.shape"
   ]
  },
  {
   "cell_type": "code",
   "execution_count": 13,
   "metadata": {},
   "outputs": [],
   "source": [
    "data.to_csv(r'D:\\Code\\py_code\\Text-Processing\\data\\labelled\\clean-column.csv', index=False)\n",
    "data.to_excel(r'D:\\Code\\py_code\\Text-Processing\\data\\labelled\\clean-column.xlsx', index=False)\n"
   ]
  },
  {
   "cell_type": "code",
   "execution_count": 14,
   "metadata": {},
   "outputs": [
    {
     "data": {
      "text/html": [
       "<div>\n",
       "<style scoped>\n",
       "    .dataframe tbody tr th:only-of-type {\n",
       "        vertical-align: middle;\n",
       "    }\n",
       "\n",
       "    .dataframe tbody tr th {\n",
       "        vertical-align: top;\n",
       "    }\n",
       "\n",
       "    .dataframe thead th {\n",
       "        text-align: right;\n",
       "    }\n",
       "</style>\n",
       "<table border=\"1\" class=\"dataframe\">\n",
       "  <thead>\n",
       "    <tr style=\"text-align: right;\">\n",
       "      <th></th>\n",
       "      <th>id_str</th>\n",
       "      <th>full_text</th>\n",
       "      <th>label</th>\n",
       "    </tr>\n",
       "  </thead>\n",
       "  <tbody>\n",
       "    <tr>\n",
       "      <th>0</th>\n",
       "      <td>1</td>\n",
       "      <td>aku ga pernah punya pengalaman serupa tapi be...</td>\n",
       "      <td>0</td>\n",
       "    </tr>\n",
       "    <tr>\n",
       "      <th>1</th>\n",
       "      <td>2</td>\n",
       "      <td>Wujud Revolusi Mental: - Yang dihajar yang min...</td>\n",
       "      <td>0</td>\n",
       "    </tr>\n",
       "    <tr>\n",
       "      <th>2</th>\n",
       "      <td>3</td>\n",
       "      <td>Lagi viral ! Pengusaha empek-empek di Palemban...</td>\n",
       "      <td>2</td>\n",
       "    </tr>\n",
       "    <tr>\n",
       "      <th>3</th>\n",
       "      <td>4</td>\n",
       "      <td>Tolak Bayar Pajak Pasangan Ini Pilih Robek Tas...</td>\n",
       "      <td>0</td>\n",
       "    </tr>\n",
       "    <tr>\n",
       "      <th>4</th>\n",
       "      <td>5</td>\n",
       "      <td>Hukum bekerja dikantor pajak dan bea cukai htt...</td>\n",
       "      <td>2</td>\n",
       "    </tr>\n",
       "  </tbody>\n",
       "</table>\n",
       "</div>"
      ],
      "text/plain": [
       "   id_str                                          full_text  label\n",
       "0       1   aku ga pernah punya pengalaman serupa tapi be...      0\n",
       "1       2  Wujud Revolusi Mental: - Yang dihajar yang min...      0\n",
       "2       3  Lagi viral ! Pengusaha empek-empek di Palemban...      2\n",
       "3       4  Tolak Bayar Pajak Pasangan Ini Pilih Robek Tas...      0\n",
       "4       5  Hukum bekerja dikantor pajak dan bea cukai htt...      2"
      ]
     },
     "execution_count": 14,
     "metadata": {},
     "output_type": "execute_result"
    }
   ],
   "source": [
    "labelled_data = pd.read_excel(r'D:\\Code\\py_code\\Text-Processing\\data\\labelled\\labelled_data.xlsx')\n",
    "labelled_data.head()"
   ]
  },
  {
   "cell_type": "markdown",
   "metadata": {},
   "source": [
    "# Text Preprocessing"
   ]
  },
  {
   "cell_type": "code",
   "execution_count": 15,
   "metadata": {},
   "outputs": [],
   "source": [
    "import string \n",
    "import re\n",
    "\n",
    "from nltk.tokenize import word_tokenize \n",
    "from nltk.probability import FreqDist"
   ]
  },
  {
   "cell_type": "markdown",
   "metadata": {},
   "source": [
    "### Case Folding (Lowercase)"
   ]
  },
  {
   "cell_type": "code",
   "execution_count": 16,
   "metadata": {},
   "outputs": [
    {
     "data": {
      "text/html": [
       "<div>\n",
       "<style scoped>\n",
       "    .dataframe tbody tr th:only-of-type {\n",
       "        vertical-align: middle;\n",
       "    }\n",
       "\n",
       "    .dataframe tbody tr th {\n",
       "        vertical-align: top;\n",
       "    }\n",
       "\n",
       "    .dataframe thead th {\n",
       "        text-align: right;\n",
       "    }\n",
       "</style>\n",
       "<table border=\"1\" class=\"dataframe\">\n",
       "  <thead>\n",
       "    <tr style=\"text-align: right;\">\n",
       "      <th></th>\n",
       "      <th>id_str</th>\n",
       "      <th>full_text</th>\n",
       "      <th>label</th>\n",
       "    </tr>\n",
       "  </thead>\n",
       "  <tbody>\n",
       "    <tr>\n",
       "      <th>0</th>\n",
       "      <td>1</td>\n",
       "      <td>aku ga pernah punya pengalaman serupa tapi be...</td>\n",
       "      <td>0</td>\n",
       "    </tr>\n",
       "    <tr>\n",
       "      <th>1</th>\n",
       "      <td>2</td>\n",
       "      <td>wujud revolusi mental: - yang dihajar yang min...</td>\n",
       "      <td>0</td>\n",
       "    </tr>\n",
       "    <tr>\n",
       "      <th>2</th>\n",
       "      <td>3</td>\n",
       "      <td>lagi viral ! pengusaha empek-empek di palemban...</td>\n",
       "      <td>2</td>\n",
       "    </tr>\n",
       "    <tr>\n",
       "      <th>3</th>\n",
       "      <td>4</td>\n",
       "      <td>tolak bayar pajak pasangan ini pilih robek tas...</td>\n",
       "      <td>0</td>\n",
       "    </tr>\n",
       "    <tr>\n",
       "      <th>4</th>\n",
       "      <td>5</td>\n",
       "      <td>hukum bekerja dikantor pajak dan bea cukai htt...</td>\n",
       "      <td>2</td>\n",
       "    </tr>\n",
       "  </tbody>\n",
       "</table>\n",
       "</div>"
      ],
      "text/plain": [
       "   id_str                                          full_text  label\n",
       "0       1   aku ga pernah punya pengalaman serupa tapi be...      0\n",
       "1       2  wujud revolusi mental: - yang dihajar yang min...      0\n",
       "2       3  lagi viral ! pengusaha empek-empek di palemban...      2\n",
       "3       4  tolak bayar pajak pasangan ini pilih robek tas...      0\n",
       "4       5  hukum bekerja dikantor pajak dan bea cukai htt...      2"
      ]
     },
     "execution_count": 16,
     "metadata": {},
     "output_type": "execute_result"
    }
   ],
   "source": [
    "labelled_data['full_text'] = labelled_data['full_text'].str.lower()\n",
    "labelled_data.head()"
   ]
  },
  {
   "cell_type": "markdown",
   "metadata": {},
   "source": [
    "### Remove URL link"
   ]
  },
  {
   "cell_type": "code",
   "execution_count": 17,
   "metadata": {},
   "outputs": [],
   "source": [
    "def remove_tweet_special(text):\n",
    "    text = text.replace('\\\\t',\" \").replace('\\\\n',\" \").replace('\\\\u',\" \").replace('\\\\',\"\")\n",
    "    text = text.encode('ascii', 'replace').decode('ascii')\n",
    "    text = ' '.join(re.sub(r\"([@#][A-Za-z0-9]+)|(http://|https://)\\S+\", \" \", text).split())\n",
    "    return text.replace(\"http://\", \" \").replace(\"https://\", \" \")"
   ]
  },
  {
   "cell_type": "code",
   "execution_count": 18,
   "metadata": {},
   "outputs": [
    {
     "data": {
      "text/html": [
       "<div>\n",
       "<style scoped>\n",
       "    .dataframe tbody tr th:only-of-type {\n",
       "        vertical-align: middle;\n",
       "    }\n",
       "\n",
       "    .dataframe tbody tr th {\n",
       "        vertical-align: top;\n",
       "    }\n",
       "\n",
       "    .dataframe thead th {\n",
       "        text-align: right;\n",
       "    }\n",
       "</style>\n",
       "<table border=\"1\" class=\"dataframe\">\n",
       "  <thead>\n",
       "    <tr style=\"text-align: right;\">\n",
       "      <th></th>\n",
       "      <th>id_str</th>\n",
       "      <th>full_text</th>\n",
       "      <th>label</th>\n",
       "    </tr>\n",
       "  </thead>\n",
       "  <tbody>\n",
       "    <tr>\n",
       "      <th>0</th>\n",
       "      <td>1</td>\n",
       "      <td>aku ga pernah punya pengalaman serupa tapi bea...</td>\n",
       "      <td>0</td>\n",
       "    </tr>\n",
       "    <tr>\n",
       "      <th>1</th>\n",
       "      <td>2</td>\n",
       "      <td>wujud revolusi mental: - yang dihajar yang min...</td>\n",
       "      <td>0</td>\n",
       "    </tr>\n",
       "    <tr>\n",
       "      <th>2</th>\n",
       "      <td>3</td>\n",
       "      <td>lagi viral ! pengusaha empek-empek di palemban...</td>\n",
       "      <td>2</td>\n",
       "    </tr>\n",
       "    <tr>\n",
       "      <th>3</th>\n",
       "      <td>4</td>\n",
       "      <td>tolak bayar pajak pasangan ini pilih robek tas...</td>\n",
       "      <td>0</td>\n",
       "    </tr>\n",
       "    <tr>\n",
       "      <th>4</th>\n",
       "      <td>5</td>\n",
       "      <td>hukum bekerja dikantor pajak dan bea cukai</td>\n",
       "      <td>2</td>\n",
       "    </tr>\n",
       "  </tbody>\n",
       "</table>\n",
       "</div>"
      ],
      "text/plain": [
       "   id_str                                          full_text  label\n",
       "0       1  aku ga pernah punya pengalaman serupa tapi bea...      0\n",
       "1       2  wujud revolusi mental: - yang dihajar yang min...      0\n",
       "2       3  lagi viral ! pengusaha empek-empek di palemban...      2\n",
       "3       4  tolak bayar pajak pasangan ini pilih robek tas...      0\n",
       "4       5         hukum bekerja dikantor pajak dan bea cukai      2"
      ]
     },
     "execution_count": 18,
     "metadata": {},
     "output_type": "execute_result"
    }
   ],
   "source": [
    "labelled_data['full_text'] = labelled_data['full_text'].apply(remove_tweet_special)\n",
    "labelled_data.head()"
   ]
  },
  {
   "cell_type": "markdown",
   "metadata": {},
   "source": [
    "### Remove Numbers"
   ]
  },
  {
   "cell_type": "code",
   "execution_count": 19,
   "metadata": {},
   "outputs": [],
   "source": [
    "def remove_number(text):\n",
    "    return  re.sub(r\"\\d+\", \"\", text)"
   ]
  },
  {
   "cell_type": "code",
   "execution_count": 20,
   "metadata": {},
   "outputs": [
    {
     "data": {
      "text/html": [
       "<div>\n",
       "<style scoped>\n",
       "    .dataframe tbody tr th:only-of-type {\n",
       "        vertical-align: middle;\n",
       "    }\n",
       "\n",
       "    .dataframe tbody tr th {\n",
       "        vertical-align: top;\n",
       "    }\n",
       "\n",
       "    .dataframe thead th {\n",
       "        text-align: right;\n",
       "    }\n",
       "</style>\n",
       "<table border=\"1\" class=\"dataframe\">\n",
       "  <thead>\n",
       "    <tr style=\"text-align: right;\">\n",
       "      <th></th>\n",
       "      <th>id_str</th>\n",
       "      <th>full_text</th>\n",
       "      <th>label</th>\n",
       "    </tr>\n",
       "  </thead>\n",
       "  <tbody>\n",
       "    <tr>\n",
       "      <th>0</th>\n",
       "      <td>1</td>\n",
       "      <td>aku ga pernah punya pengalaman serupa tapi bea...</td>\n",
       "      <td>0</td>\n",
       "    </tr>\n",
       "    <tr>\n",
       "      <th>1</th>\n",
       "      <td>2</td>\n",
       "      <td>wujud revolusi mental: - yang dihajar yang min...</td>\n",
       "      <td>0</td>\n",
       "    </tr>\n",
       "    <tr>\n",
       "      <th>2</th>\n",
       "      <td>3</td>\n",
       "      <td>lagi viral ! pengusaha empek-empek di palemban...</td>\n",
       "      <td>2</td>\n",
       "    </tr>\n",
       "    <tr>\n",
       "      <th>3</th>\n",
       "      <td>4</td>\n",
       "      <td>tolak bayar pajak pasangan ini pilih robek tas...</td>\n",
       "      <td>0</td>\n",
       "    </tr>\n",
       "    <tr>\n",
       "      <th>4</th>\n",
       "      <td>5</td>\n",
       "      <td>hukum bekerja dikantor pajak dan bea cukai</td>\n",
       "      <td>2</td>\n",
       "    </tr>\n",
       "  </tbody>\n",
       "</table>\n",
       "</div>"
      ],
      "text/plain": [
       "   id_str                                          full_text  label\n",
       "0       1  aku ga pernah punya pengalaman serupa tapi bea...      0\n",
       "1       2  wujud revolusi mental: - yang dihajar yang min...      0\n",
       "2       3  lagi viral ! pengusaha empek-empek di palemban...      2\n",
       "3       4  tolak bayar pajak pasangan ini pilih robek tas...      0\n",
       "4       5         hukum bekerja dikantor pajak dan bea cukai      2"
      ]
     },
     "execution_count": 20,
     "metadata": {},
     "output_type": "execute_result"
    }
   ],
   "source": [
    "labelled_data['full_text'] = labelled_data['full_text'].apply(remove_number)\n",
    "labelled_data.head()"
   ]
  },
  {
   "cell_type": "markdown",
   "metadata": {},
   "source": [
    "### Remove Punctuation"
   ]
  },
  {
   "cell_type": "code",
   "execution_count": 21,
   "metadata": {},
   "outputs": [],
   "source": [
    "def remove_punctuation(text):\n",
    "    return text.translate(str.maketrans(\"\",\"\",string.punctuation))"
   ]
  },
  {
   "cell_type": "code",
   "execution_count": 22,
   "metadata": {},
   "outputs": [
    {
     "data": {
      "text/html": [
       "<div>\n",
       "<style scoped>\n",
       "    .dataframe tbody tr th:only-of-type {\n",
       "        vertical-align: middle;\n",
       "    }\n",
       "\n",
       "    .dataframe tbody tr th {\n",
       "        vertical-align: top;\n",
       "    }\n",
       "\n",
       "    .dataframe thead th {\n",
       "        text-align: right;\n",
       "    }\n",
       "</style>\n",
       "<table border=\"1\" class=\"dataframe\">\n",
       "  <thead>\n",
       "    <tr style=\"text-align: right;\">\n",
       "      <th></th>\n",
       "      <th>id_str</th>\n",
       "      <th>full_text</th>\n",
       "      <th>label</th>\n",
       "    </tr>\n",
       "  </thead>\n",
       "  <tbody>\n",
       "    <tr>\n",
       "      <th>0</th>\n",
       "      <td>1</td>\n",
       "      <td>aku ga pernah punya pengalaman serupa tapi bea...</td>\n",
       "      <td>0</td>\n",
       "    </tr>\n",
       "    <tr>\n",
       "      <th>1</th>\n",
       "      <td>2</td>\n",
       "      <td>wujud revolusi mental  yang dihajar yang minta...</td>\n",
       "      <td>0</td>\n",
       "    </tr>\n",
       "    <tr>\n",
       "      <th>2</th>\n",
       "      <td>3</td>\n",
       "      <td>lagi viral  pengusaha empekempek di palembang ...</td>\n",
       "      <td>2</td>\n",
       "    </tr>\n",
       "    <tr>\n",
       "      <th>3</th>\n",
       "      <td>4</td>\n",
       "      <td>tolak bayar pajak pasangan ini pilih robek tas...</td>\n",
       "      <td>0</td>\n",
       "    </tr>\n",
       "    <tr>\n",
       "      <th>4</th>\n",
       "      <td>5</td>\n",
       "      <td>hukum bekerja dikantor pajak dan bea cukai</td>\n",
       "      <td>2</td>\n",
       "    </tr>\n",
       "  </tbody>\n",
       "</table>\n",
       "</div>"
      ],
      "text/plain": [
       "   id_str                                          full_text  label\n",
       "0       1  aku ga pernah punya pengalaman serupa tapi bea...      0\n",
       "1       2  wujud revolusi mental  yang dihajar yang minta...      0\n",
       "2       3  lagi viral  pengusaha empekempek di palembang ...      2\n",
       "3       4  tolak bayar pajak pasangan ini pilih robek tas...      0\n",
       "4       5         hukum bekerja dikantor pajak dan bea cukai      2"
      ]
     },
     "execution_count": 22,
     "metadata": {},
     "output_type": "execute_result"
    }
   ],
   "source": [
    "labelled_data['full_text'] = labelled_data['full_text'].apply(remove_punctuation)\n",
    "labelled_data.head()"
   ]
  },
  {
   "cell_type": "markdown",
   "metadata": {},
   "source": [
    "### Remove Whitespace"
   ]
  },
  {
   "cell_type": "code",
   "execution_count": 23,
   "metadata": {},
   "outputs": [],
   "source": [
    "def remove_whitespace_lt(text):\n",
    "    return text.strip()\n",
    "\n",
    "def remove_whitespace_multiple(text):\n",
    "    return re.sub(r'\\s+',' ',text)"
   ]
  },
  {
   "cell_type": "code",
   "execution_count": 24,
   "metadata": {},
   "outputs": [
    {
     "data": {
      "text/html": [
       "<div>\n",
       "<style scoped>\n",
       "    .dataframe tbody tr th:only-of-type {\n",
       "        vertical-align: middle;\n",
       "    }\n",
       "\n",
       "    .dataframe tbody tr th {\n",
       "        vertical-align: top;\n",
       "    }\n",
       "\n",
       "    .dataframe thead th {\n",
       "        text-align: right;\n",
       "    }\n",
       "</style>\n",
       "<table border=\"1\" class=\"dataframe\">\n",
       "  <thead>\n",
       "    <tr style=\"text-align: right;\">\n",
       "      <th></th>\n",
       "      <th>id_str</th>\n",
       "      <th>full_text</th>\n",
       "      <th>label</th>\n",
       "    </tr>\n",
       "  </thead>\n",
       "  <tbody>\n",
       "    <tr>\n",
       "      <th>0</th>\n",
       "      <td>1</td>\n",
       "      <td>aku ga pernah punya pengalaman serupa tapi bea...</td>\n",
       "      <td>0</td>\n",
       "    </tr>\n",
       "    <tr>\n",
       "      <th>1</th>\n",
       "      <td>2</td>\n",
       "      <td>wujud revolusi mental yang dihajar yang minta ...</td>\n",
       "      <td>0</td>\n",
       "    </tr>\n",
       "    <tr>\n",
       "      <th>2</th>\n",
       "      <td>3</td>\n",
       "      <td>lagi viral pengusaha empekempek di palembang d...</td>\n",
       "      <td>2</td>\n",
       "    </tr>\n",
       "    <tr>\n",
       "      <th>3</th>\n",
       "      <td>4</td>\n",
       "      <td>tolak bayar pajak pasangan ini pilih robek tas...</td>\n",
       "      <td>0</td>\n",
       "    </tr>\n",
       "    <tr>\n",
       "      <th>4</th>\n",
       "      <td>5</td>\n",
       "      <td>hukum bekerja dikantor pajak dan bea cukai</td>\n",
       "      <td>2</td>\n",
       "    </tr>\n",
       "  </tbody>\n",
       "</table>\n",
       "</div>"
      ],
      "text/plain": [
       "   id_str                                          full_text  label\n",
       "0       1  aku ga pernah punya pengalaman serupa tapi bea...      0\n",
       "1       2  wujud revolusi mental yang dihajar yang minta ...      0\n",
       "2       3  lagi viral pengusaha empekempek di palembang d...      2\n",
       "3       4  tolak bayar pajak pasangan ini pilih robek tas...      0\n",
       "4       5         hukum bekerja dikantor pajak dan bea cukai      2"
      ]
     },
     "execution_count": 24,
     "metadata": {},
     "output_type": "execute_result"
    }
   ],
   "source": [
    "labelled_data['full_text'] = labelled_data['full_text'].apply(remove_whitespace_lt)\n",
    "labelled_data['full_text'] = labelled_data['full_text'].apply(remove_whitespace_multiple)\n",
    "labelled_data.head()"
   ]
  },
  {
   "cell_type": "markdown",
   "metadata": {},
   "source": [
    "### Remove Single Character"
   ]
  },
  {
   "cell_type": "code",
   "execution_count": 25,
   "metadata": {},
   "outputs": [],
   "source": [
    "def remove_singl_char(text):\n",
    "    return re.sub(r\"\\b[a-zA-Z]\\b\", \"\", text)"
   ]
  },
  {
   "cell_type": "code",
   "execution_count": 26,
   "metadata": {},
   "outputs": [
    {
     "data": {
      "text/html": [
       "<div>\n",
       "<style scoped>\n",
       "    .dataframe tbody tr th:only-of-type {\n",
       "        vertical-align: middle;\n",
       "    }\n",
       "\n",
       "    .dataframe tbody tr th {\n",
       "        vertical-align: top;\n",
       "    }\n",
       "\n",
       "    .dataframe thead th {\n",
       "        text-align: right;\n",
       "    }\n",
       "</style>\n",
       "<table border=\"1\" class=\"dataframe\">\n",
       "  <thead>\n",
       "    <tr style=\"text-align: right;\">\n",
       "      <th></th>\n",
       "      <th>id_str</th>\n",
       "      <th>full_text</th>\n",
       "      <th>label</th>\n",
       "    </tr>\n",
       "  </thead>\n",
       "  <tbody>\n",
       "    <tr>\n",
       "      <th>0</th>\n",
       "      <td>1</td>\n",
       "      <td>aku ga pernah punya pengalaman serupa tapi bea...</td>\n",
       "      <td>0</td>\n",
       "    </tr>\n",
       "    <tr>\n",
       "      <th>1</th>\n",
       "      <td>2</td>\n",
       "      <td>wujud revolusi mental yang dihajar yang minta ...</td>\n",
       "      <td>0</td>\n",
       "    </tr>\n",
       "    <tr>\n",
       "      <th>2</th>\n",
       "      <td>3</td>\n",
       "      <td>lagi viral pengusaha empekempek di palembang d...</td>\n",
       "      <td>2</td>\n",
       "    </tr>\n",
       "    <tr>\n",
       "      <th>3</th>\n",
       "      <td>4</td>\n",
       "      <td>tolak bayar pajak pasangan ini pilih robek tas...</td>\n",
       "      <td>0</td>\n",
       "    </tr>\n",
       "    <tr>\n",
       "      <th>4</th>\n",
       "      <td>5</td>\n",
       "      <td>hukum bekerja dikantor pajak dan bea cukai</td>\n",
       "      <td>2</td>\n",
       "    </tr>\n",
       "  </tbody>\n",
       "</table>\n",
       "</div>"
      ],
      "text/plain": [
       "   id_str                                          full_text  label\n",
       "0       1  aku ga pernah punya pengalaman serupa tapi bea...      0\n",
       "1       2  wujud revolusi mental yang dihajar yang minta ...      0\n",
       "2       3  lagi viral pengusaha empekempek di palembang d...      2\n",
       "3       4  tolak bayar pajak pasangan ini pilih robek tas...      0\n",
       "4       5         hukum bekerja dikantor pajak dan bea cukai      2"
      ]
     },
     "execution_count": 26,
     "metadata": {},
     "output_type": "execute_result"
    }
   ],
   "source": [
    "labelled_data['full_text'] = labelled_data['full_text'].apply(remove_singl_char)\n",
    "labelled_data.head()"
   ]
  },
  {
   "cell_type": "markdown",
   "metadata": {},
   "source": [
    "### Tokenization"
   ]
  },
  {
   "cell_type": "code",
   "execution_count": 27,
   "metadata": {},
   "outputs": [],
   "source": [
    "def word_tokenize_wrapper(text):\n",
    "    return word_tokenize(text)"
   ]
  },
  {
   "cell_type": "code",
   "execution_count": 28,
   "metadata": {},
   "outputs": [
    {
     "data": {
      "text/html": [
       "<div>\n",
       "<style scoped>\n",
       "    .dataframe tbody tr th:only-of-type {\n",
       "        vertical-align: middle;\n",
       "    }\n",
       "\n",
       "    .dataframe tbody tr th {\n",
       "        vertical-align: top;\n",
       "    }\n",
       "\n",
       "    .dataframe thead th {\n",
       "        text-align: right;\n",
       "    }\n",
       "</style>\n",
       "<table border=\"1\" class=\"dataframe\">\n",
       "  <thead>\n",
       "    <tr style=\"text-align: right;\">\n",
       "      <th></th>\n",
       "      <th>id_str</th>\n",
       "      <th>full_text</th>\n",
       "      <th>label</th>\n",
       "      <th>tweet_tokens</th>\n",
       "    </tr>\n",
       "  </thead>\n",
       "  <tbody>\n",
       "    <tr>\n",
       "      <th>0</th>\n",
       "      <td>1</td>\n",
       "      <td>aku ga pernah punya pengalaman serupa tapi bea...</td>\n",
       "      <td>0</td>\n",
       "      <td>[aku, ga, pernah, punya, pengalaman, serupa, t...</td>\n",
       "    </tr>\n",
       "    <tr>\n",
       "      <th>1</th>\n",
       "      <td>2</td>\n",
       "      <td>wujud revolusi mental yang dihajar yang minta ...</td>\n",
       "      <td>0</td>\n",
       "      <td>[wujud, revolusi, mental, yang, dihajar, yang,...</td>\n",
       "    </tr>\n",
       "    <tr>\n",
       "      <th>2</th>\n",
       "      <td>3</td>\n",
       "      <td>lagi viral pengusaha empekempek di palembang d...</td>\n",
       "      <td>2</td>\n",
       "      <td>[lagi, viral, pengusaha, empekempek, di, palem...</td>\n",
       "    </tr>\n",
       "    <tr>\n",
       "      <th>3</th>\n",
       "      <td>4</td>\n",
       "      <td>tolak bayar pajak pasangan ini pilih robek tas...</td>\n",
       "      <td>0</td>\n",
       "      <td>[tolak, bayar, pajak, pasangan, ini, pilih, ro...</td>\n",
       "    </tr>\n",
       "    <tr>\n",
       "      <th>4</th>\n",
       "      <td>5</td>\n",
       "      <td>hukum bekerja dikantor pajak dan bea cukai</td>\n",
       "      <td>2</td>\n",
       "      <td>[hukum, bekerja, dikantor, pajak, dan, bea, cu...</td>\n",
       "    </tr>\n",
       "  </tbody>\n",
       "</table>\n",
       "</div>"
      ],
      "text/plain": [
       "   id_str                                          full_text  label  \\\n",
       "0       1  aku ga pernah punya pengalaman serupa tapi bea...      0   \n",
       "1       2  wujud revolusi mental yang dihajar yang minta ...      0   \n",
       "2       3  lagi viral pengusaha empekempek di palembang d...      2   \n",
       "3       4  tolak bayar pajak pasangan ini pilih robek tas...      0   \n",
       "4       5         hukum bekerja dikantor pajak dan bea cukai      2   \n",
       "\n",
       "                                        tweet_tokens  \n",
       "0  [aku, ga, pernah, punya, pengalaman, serupa, t...  \n",
       "1  [wujud, revolusi, mental, yang, dihajar, yang,...  \n",
       "2  [lagi, viral, pengusaha, empekempek, di, palem...  \n",
       "3  [tolak, bayar, pajak, pasangan, ini, pilih, ro...  \n",
       "4  [hukum, bekerja, dikantor, pajak, dan, bea, cu...  "
      ]
     },
     "execution_count": 28,
     "metadata": {},
     "output_type": "execute_result"
    }
   ],
   "source": [
    "labelled_data['tweet_tokens'] = labelled_data['full_text'].apply(word_tokenize_wrapper)\n",
    "labelled_data.head()"
   ]
  },
  {
   "cell_type": "markdown",
   "metadata": {},
   "source": [
    "### Stopwords"
   ]
  },
  {
   "cell_type": "code",
   "execution_count": 29,
   "metadata": {},
   "outputs": [],
   "source": [
    "from nltk.corpus import stopwords"
   ]
  },
  {
   "cell_type": "code",
   "execution_count": 30,
   "metadata": {},
   "outputs": [],
   "source": [
    "list_stopwords = stopwords.words('indonesian')\n",
    "list_stopwords.extend([\"yg\", \"dg\", \"rt\", \"dgn\", \"ny\", \"d\", 'klo', \n",
    "                       'kalo', 'amp', 'biar', 'bikin', 'bilang', \n",
    "                       'gak', 'ga', 'krn', 'nya', 'nih', 'sih', \n",
    "                       'si', 'tau', 'tdk', 'tuh', 'utk', 'ya', \n",
    "                       'jd', 'jgn', 'sdh', 'aja', 'n', 't', \n",
    "                       'nyg', 'hehe', 'pen', 'u', 'nan', 'loh', 'rt',\n",
    "                       '&amp', 'yah'])\n",
    "\n",
    "txt_stopword = pd.read_csv(\"stopwords.txt\", names= [\"stopwords\"], header = None)\n",
    "list_stopwords.extend(txt_stopword[\"stopwords\"][0].split(' '))\n",
    "list_stopwords = set(list_stopwords)"
   ]
  },
  {
   "cell_type": "code",
   "execution_count": 31,
   "metadata": {},
   "outputs": [],
   "source": [
    "def stopwords_removal(words):\n",
    "    return [word for word in words if word not in list_stopwords]"
   ]
  },
  {
   "cell_type": "code",
   "execution_count": 32,
   "metadata": {},
   "outputs": [
    {
     "data": {
      "text/html": [
       "<div>\n",
       "<style scoped>\n",
       "    .dataframe tbody tr th:only-of-type {\n",
       "        vertical-align: middle;\n",
       "    }\n",
       "\n",
       "    .dataframe tbody tr th {\n",
       "        vertical-align: top;\n",
       "    }\n",
       "\n",
       "    .dataframe thead th {\n",
       "        text-align: right;\n",
       "    }\n",
       "</style>\n",
       "<table border=\"1\" class=\"dataframe\">\n",
       "  <thead>\n",
       "    <tr style=\"text-align: right;\">\n",
       "      <th></th>\n",
       "      <th>id_str</th>\n",
       "      <th>full_text</th>\n",
       "      <th>label</th>\n",
       "      <th>tweet_tokens</th>\n",
       "      <th>tweet_tokens_wsw</th>\n",
       "    </tr>\n",
       "  </thead>\n",
       "  <tbody>\n",
       "    <tr>\n",
       "      <th>0</th>\n",
       "      <td>1</td>\n",
       "      <td>aku ga pernah punya pengalaman serupa tapi bea...</td>\n",
       "      <td>0</td>\n",
       "      <td>[aku, ga, pernah, punya, pengalaman, serupa, t...</td>\n",
       "      <td>[pengalaman, bea, cukai, kerjaannya, dah, liat...</td>\n",
       "    </tr>\n",
       "    <tr>\n",
       "      <th>1</th>\n",
       "      <td>2</td>\n",
       "      <td>wujud revolusi mental yang dihajar yang minta ...</td>\n",
       "      <td>0</td>\n",
       "      <td>[wujud, revolusi, mental, yang, dihajar, yang,...</td>\n",
       "      <td>[wujud, revolusi, mental, dihajar, maaf, nyeto...</td>\n",
       "    </tr>\n",
       "    <tr>\n",
       "      <th>2</th>\n",
       "      <td>3</td>\n",
       "      <td>lagi viral pengusaha empekempek di palembang d...</td>\n",
       "      <td>2</td>\n",
       "      <td>[lagi, viral, pengusaha, empekempek, di, palem...</td>\n",
       "      <td>[viral, pengusaha, empekempek, palembang, dita...</td>\n",
       "    </tr>\n",
       "    <tr>\n",
       "      <th>3</th>\n",
       "      <td>4</td>\n",
       "      <td>tolak bayar pajak pasangan ini pilih robek tas...</td>\n",
       "      <td>0</td>\n",
       "      <td>[tolak, bayar, pajak, pasangan, ini, pilih, ro...</td>\n",
       "      <td>[tolak, bayar, pajak, pasangan, pilih, robek, ...</td>\n",
       "    </tr>\n",
       "    <tr>\n",
       "      <th>4</th>\n",
       "      <td>5</td>\n",
       "      <td>hukum bekerja dikantor pajak dan bea cukai</td>\n",
       "      <td>2</td>\n",
       "      <td>[hukum, bekerja, dikantor, pajak, dan, bea, cu...</td>\n",
       "      <td>[hukum, dikantor, pajak, bea, cukai]</td>\n",
       "    </tr>\n",
       "  </tbody>\n",
       "</table>\n",
       "</div>"
      ],
      "text/plain": [
       "   id_str                                          full_text  label  \\\n",
       "0       1  aku ga pernah punya pengalaman serupa tapi bea...      0   \n",
       "1       2  wujud revolusi mental yang dihajar yang minta ...      0   \n",
       "2       3  lagi viral pengusaha empekempek di palembang d...      2   \n",
       "3       4  tolak bayar pajak pasangan ini pilih robek tas...      0   \n",
       "4       5         hukum bekerja dikantor pajak dan bea cukai      2   \n",
       "\n",
       "                                        tweet_tokens  \\\n",
       "0  [aku, ga, pernah, punya, pengalaman, serupa, t...   \n",
       "1  [wujud, revolusi, mental, yang, dihajar, yang,...   \n",
       "2  [lagi, viral, pengusaha, empekempek, di, palem...   \n",
       "3  [tolak, bayar, pajak, pasangan, ini, pilih, ro...   \n",
       "4  [hukum, bekerja, dikantor, pajak, dan, bea, cu...   \n",
       "\n",
       "                                    tweet_tokens_wsw  \n",
       "0  [pengalaman, bea, cukai, kerjaannya, dah, liat...  \n",
       "1  [wujud, revolusi, mental, dihajar, maaf, nyeto...  \n",
       "2  [viral, pengusaha, empekempek, palembang, dita...  \n",
       "3  [tolak, bayar, pajak, pasangan, pilih, robek, ...  \n",
       "4               [hukum, dikantor, pajak, bea, cukai]  "
      ]
     },
     "execution_count": 32,
     "metadata": {},
     "output_type": "execute_result"
    }
   ],
   "source": [
    "labelled_data['tweet_tokens_wsw'] = labelled_data['tweet_tokens'].apply(stopwords_removal)\n",
    "labelled_data.head()"
   ]
  },
  {
   "cell_type": "markdown",
   "metadata": {},
   "source": [
    "### Stemming"
   ]
  },
  {
   "cell_type": "code",
   "execution_count": 33,
   "metadata": {},
   "outputs": [
    {
     "name": "stderr",
     "output_type": "stream",
     "text": [
      "c:\\Users\\Asus Vivobook\\anaconda3\\envs\\pyenv\\Lib\\site-packages\\tqdm\\auto.py:21: TqdmWarning: IProgress not found. Please update jupyter and ipywidgets. See https://ipywidgets.readthedocs.io/en/stable/user_install.html\n",
      "  from .autonotebook import tqdm as notebook_tqdm\n"
     ]
    }
   ],
   "source": [
    "from Sastrawi.Stemmer.StemmerFactory import StemmerFactory\n",
    "import swifter\n",
    "from tqdm import tqdm"
   ]
  },
  {
   "cell_type": "code",
   "execution_count": 34,
   "metadata": {},
   "outputs": [],
   "source": [
    "factory = StemmerFactory()\n",
    "stemmer = factory.create_stemmer()"
   ]
  },
  {
   "cell_type": "code",
   "execution_count": 35,
   "metadata": {},
   "outputs": [
    {
     "name": "stderr",
     "output_type": "stream",
     "text": [
      "100%|██████████| 5996/5996 [05:17<00:00, 18.89it/s]\n"
     ]
    }
   ],
   "source": [
    "def stemmed_wrapper(term):\n",
    "    return stemmer.stem(term)\n",
    "\n",
    "term_dict = {}\n",
    "\n",
    "for document in labelled_data['tweet_tokens_wsw']:\n",
    "    for term in document:\n",
    "        if term not in term_dict:\n",
    "            term_dict[term] = ' '\n",
    "\n",
    "for term in tqdm(term_dict):\n",
    "    term_dict[term] = stemmed_wrapper(term)\n",
    "\n",
    "def get_stemmed_term(document):\n",
    "    return [term_dict[term] for term in document]"
   ]
  },
  {
   "cell_type": "code",
   "execution_count": 36,
   "metadata": {},
   "outputs": [
    {
     "name": "stderr",
     "output_type": "stream",
     "text": [
      "Pandas Apply: 100%|██████████| 1177/1177 [00:00<00:00, 343517.90it/s]\n"
     ]
    },
    {
     "data": {
      "text/html": [
       "<div>\n",
       "<style scoped>\n",
       "    .dataframe tbody tr th:only-of-type {\n",
       "        vertical-align: middle;\n",
       "    }\n",
       "\n",
       "    .dataframe tbody tr th {\n",
       "        vertical-align: top;\n",
       "    }\n",
       "\n",
       "    .dataframe thead th {\n",
       "        text-align: right;\n",
       "    }\n",
       "</style>\n",
       "<table border=\"1\" class=\"dataframe\">\n",
       "  <thead>\n",
       "    <tr style=\"text-align: right;\">\n",
       "      <th></th>\n",
       "      <th>id_str</th>\n",
       "      <th>full_text</th>\n",
       "      <th>label</th>\n",
       "      <th>tweet_tokens</th>\n",
       "      <th>tweet_tokens_wsw</th>\n",
       "      <th>tweet_tokens_stemmed</th>\n",
       "    </tr>\n",
       "  </thead>\n",
       "  <tbody>\n",
       "    <tr>\n",
       "      <th>0</th>\n",
       "      <td>1</td>\n",
       "      <td>aku ga pernah punya pengalaman serupa tapi bea...</td>\n",
       "      <td>0</td>\n",
       "      <td>[aku, ga, pernah, punya, pengalaman, serupa, t...</td>\n",
       "      <td>[pengalaman, bea, cukai, kerjaannya, dah, liat...</td>\n",
       "      <td>[alam, bea, cukai, kerja, dah, liat, berita, s...</td>\n",
       "    </tr>\n",
       "    <tr>\n",
       "      <th>1</th>\n",
       "      <td>2</td>\n",
       "      <td>wujud revolusi mental yang dihajar yang minta ...</td>\n",
       "      <td>0</td>\n",
       "      <td>[wujud, revolusi, mental, yang, dihajar, yang,...</td>\n",
       "      <td>[wujud, revolusi, mental, dihajar, maaf, nyeto...</td>\n",
       "      <td>[wujud, revolusi, mental, hajar, maaf, nyetor,...</td>\n",
       "    </tr>\n",
       "    <tr>\n",
       "      <th>2</th>\n",
       "      <td>3</td>\n",
       "      <td>lagi viral pengusaha empekempek di palembang d...</td>\n",
       "      <td>2</td>\n",
       "      <td>[lagi, viral, pengusaha, empekempek, di, palem...</td>\n",
       "      <td>[viral, pengusaha, empekempek, palembang, dita...</td>\n",
       "      <td>[viral, usaha, empekempek, palembang, tagih, p...</td>\n",
       "    </tr>\n",
       "    <tr>\n",
       "      <th>3</th>\n",
       "      <td>4</td>\n",
       "      <td>tolak bayar pajak pasangan ini pilih robek tas...</td>\n",
       "      <td>0</td>\n",
       "      <td>[tolak, bayar, pajak, pasangan, ini, pilih, ro...</td>\n",
       "      <td>[tolak, bayar, pajak, pasangan, pilih, robek, ...</td>\n",
       "      <td>[tolak, bayar, pajak, pasang, pilih, robek, ta...</td>\n",
       "    </tr>\n",
       "    <tr>\n",
       "      <th>4</th>\n",
       "      <td>5</td>\n",
       "      <td>hukum bekerja dikantor pajak dan bea cukai</td>\n",
       "      <td>2</td>\n",
       "      <td>[hukum, bekerja, dikantor, pajak, dan, bea, cu...</td>\n",
       "      <td>[hukum, dikantor, pajak, bea, cukai]</td>\n",
       "      <td>[hukum, kantor, pajak, bea, cukai]</td>\n",
       "    </tr>\n",
       "  </tbody>\n",
       "</table>\n",
       "</div>"
      ],
      "text/plain": [
       "   id_str                                          full_text  label  \\\n",
       "0       1  aku ga pernah punya pengalaman serupa tapi bea...      0   \n",
       "1       2  wujud revolusi mental yang dihajar yang minta ...      0   \n",
       "2       3  lagi viral pengusaha empekempek di palembang d...      2   \n",
       "3       4  tolak bayar pajak pasangan ini pilih robek tas...      0   \n",
       "4       5         hukum bekerja dikantor pajak dan bea cukai      2   \n",
       "\n",
       "                                        tweet_tokens  \\\n",
       "0  [aku, ga, pernah, punya, pengalaman, serupa, t...   \n",
       "1  [wujud, revolusi, mental, yang, dihajar, yang,...   \n",
       "2  [lagi, viral, pengusaha, empekempek, di, palem...   \n",
       "3  [tolak, bayar, pajak, pasangan, ini, pilih, ro...   \n",
       "4  [hukum, bekerja, dikantor, pajak, dan, bea, cu...   \n",
       "\n",
       "                                    tweet_tokens_wsw  \\\n",
       "0  [pengalaman, bea, cukai, kerjaannya, dah, liat...   \n",
       "1  [wujud, revolusi, mental, dihajar, maaf, nyeto...   \n",
       "2  [viral, pengusaha, empekempek, palembang, dita...   \n",
       "3  [tolak, bayar, pajak, pasangan, pilih, robek, ...   \n",
       "4               [hukum, dikantor, pajak, bea, cukai]   \n",
       "\n",
       "                                tweet_tokens_stemmed  \n",
       "0  [alam, bea, cukai, kerja, dah, liat, berita, s...  \n",
       "1  [wujud, revolusi, mental, hajar, maaf, nyetor,...  \n",
       "2  [viral, usaha, empekempek, palembang, tagih, p...  \n",
       "3  [tolak, bayar, pajak, pasang, pilih, robek, ta...  \n",
       "4                 [hukum, kantor, pajak, bea, cukai]  "
      ]
     },
     "execution_count": 36,
     "metadata": {},
     "output_type": "execute_result"
    }
   ],
   "source": [
    "labelled_data['tweet_tokens_stemmed'] = labelled_data['tweet_tokens_wsw'].swifter.apply(get_stemmed_term)\n",
    "labelled_data.head()"
   ]
  },
  {
   "cell_type": "code",
   "execution_count": 37,
   "metadata": {},
   "outputs": [],
   "source": [
    "labelled_data = labelled_data.dropna()\n",
    "labelled_data.to_csv(r'D:\\Code\\py_code\\Text-Processing\\data\\clean\\preprocessed_data.csv', index=False)"
   ]
  },
  {
   "cell_type": "markdown",
   "metadata": {},
   "source": [
    "# TF-IDF"
   ]
  },
  {
   "cell_type": "markdown",
   "metadata": {},
   "source": [
    "### Prepare Corpus"
   ]
  },
  {
   "cell_type": "code",
   "execution_count": 38,
   "metadata": {},
   "outputs": [],
   "source": [
    "import ast"
   ]
  },
  {
   "cell_type": "code",
   "execution_count": 39,
   "metadata": {},
   "outputs": [
    {
     "data": {
      "text/html": [
       "<div>\n",
       "<style scoped>\n",
       "    .dataframe tbody tr th:only-of-type {\n",
       "        vertical-align: middle;\n",
       "    }\n",
       "\n",
       "    .dataframe tbody tr th {\n",
       "        vertical-align: top;\n",
       "    }\n",
       "\n",
       "    .dataframe thead th {\n",
       "        text-align: right;\n",
       "    }\n",
       "</style>\n",
       "<table border=\"1\" class=\"dataframe\">\n",
       "  <thead>\n",
       "    <tr style=\"text-align: right;\">\n",
       "      <th></th>\n",
       "      <th>id_str</th>\n",
       "      <th>full_text</th>\n",
       "      <th>label</th>\n",
       "      <th>tweet_tokens</th>\n",
       "      <th>tweet_tokens_wsw</th>\n",
       "      <th>tweet_tokens_stemmed</th>\n",
       "    </tr>\n",
       "  </thead>\n",
       "  <tbody>\n",
       "    <tr>\n",
       "      <th>0</th>\n",
       "      <td>1</td>\n",
       "      <td>aku ga pernah punya pengalaman serupa tapi bea...</td>\n",
       "      <td>0</td>\n",
       "      <td>['aku', 'ga', 'pernah', 'punya', 'pengalaman',...</td>\n",
       "      <td>['pengalaman', 'bea', 'cukai', 'kerjaannya', '...</td>\n",
       "      <td>['alam', 'bea', 'cukai', 'kerja', 'dah', 'liat...</td>\n",
       "    </tr>\n",
       "    <tr>\n",
       "      <th>1</th>\n",
       "      <td>2</td>\n",
       "      <td>wujud revolusi mental yang dihajar yang minta ...</td>\n",
       "      <td>0</td>\n",
       "      <td>['wujud', 'revolusi', 'mental', 'yang', 'dihaj...</td>\n",
       "      <td>['wujud', 'revolusi', 'mental', 'dihajar', 'ma...</td>\n",
       "      <td>['wujud', 'revolusi', 'mental', 'hajar', 'maaf...</td>\n",
       "    </tr>\n",
       "    <tr>\n",
       "      <th>2</th>\n",
       "      <td>3</td>\n",
       "      <td>lagi viral pengusaha empekempek di palembang d...</td>\n",
       "      <td>2</td>\n",
       "      <td>['lagi', 'viral', 'pengusaha', 'empekempek', '...</td>\n",
       "      <td>['viral', 'pengusaha', 'empekempek', 'palemban...</td>\n",
       "      <td>['viral', 'usaha', 'empekempek', 'palembang', ...</td>\n",
       "    </tr>\n",
       "    <tr>\n",
       "      <th>3</th>\n",
       "      <td>4</td>\n",
       "      <td>tolak bayar pajak pasangan ini pilih robek tas...</td>\n",
       "      <td>0</td>\n",
       "      <td>['tolak', 'bayar', 'pajak', 'pasangan', 'ini',...</td>\n",
       "      <td>['tolak', 'bayar', 'pajak', 'pasangan', 'pilih...</td>\n",
       "      <td>['tolak', 'bayar', 'pajak', 'pasang', 'pilih',...</td>\n",
       "    </tr>\n",
       "    <tr>\n",
       "      <th>4</th>\n",
       "      <td>5</td>\n",
       "      <td>hukum bekerja dikantor pajak dan bea cukai</td>\n",
       "      <td>2</td>\n",
       "      <td>['hukum', 'bekerja', 'dikantor', 'pajak', 'dan...</td>\n",
       "      <td>['hukum', 'dikantor', 'pajak', 'bea', 'cukai']</td>\n",
       "      <td>['hukum', 'kantor', 'pajak', 'bea', 'cukai']</td>\n",
       "    </tr>\n",
       "  </tbody>\n",
       "</table>\n",
       "</div>"
      ],
      "text/plain": [
       "   id_str                                          full_text  label  \\\n",
       "0       1  aku ga pernah punya pengalaman serupa tapi bea...      0   \n",
       "1       2  wujud revolusi mental yang dihajar yang minta ...      0   \n",
       "2       3  lagi viral pengusaha empekempek di palembang d...      2   \n",
       "3       4  tolak bayar pajak pasangan ini pilih robek tas...      0   \n",
       "4       5         hukum bekerja dikantor pajak dan bea cukai      2   \n",
       "\n",
       "                                        tweet_tokens  \\\n",
       "0  ['aku', 'ga', 'pernah', 'punya', 'pengalaman',...   \n",
       "1  ['wujud', 'revolusi', 'mental', 'yang', 'dihaj...   \n",
       "2  ['lagi', 'viral', 'pengusaha', 'empekempek', '...   \n",
       "3  ['tolak', 'bayar', 'pajak', 'pasangan', 'ini',...   \n",
       "4  ['hukum', 'bekerja', 'dikantor', 'pajak', 'dan...   \n",
       "\n",
       "                                    tweet_tokens_wsw  \\\n",
       "0  ['pengalaman', 'bea', 'cukai', 'kerjaannya', '...   \n",
       "1  ['wujud', 'revolusi', 'mental', 'dihajar', 'ma...   \n",
       "2  ['viral', 'pengusaha', 'empekempek', 'palemban...   \n",
       "3  ['tolak', 'bayar', 'pajak', 'pasangan', 'pilih...   \n",
       "4     ['hukum', 'dikantor', 'pajak', 'bea', 'cukai']   \n",
       "\n",
       "                                tweet_tokens_stemmed  \n",
       "0  ['alam', 'bea', 'cukai', 'kerja', 'dah', 'liat...  \n",
       "1  ['wujud', 'revolusi', 'mental', 'hajar', 'maaf...  \n",
       "2  ['viral', 'usaha', 'empekempek', 'palembang', ...  \n",
       "3  ['tolak', 'bayar', 'pajak', 'pasang', 'pilih',...  \n",
       "4       ['hukum', 'kantor', 'pajak', 'bea', 'cukai']  "
      ]
     },
     "execution_count": 39,
     "metadata": {},
     "output_type": "execute_result"
    }
   ],
   "source": [
    "processed_data = pd.read_csv(r'D:\\Code\\py_code\\Text-Processing\\data\\clean\\preprocessed_data.csv')\n",
    "processed_data.head()"
   ]
  },
  {
   "cell_type": "code",
   "execution_count": 40,
   "metadata": {},
   "outputs": [],
   "source": [
    "def join_text_list(texts):\n",
    "    texts = ast.literal_eval(texts)\n",
    "    return ' '.join([text for text in texts])"
   ]
  },
  {
   "cell_type": "code",
   "execution_count": 41,
   "metadata": {},
   "outputs": [
    {
     "data": {
      "text/html": [
       "<div>\n",
       "<style scoped>\n",
       "    .dataframe tbody tr th:only-of-type {\n",
       "        vertical-align: middle;\n",
       "    }\n",
       "\n",
       "    .dataframe tbody tr th {\n",
       "        vertical-align: top;\n",
       "    }\n",
       "\n",
       "    .dataframe thead th {\n",
       "        text-align: right;\n",
       "    }\n",
       "</style>\n",
       "<table border=\"1\" class=\"dataframe\">\n",
       "  <thead>\n",
       "    <tr style=\"text-align: right;\">\n",
       "      <th></th>\n",
       "      <th>id_str</th>\n",
       "      <th>full_text</th>\n",
       "      <th>label</th>\n",
       "      <th>tweet_tokens</th>\n",
       "      <th>tweet_tokens_wsw</th>\n",
       "      <th>tweet_tokens_stemmed</th>\n",
       "      <th>tweet_join</th>\n",
       "    </tr>\n",
       "  </thead>\n",
       "  <tbody>\n",
       "    <tr>\n",
       "      <th>0</th>\n",
       "      <td>1</td>\n",
       "      <td>aku ga pernah punya pengalaman serupa tapi bea...</td>\n",
       "      <td>0</td>\n",
       "      <td>['aku', 'ga', 'pernah', 'punya', 'pengalaman',...</td>\n",
       "      <td>['pengalaman', 'bea', 'cukai', 'kerjaannya', '...</td>\n",
       "      <td>['alam', 'bea', 'cukai', 'kerja', 'dah', 'liat...</td>\n",
       "      <td>alam bea cukai kerja dah liat berita seliwer k...</td>\n",
       "    </tr>\n",
       "    <tr>\n",
       "      <th>1</th>\n",
       "      <td>2</td>\n",
       "      <td>wujud revolusi mental yang dihajar yang minta ...</td>\n",
       "      <td>0</td>\n",
       "      <td>['wujud', 'revolusi', 'mental', 'yang', 'dihaj...</td>\n",
       "      <td>['wujud', 'revolusi', 'mental', 'dihajar', 'ma...</td>\n",
       "      <td>['wujud', 'revolusi', 'mental', 'hajar', 'maaf...</td>\n",
       "      <td>wujud revolusi mental hajar maaf nyetor pajak ...</td>\n",
       "    </tr>\n",
       "    <tr>\n",
       "      <th>2</th>\n",
       "      <td>3</td>\n",
       "      <td>lagi viral pengusaha empekempek di palembang d...</td>\n",
       "      <td>2</td>\n",
       "      <td>['lagi', 'viral', 'pengusaha', 'empekempek', '...</td>\n",
       "      <td>['viral', 'pengusaha', 'empekempek', 'palemban...</td>\n",
       "      <td>['viral', 'usaha', 'empekempek', 'palembang', ...</td>\n",
       "      <td>viral usaha empekempek palembang tagih pajak n...</td>\n",
       "    </tr>\n",
       "    <tr>\n",
       "      <th>3</th>\n",
       "      <td>4</td>\n",
       "      <td>tolak bayar pajak pasangan ini pilih robek tas...</td>\n",
       "      <td>0</td>\n",
       "      <td>['tolak', 'bayar', 'pajak', 'pasangan', 'ini',...</td>\n",
       "      <td>['tolak', 'bayar', 'pajak', 'pasangan', 'pilih...</td>\n",
       "      <td>['tolak', 'bayar', 'pajak', 'pasang', 'pilih',...</td>\n",
       "      <td>tolak bayar pajak pasang pilih robek tas herme...</td>\n",
       "    </tr>\n",
       "    <tr>\n",
       "      <th>4</th>\n",
       "      <td>5</td>\n",
       "      <td>hukum bekerja dikantor pajak dan bea cukai</td>\n",
       "      <td>2</td>\n",
       "      <td>['hukum', 'bekerja', 'dikantor', 'pajak', 'dan...</td>\n",
       "      <td>['hukum', 'dikantor', 'pajak', 'bea', 'cukai']</td>\n",
       "      <td>['hukum', 'kantor', 'pajak', 'bea', 'cukai']</td>\n",
       "      <td>hukum kantor pajak bea cukai</td>\n",
       "    </tr>\n",
       "  </tbody>\n",
       "</table>\n",
       "</div>"
      ],
      "text/plain": [
       "   id_str                                          full_text  label  \\\n",
       "0       1  aku ga pernah punya pengalaman serupa tapi bea...      0   \n",
       "1       2  wujud revolusi mental yang dihajar yang minta ...      0   \n",
       "2       3  lagi viral pengusaha empekempek di palembang d...      2   \n",
       "3       4  tolak bayar pajak pasangan ini pilih robek tas...      0   \n",
       "4       5         hukum bekerja dikantor pajak dan bea cukai      2   \n",
       "\n",
       "                                        tweet_tokens  \\\n",
       "0  ['aku', 'ga', 'pernah', 'punya', 'pengalaman',...   \n",
       "1  ['wujud', 'revolusi', 'mental', 'yang', 'dihaj...   \n",
       "2  ['lagi', 'viral', 'pengusaha', 'empekempek', '...   \n",
       "3  ['tolak', 'bayar', 'pajak', 'pasangan', 'ini',...   \n",
       "4  ['hukum', 'bekerja', 'dikantor', 'pajak', 'dan...   \n",
       "\n",
       "                                    tweet_tokens_wsw  \\\n",
       "0  ['pengalaman', 'bea', 'cukai', 'kerjaannya', '...   \n",
       "1  ['wujud', 'revolusi', 'mental', 'dihajar', 'ma...   \n",
       "2  ['viral', 'pengusaha', 'empekempek', 'palemban...   \n",
       "3  ['tolak', 'bayar', 'pajak', 'pasangan', 'pilih...   \n",
       "4     ['hukum', 'dikantor', 'pajak', 'bea', 'cukai']   \n",
       "\n",
       "                                tweet_tokens_stemmed  \\\n",
       "0  ['alam', 'bea', 'cukai', 'kerja', 'dah', 'liat...   \n",
       "1  ['wujud', 'revolusi', 'mental', 'hajar', 'maaf...   \n",
       "2  ['viral', 'usaha', 'empekempek', 'palembang', ...   \n",
       "3  ['tolak', 'bayar', 'pajak', 'pasang', 'pilih',...   \n",
       "4       ['hukum', 'kantor', 'pajak', 'bea', 'cukai']   \n",
       "\n",
       "                                          tweet_join  \n",
       "0  alam bea cukai kerja dah liat berita seliwer k...  \n",
       "1  wujud revolusi mental hajar maaf nyetor pajak ...  \n",
       "2  viral usaha empekempek palembang tagih pajak n...  \n",
       "3  tolak bayar pajak pasang pilih robek tas herme...  \n",
       "4                       hukum kantor pajak bea cukai  "
      ]
     },
     "execution_count": 41,
     "metadata": {},
     "output_type": "execute_result"
    }
   ],
   "source": [
    "processed_data['tweet_join'] = processed_data['tweet_tokens_stemmed'].apply(join_text_list)\n",
    "processed_data.head()"
   ]
  },
  {
   "cell_type": "markdown",
   "metadata": {},
   "source": [
    "### TF-IDF Term Rank"
   ]
  },
  {
   "cell_type": "code",
   "execution_count": 42,
   "metadata": {},
   "outputs": [],
   "source": [
    "from sklearn.feature_extraction.text import TfidfVectorizer"
   ]
  },
  {
   "cell_type": "code",
   "execution_count": 62,
   "metadata": {},
   "outputs": [],
   "source": [
    "negative_label = processed_data[processed_data['label'] == 0]\n",
    "positive_label = processed_data[processed_data['label'] == 1]\n",
    "neutral_label = processed_data[processed_data['label'] == 2]"
   ]
  },
  {
   "cell_type": "code",
   "execution_count": 72,
   "metadata": {},
   "outputs": [],
   "source": [
    "def tf_idf_calculator(data):\n",
    "    tf_idf = TfidfVectorizer(max_features=1000, binary=True)\n",
    "    tfidf_mat = tf_idf.fit_transform(data[\"tweet_join\"]).toarray()\n",
    "    terms = tf_idf.get_feature_names_out()\n",
    "\n",
    "    # Word count calculation\n",
    "    word_counts = {}\n",
    "    for doc in data[\"tweet_join\"]:\n",
    "        for word in doc.split():\n",
    "            word_counts[word] = word_counts.get(word, 0) + 1\n",
    "\n",
    "    # Create the DataFrame\n",
    "    temp = []\n",
    "    for col, term in enumerate(terms):\n",
    "        temp.append({\n",
    "            'term': term,\n",
    "            'rank': tfidf_mat.sum(axis=0)[col],\n",
    "            'count': word_counts.get(term, 0)  # Get count from word_counts\n",
    "        })\n",
    "\n",
    "    ranking = pd.DataFrame(temp)\n",
    "    ranking = ranking.sort_values('rank', ascending=False)\n",
    "\n",
    "    return ranking"
   ]
  },
  {
   "cell_type": "code",
   "execution_count": 77,
   "metadata": {},
   "outputs": [],
   "source": [
    "ranking = tf_idf_calculator(processed_data)\n",
    "negative_ranking = tf_idf_calculator(negative_label)\n",
    "positive_ranking = tf_idf_calculator(positive_label)\n",
    "neutral_ranking = tf_idf_calculator(neutral_label)"
   ]
  },
  {
   "cell_type": "markdown",
   "metadata": {},
   "source": [
    "### Visualization of the most frequent words"
   ]
  },
  {
   "cell_type": "code",
   "execution_count": 60,
   "metadata": {},
   "outputs": [
    {
     "data": {
      "application/vnd.plotly.v1+json": {
       "config": {
        "plotlyServerURL": "https://plot.ly"
       },
       "data": [
        {
         "alignmentgroup": "True",
         "hovertemplate": "term=%{y}<br>count=%{x}<extra></extra>",
         "legendgroup": "pajak",
         "marker": {
          "color": "#636efa",
          "pattern": {
           "shape": ""
          }
         },
         "name": "pajak",
         "offsetgroup": "pajak",
         "orientation": "h",
         "showlegend": true,
         "textposition": "auto",
         "type": "bar",
         "x": [
          1364
         ],
         "xaxis": "x",
         "y": [
          "pajak"
         ],
         "yaxis": "y"
        },
        {
         "alignmentgroup": "True",
         "hovertemplate": "term=%{y}<br>count=%{x}<extra></extra>",
         "legendgroup": "bayar",
         "marker": {
          "color": "#EF553B",
          "pattern": {
           "shape": ""
          }
         },
         "name": "bayar",
         "offsetgroup": "bayar",
         "orientation": "h",
         "showlegend": true,
         "textposition": "auto",
         "type": "bar",
         "x": [
          351
         ],
         "xaxis": "x",
         "y": [
          "bayar"
         ],
         "yaxis": "y"
        },
        {
         "alignmentgroup": "True",
         "hovertemplate": "term=%{y}<br>count=%{x}<extra></extra>",
         "legendgroup": "kena",
         "marker": {
          "color": "#00cc96",
          "pattern": {
           "shape": ""
          }
         },
         "name": "kena",
         "offsetgroup": "kena",
         "orientation": "h",
         "showlegend": true,
         "textposition": "auto",
         "type": "bar",
         "x": [
          155
         ],
         "xaxis": "x",
         "y": [
          "kena"
         ],
         "yaxis": "y"
        },
        {
         "alignmentgroup": "True",
         "hovertemplate": "term=%{y}<br>count=%{x}<extra></extra>",
         "legendgroup": "harga",
         "marker": {
          "color": "#ab63fa",
          "pattern": {
           "shape": ""
          }
         },
         "name": "harga",
         "offsetgroup": "harga",
         "orientation": "h",
         "showlegend": true,
         "textposition": "auto",
         "type": "bar",
         "x": [
          142
         ],
         "xaxis": "x",
         "y": [
          "harga"
         ],
         "yaxis": "y"
        },
        {
         "alignmentgroup": "True",
         "hovertemplate": "term=%{y}<br>count=%{x}<extra></extra>",
         "legendgroup": "bea",
         "marker": {
          "color": "#FFA15A",
          "pattern": {
           "shape": ""
          }
         },
         "name": "bea",
         "offsetgroup": "bea",
         "orientation": "h",
         "showlegend": true,
         "textposition": "auto",
         "type": "bar",
         "x": [
          130
         ],
         "xaxis": "x",
         "y": [
          "bea"
         ],
         "yaxis": "y"
        },
        {
         "alignmentgroup": "True",
         "hovertemplate": "term=%{y}<br>count=%{x}<extra></extra>",
         "legendgroup": "rakyat",
         "marker": {
          "color": "#19d3f3",
          "pattern": {
           "shape": ""
          }
         },
         "name": "rakyat",
         "offsetgroup": "rakyat",
         "orientation": "h",
         "showlegend": true,
         "textposition": "auto",
         "type": "bar",
         "x": [
          167
         ],
         "xaxis": "x",
         "y": [
          "rakyat"
         ],
         "yaxis": "y"
        },
        {
         "alignmentgroup": "True",
         "hovertemplate": "term=%{y}<br>count=%{x}<extra></extra>",
         "legendgroup": "negara",
         "marker": {
          "color": "#FF6692",
          "pattern": {
           "shape": ""
          }
         },
         "name": "negara",
         "offsetgroup": "negara",
         "orientation": "h",
         "showlegend": true,
         "textposition": "auto",
         "type": "bar",
         "x": [
          146
         ],
         "xaxis": "x",
         "y": [
          "negara"
         ],
         "yaxis": "y"
        },
        {
         "alignmentgroup": "True",
         "hovertemplate": "term=%{y}<br>count=%{x}<extra></extra>",
         "legendgroup": "cukai",
         "marker": {
          "color": "#B6E880",
          "pattern": {
           "shape": ""
          }
         },
         "name": "cukai",
         "offsetgroup": "cukai",
         "orientation": "h",
         "showlegend": true,
         "textposition": "auto",
         "type": "bar",
         "x": [
          108
         ],
         "xaxis": "x",
         "y": [
          "cukai"
         ],
         "yaxis": "y"
        },
        {
         "alignmentgroup": "True",
         "hovertemplate": "term=%{y}<br>count=%{x}<extra></extra>",
         "legendgroup": "uang",
         "marker": {
          "color": "#FF97FF",
          "pattern": {
           "shape": ""
          }
         },
         "name": "uang",
         "offsetgroup": "uang",
         "orientation": "h",
         "showlegend": true,
         "textposition": "auto",
         "type": "bar",
         "x": [
          111
         ],
         "xaxis": "x",
         "y": [
          "uang"
         ],
         "yaxis": "y"
        },
        {
         "alignmentgroup": "True",
         "hovertemplate": "term=%{y}<br>count=%{x}<extra></extra>",
         "legendgroup": "barang",
         "marker": {
          "color": "#FECB52",
          "pattern": {
           "shape": ""
          }
         },
         "name": "barang",
         "offsetgroup": "barang",
         "orientation": "h",
         "showlegend": true,
         "textposition": "auto",
         "type": "bar",
         "x": [
          129
         ],
         "xaxis": "x",
         "y": [
          "barang"
         ],
         "yaxis": "y"
        },
        {
         "alignmentgroup": "True",
         "hovertemplate": "term=%{y}<br>count=%{x}<extra></extra>",
         "legendgroup": "orang",
         "marker": {
          "color": "#636efa",
          "pattern": {
           "shape": ""
          }
         },
         "name": "orang",
         "offsetgroup": "orang",
         "orientation": "h",
         "showlegend": true,
         "textposition": "auto",
         "type": "bar",
         "x": [
          88
         ],
         "xaxis": "x",
         "y": [
          "orang"
         ],
         "yaxis": "y"
        },
        {
         "alignmentgroup": "True",
         "hovertemplate": "term=%{y}<br>count=%{x}<extra></extra>",
         "legendgroup": "masuk",
         "marker": {
          "color": "#EF553B",
          "pattern": {
           "shape": ""
          }
         },
         "name": "masuk",
         "offsetgroup": "masuk",
         "orientation": "h",
         "showlegend": true,
         "textposition": "auto",
         "type": "bar",
         "x": [
          97
         ],
         "xaxis": "x",
         "y": [
          "masuk"
         ],
         "yaxis": "y"
        },
        {
         "alignmentgroup": "True",
         "hovertemplate": "term=%{y}<br>count=%{x}<extra></extra>",
         "legendgroup": "gaji",
         "marker": {
          "color": "#00cc96",
          "pattern": {
           "shape": ""
          }
         },
         "name": "gaji",
         "offsetgroup": "gaji",
         "orientation": "h",
         "showlegend": true,
         "textposition": "auto",
         "type": "bar",
         "x": [
          88
         ],
         "xaxis": "x",
         "y": [
          "gaji"
         ],
         "yaxis": "y"
        },
        {
         "alignmentgroup": "True",
         "hovertemplate": "term=%{y}<br>count=%{x}<extra></extra>",
         "legendgroup": "kerja",
         "marker": {
          "color": "#ab63fa",
          "pattern": {
           "shape": ""
          }
         },
         "name": "kerja",
         "offsetgroup": "kerja",
         "orientation": "h",
         "showlegend": true,
         "textposition": "auto",
         "type": "bar",
         "x": [
          92
         ],
         "xaxis": "x",
         "y": [
          "kerja"
         ],
         "yaxis": "y"
        },
        {
         "alignmentgroup": "True",
         "hovertemplate": "term=%{y}<br>count=%{x}<extra></extra>",
         "legendgroup": "udah",
         "marker": {
          "color": "#FFA15A",
          "pattern": {
           "shape": ""
          }
         },
         "name": "udah",
         "offsetgroup": "udah",
         "orientation": "h",
         "showlegend": true,
         "textposition": "auto",
         "type": "bar",
         "x": [
          87
         ],
         "xaxis": "x",
         "y": [
          "udah"
         ],
         "yaxis": "y"
        },
        {
         "alignmentgroup": "True",
         "hovertemplate": "term=%{y}<br>count=%{x}<extra></extra>",
         "legendgroup": "beli",
         "marker": {
          "color": "#19d3f3",
          "pattern": {
           "shape": ""
          }
         },
         "name": "beli",
         "offsetgroup": "beli",
         "orientation": "h",
         "showlegend": true,
         "textposition": "auto",
         "type": "bar",
         "x": [
          87
         ],
         "xaxis": "x",
         "y": [
          "beli"
         ],
         "yaxis": "y"
        },
        {
         "alignmentgroup": "True",
         "hovertemplate": "term=%{y}<br>count=%{x}<extra></extra>",
         "legendgroup": "duit",
         "marker": {
          "color": "#FF6692",
          "pattern": {
           "shape": ""
          }
         },
         "name": "duit",
         "offsetgroup": "duit",
         "orientation": "h",
         "showlegend": true,
         "textposition": "auto",
         "type": "bar",
         "x": [
          65
         ],
         "xaxis": "x",
         "y": [
          "duit"
         ],
         "yaxis": "y"
        },
        {
         "alignmentgroup": "True",
         "hovertemplate": "term=%{y}<br>count=%{x}<extra></extra>",
         "legendgroup": "juta",
         "marker": {
          "color": "#B6E880",
          "pattern": {
           "shape": ""
          }
         },
         "name": "juta",
         "offsetgroup": "juta",
         "orientation": "h",
         "showlegend": true,
         "textposition": "auto",
         "type": "bar",
         "x": [
          111
         ],
         "xaxis": "x",
         "y": [
          "juta"
         ],
         "yaxis": "y"
        },
        {
         "alignmentgroup": "True",
         "hovertemplate": "term=%{y}<br>count=%{x}<extra></extra>",
         "legendgroup": "jabat",
         "marker": {
          "color": "#FF97FF",
          "pattern": {
           "shape": ""
          }
         },
         "name": "jabat",
         "offsetgroup": "jabat",
         "orientation": "h",
         "showlegend": true,
         "textposition": "auto",
         "type": "bar",
         "x": [
          72
         ],
         "xaxis": "x",
         "y": [
          "jabat"
         ],
         "yaxis": "y"
        },
        {
         "alignmentgroup": "True",
         "hovertemplate": "term=%{y}<br>count=%{x}<extra></extra>",
         "legendgroup": "indonesia",
         "marker": {
          "color": "#FECB52",
          "pattern": {
           "shape": ""
          }
         },
         "name": "indonesia",
         "offsetgroup": "indonesia",
         "orientation": "h",
         "showlegend": true,
         "textposition": "auto",
         "type": "bar",
         "x": [
          71
         ],
         "xaxis": "x",
         "y": [
          "indonesia"
         ],
         "yaxis": "y"
        },
        {
         "alignmentgroup": "True",
         "hovertemplate": "term=%{y}<br>count=%{x}<extra></extra>",
         "legendgroup": "hasil",
         "marker": {
          "color": "#636efa",
          "pattern": {
           "shape": ""
          }
         },
         "name": "hasil",
         "offsetgroup": "hasil",
         "orientation": "h",
         "showlegend": true,
         "textposition": "auto",
         "type": "bar",
         "x": [
          73
         ],
         "xaxis": "x",
         "y": [
          "hasil"
         ],
         "yaxis": "y"
        },
        {
         "alignmentgroup": "True",
         "hovertemplate": "term=%{y}<br>count=%{x}<extra></extra>",
         "legendgroup": "naik",
         "marker": {
          "color": "#EF553B",
          "pattern": {
           "shape": ""
          }
         },
         "name": "naik",
         "offsetgroup": "naik",
         "orientation": "h",
         "showlegend": true,
         "textposition": "auto",
         "type": "bar",
         "x": [
          73
         ],
         "xaxis": "x",
         "y": [
          "naik"
         ],
         "yaxis": "y"
        },
        {
         "alignmentgroup": "True",
         "hovertemplate": "term=%{y}<br>count=%{x}<extra></extra>",
         "legendgroup": "setor",
         "marker": {
          "color": "#00cc96",
          "pattern": {
           "shape": ""
          }
         },
         "name": "setor",
         "offsetgroup": "setor",
         "orientation": "h",
         "showlegend": true,
         "textposition": "auto",
         "type": "bar",
         "x": [
          30
         ],
         "xaxis": "x",
         "y": [
          "setor"
         ],
         "yaxis": "y"
        },
        {
         "alignmentgroup": "True",
         "hovertemplate": "term=%{y}<br>count=%{x}<extra></extra>",
         "legendgroup": "perintah",
         "marker": {
          "color": "#ab63fa",
          "pattern": {
           "shape": ""
          }
         },
         "name": "perintah",
         "offsetgroup": "perintah",
         "orientation": "h",
         "showlegend": true,
         "textposition": "auto",
         "type": "bar",
         "x": [
          61
         ],
         "xaxis": "x",
         "y": [
          "perintah"
         ],
         "yaxis": "y"
        },
        {
         "alignmentgroup": "True",
         "hovertemplate": "term=%{y}<br>count=%{x}<extra></extra>",
         "legendgroup": "rp",
         "marker": {
          "color": "#FFA15A",
          "pattern": {
           "shape": ""
          }
         },
         "name": "rp",
         "offsetgroup": "rp",
         "orientation": "h",
         "showlegend": true,
         "textposition": "auto",
         "type": "bar",
         "x": [
          78
         ],
         "xaxis": "x",
         "y": [
          "rp"
         ],
         "yaxis": "y"
        }
       ],
       "layout": {
        "barmode": "relative",
        "height": 700,
        "legend": {
         "title": {
          "text": "term"
         },
         "tracegroupgap": 0
        },
        "template": {
         "data": {
          "bar": [
           {
            "error_x": {
             "color": "#2a3f5f"
            },
            "error_y": {
             "color": "#2a3f5f"
            },
            "marker": {
             "line": {
              "color": "#E5ECF6",
              "width": 0.5
             },
             "pattern": {
              "fillmode": "overlay",
              "size": 10,
              "solidity": 0.2
             }
            },
            "type": "bar"
           }
          ],
          "barpolar": [
           {
            "marker": {
             "line": {
              "color": "#E5ECF6",
              "width": 0.5
             },
             "pattern": {
              "fillmode": "overlay",
              "size": 10,
              "solidity": 0.2
             }
            },
            "type": "barpolar"
           }
          ],
          "carpet": [
           {
            "aaxis": {
             "endlinecolor": "#2a3f5f",
             "gridcolor": "white",
             "linecolor": "white",
             "minorgridcolor": "white",
             "startlinecolor": "#2a3f5f"
            },
            "baxis": {
             "endlinecolor": "#2a3f5f",
             "gridcolor": "white",
             "linecolor": "white",
             "minorgridcolor": "white",
             "startlinecolor": "#2a3f5f"
            },
            "type": "carpet"
           }
          ],
          "choropleth": [
           {
            "colorbar": {
             "outlinewidth": 0,
             "ticks": ""
            },
            "type": "choropleth"
           }
          ],
          "contour": [
           {
            "colorbar": {
             "outlinewidth": 0,
             "ticks": ""
            },
            "colorscale": [
             [
              0,
              "#0d0887"
             ],
             [
              0.1111111111111111,
              "#46039f"
             ],
             [
              0.2222222222222222,
              "#7201a8"
             ],
             [
              0.3333333333333333,
              "#9c179e"
             ],
             [
              0.4444444444444444,
              "#bd3786"
             ],
             [
              0.5555555555555556,
              "#d8576b"
             ],
             [
              0.6666666666666666,
              "#ed7953"
             ],
             [
              0.7777777777777778,
              "#fb9f3a"
             ],
             [
              0.8888888888888888,
              "#fdca26"
             ],
             [
              1,
              "#f0f921"
             ]
            ],
            "type": "contour"
           }
          ],
          "contourcarpet": [
           {
            "colorbar": {
             "outlinewidth": 0,
             "ticks": ""
            },
            "type": "contourcarpet"
           }
          ],
          "heatmap": [
           {
            "colorbar": {
             "outlinewidth": 0,
             "ticks": ""
            },
            "colorscale": [
             [
              0,
              "#0d0887"
             ],
             [
              0.1111111111111111,
              "#46039f"
             ],
             [
              0.2222222222222222,
              "#7201a8"
             ],
             [
              0.3333333333333333,
              "#9c179e"
             ],
             [
              0.4444444444444444,
              "#bd3786"
             ],
             [
              0.5555555555555556,
              "#d8576b"
             ],
             [
              0.6666666666666666,
              "#ed7953"
             ],
             [
              0.7777777777777778,
              "#fb9f3a"
             ],
             [
              0.8888888888888888,
              "#fdca26"
             ],
             [
              1,
              "#f0f921"
             ]
            ],
            "type": "heatmap"
           }
          ],
          "heatmapgl": [
           {
            "colorbar": {
             "outlinewidth": 0,
             "ticks": ""
            },
            "colorscale": [
             [
              0,
              "#0d0887"
             ],
             [
              0.1111111111111111,
              "#46039f"
             ],
             [
              0.2222222222222222,
              "#7201a8"
             ],
             [
              0.3333333333333333,
              "#9c179e"
             ],
             [
              0.4444444444444444,
              "#bd3786"
             ],
             [
              0.5555555555555556,
              "#d8576b"
             ],
             [
              0.6666666666666666,
              "#ed7953"
             ],
             [
              0.7777777777777778,
              "#fb9f3a"
             ],
             [
              0.8888888888888888,
              "#fdca26"
             ],
             [
              1,
              "#f0f921"
             ]
            ],
            "type": "heatmapgl"
           }
          ],
          "histogram": [
           {
            "marker": {
             "pattern": {
              "fillmode": "overlay",
              "size": 10,
              "solidity": 0.2
             }
            },
            "type": "histogram"
           }
          ],
          "histogram2d": [
           {
            "colorbar": {
             "outlinewidth": 0,
             "ticks": ""
            },
            "colorscale": [
             [
              0,
              "#0d0887"
             ],
             [
              0.1111111111111111,
              "#46039f"
             ],
             [
              0.2222222222222222,
              "#7201a8"
             ],
             [
              0.3333333333333333,
              "#9c179e"
             ],
             [
              0.4444444444444444,
              "#bd3786"
             ],
             [
              0.5555555555555556,
              "#d8576b"
             ],
             [
              0.6666666666666666,
              "#ed7953"
             ],
             [
              0.7777777777777778,
              "#fb9f3a"
             ],
             [
              0.8888888888888888,
              "#fdca26"
             ],
             [
              1,
              "#f0f921"
             ]
            ],
            "type": "histogram2d"
           }
          ],
          "histogram2dcontour": [
           {
            "colorbar": {
             "outlinewidth": 0,
             "ticks": ""
            },
            "colorscale": [
             [
              0,
              "#0d0887"
             ],
             [
              0.1111111111111111,
              "#46039f"
             ],
             [
              0.2222222222222222,
              "#7201a8"
             ],
             [
              0.3333333333333333,
              "#9c179e"
             ],
             [
              0.4444444444444444,
              "#bd3786"
             ],
             [
              0.5555555555555556,
              "#d8576b"
             ],
             [
              0.6666666666666666,
              "#ed7953"
             ],
             [
              0.7777777777777778,
              "#fb9f3a"
             ],
             [
              0.8888888888888888,
              "#fdca26"
             ],
             [
              1,
              "#f0f921"
             ]
            ],
            "type": "histogram2dcontour"
           }
          ],
          "mesh3d": [
           {
            "colorbar": {
             "outlinewidth": 0,
             "ticks": ""
            },
            "type": "mesh3d"
           }
          ],
          "parcoords": [
           {
            "line": {
             "colorbar": {
              "outlinewidth": 0,
              "ticks": ""
             }
            },
            "type": "parcoords"
           }
          ],
          "pie": [
           {
            "automargin": true,
            "type": "pie"
           }
          ],
          "scatter": [
           {
            "fillpattern": {
             "fillmode": "overlay",
             "size": 10,
             "solidity": 0.2
            },
            "type": "scatter"
           }
          ],
          "scatter3d": [
           {
            "line": {
             "colorbar": {
              "outlinewidth": 0,
              "ticks": ""
             }
            },
            "marker": {
             "colorbar": {
              "outlinewidth": 0,
              "ticks": ""
             }
            },
            "type": "scatter3d"
           }
          ],
          "scattercarpet": [
           {
            "marker": {
             "colorbar": {
              "outlinewidth": 0,
              "ticks": ""
             }
            },
            "type": "scattercarpet"
           }
          ],
          "scattergeo": [
           {
            "marker": {
             "colorbar": {
              "outlinewidth": 0,
              "ticks": ""
             }
            },
            "type": "scattergeo"
           }
          ],
          "scattergl": [
           {
            "marker": {
             "colorbar": {
              "outlinewidth": 0,
              "ticks": ""
             }
            },
            "type": "scattergl"
           }
          ],
          "scattermapbox": [
           {
            "marker": {
             "colorbar": {
              "outlinewidth": 0,
              "ticks": ""
             }
            },
            "type": "scattermapbox"
           }
          ],
          "scatterpolar": [
           {
            "marker": {
             "colorbar": {
              "outlinewidth": 0,
              "ticks": ""
             }
            },
            "type": "scatterpolar"
           }
          ],
          "scatterpolargl": [
           {
            "marker": {
             "colorbar": {
              "outlinewidth": 0,
              "ticks": ""
             }
            },
            "type": "scatterpolargl"
           }
          ],
          "scatterternary": [
           {
            "marker": {
             "colorbar": {
              "outlinewidth": 0,
              "ticks": ""
             }
            },
            "type": "scatterternary"
           }
          ],
          "surface": [
           {
            "colorbar": {
             "outlinewidth": 0,
             "ticks": ""
            },
            "colorscale": [
             [
              0,
              "#0d0887"
             ],
             [
              0.1111111111111111,
              "#46039f"
             ],
             [
              0.2222222222222222,
              "#7201a8"
             ],
             [
              0.3333333333333333,
              "#9c179e"
             ],
             [
              0.4444444444444444,
              "#bd3786"
             ],
             [
              0.5555555555555556,
              "#d8576b"
             ],
             [
              0.6666666666666666,
              "#ed7953"
             ],
             [
              0.7777777777777778,
              "#fb9f3a"
             ],
             [
              0.8888888888888888,
              "#fdca26"
             ],
             [
              1,
              "#f0f921"
             ]
            ],
            "type": "surface"
           }
          ],
          "table": [
           {
            "cells": {
             "fill": {
              "color": "#EBF0F8"
             },
             "line": {
              "color": "white"
             }
            },
            "header": {
             "fill": {
              "color": "#C8D4E3"
             },
             "line": {
              "color": "white"
             }
            },
            "type": "table"
           }
          ]
         },
         "layout": {
          "annotationdefaults": {
           "arrowcolor": "#2a3f5f",
           "arrowhead": 0,
           "arrowwidth": 1
          },
          "autotypenumbers": "strict",
          "coloraxis": {
           "colorbar": {
            "outlinewidth": 0,
            "ticks": ""
           }
          },
          "colorscale": {
           "diverging": [
            [
             0,
             "#8e0152"
            ],
            [
             0.1,
             "#c51b7d"
            ],
            [
             0.2,
             "#de77ae"
            ],
            [
             0.3,
             "#f1b6da"
            ],
            [
             0.4,
             "#fde0ef"
            ],
            [
             0.5,
             "#f7f7f7"
            ],
            [
             0.6,
             "#e6f5d0"
            ],
            [
             0.7,
             "#b8e186"
            ],
            [
             0.8,
             "#7fbc41"
            ],
            [
             0.9,
             "#4d9221"
            ],
            [
             1,
             "#276419"
            ]
           ],
           "sequential": [
            [
             0,
             "#0d0887"
            ],
            [
             0.1111111111111111,
             "#46039f"
            ],
            [
             0.2222222222222222,
             "#7201a8"
            ],
            [
             0.3333333333333333,
             "#9c179e"
            ],
            [
             0.4444444444444444,
             "#bd3786"
            ],
            [
             0.5555555555555556,
             "#d8576b"
            ],
            [
             0.6666666666666666,
             "#ed7953"
            ],
            [
             0.7777777777777778,
             "#fb9f3a"
            ],
            [
             0.8888888888888888,
             "#fdca26"
            ],
            [
             1,
             "#f0f921"
            ]
           ],
           "sequentialminus": [
            [
             0,
             "#0d0887"
            ],
            [
             0.1111111111111111,
             "#46039f"
            ],
            [
             0.2222222222222222,
             "#7201a8"
            ],
            [
             0.3333333333333333,
             "#9c179e"
            ],
            [
             0.4444444444444444,
             "#bd3786"
            ],
            [
             0.5555555555555556,
             "#d8576b"
            ],
            [
             0.6666666666666666,
             "#ed7953"
            ],
            [
             0.7777777777777778,
             "#fb9f3a"
            ],
            [
             0.8888888888888888,
             "#fdca26"
            ],
            [
             1,
             "#f0f921"
            ]
           ]
          },
          "colorway": [
           "#636efa",
           "#EF553B",
           "#00cc96",
           "#ab63fa",
           "#FFA15A",
           "#19d3f3",
           "#FF6692",
           "#B6E880",
           "#FF97FF",
           "#FECB52"
          ],
          "font": {
           "color": "#2a3f5f"
          },
          "geo": {
           "bgcolor": "white",
           "lakecolor": "white",
           "landcolor": "#E5ECF6",
           "showlakes": true,
           "showland": true,
           "subunitcolor": "white"
          },
          "hoverlabel": {
           "align": "left"
          },
          "hovermode": "closest",
          "mapbox": {
           "style": "light"
          },
          "paper_bgcolor": "white",
          "plot_bgcolor": "#E5ECF6",
          "polar": {
           "angularaxis": {
            "gridcolor": "white",
            "linecolor": "white",
            "ticks": ""
           },
           "bgcolor": "#E5ECF6",
           "radialaxis": {
            "gridcolor": "white",
            "linecolor": "white",
            "ticks": ""
           }
          },
          "scene": {
           "xaxis": {
            "backgroundcolor": "#E5ECF6",
            "gridcolor": "white",
            "gridwidth": 2,
            "linecolor": "white",
            "showbackground": true,
            "ticks": "",
            "zerolinecolor": "white"
           },
           "yaxis": {
            "backgroundcolor": "#E5ECF6",
            "gridcolor": "white",
            "gridwidth": 2,
            "linecolor": "white",
            "showbackground": true,
            "ticks": "",
            "zerolinecolor": "white"
           },
           "zaxis": {
            "backgroundcolor": "#E5ECF6",
            "gridcolor": "white",
            "gridwidth": 2,
            "linecolor": "white",
            "showbackground": true,
            "ticks": "",
            "zerolinecolor": "white"
           }
          },
          "shapedefaults": {
           "line": {
            "color": "#2a3f5f"
           }
          },
          "ternary": {
           "aaxis": {
            "gridcolor": "white",
            "linecolor": "white",
            "ticks": ""
           },
           "baxis": {
            "gridcolor": "white",
            "linecolor": "white",
            "ticks": ""
           },
           "bgcolor": "#E5ECF6",
           "caxis": {
            "gridcolor": "white",
            "linecolor": "white",
            "ticks": ""
           }
          },
          "title": {
           "x": 0.05
          },
          "xaxis": {
           "automargin": true,
           "gridcolor": "white",
           "linecolor": "white",
           "ticks": "",
           "title": {
            "standoff": 15
           },
           "zerolinecolor": "white",
           "zerolinewidth": 2
          },
          "yaxis": {
           "automargin": true,
           "gridcolor": "white",
           "linecolor": "white",
           "ticks": "",
           "title": {
            "standoff": 15
           },
           "zerolinecolor": "white",
           "zerolinewidth": 2
          }
         }
        },
        "title": {
         "text": "Common Words in Selected Text"
        },
        "width": 700,
        "xaxis": {
         "anchor": "y",
         "domain": [
          0,
          1
         ],
         "title": {
          "text": "count"
         }
        },
        "yaxis": {
         "anchor": "x",
         "categoryarray": [
          "rp",
          "perintah",
          "setor",
          "naik",
          "hasil",
          "indonesia",
          "jabat",
          "juta",
          "duit",
          "beli",
          "udah",
          "kerja",
          "gaji",
          "masuk",
          "orang",
          "barang",
          "uang",
          "cukai",
          "negara",
          "rakyat",
          "bea",
          "harga",
          "kena",
          "bayar",
          "pajak"
         ],
         "categoryorder": "array",
         "domain": [
          0,
          1
         ],
         "title": {
          "text": "term"
         }
        }
       }
      }
     },
     "metadata": {},
     "output_type": "display_data"
    }
   ],
   "source": [
    "fig = px.bar(ranking.head(25), x=\"count\", y=\"term\", title='Common Words in Selected Text', orientation='h',  width=700, height=700, color='term')\n",
    "fig.show()"
   ]
  },
  {
   "cell_type": "code",
   "execution_count": 61,
   "metadata": {},
   "outputs": [
    {
     "data": {
      "application/vnd.plotly.v1+json": {
       "config": {
        "plotlyServerURL": "https://plot.ly"
       },
       "data": [
        {
         "branchvalues": "total",
         "domain": {
          "x": [
           0,
           1
          ],
          "y": [
           0,
           1
          ]
         },
         "hovertemplate": "labels=%{label}<br>count=%{value}<br>parent=%{parent}<br>id=%{id}<extra></extra>",
         "ids": [
          "barang",
          "bayar",
          "bea",
          "beli",
          "cukai",
          "duit",
          "gaji",
          "harga",
          "hasil",
          "indonesia",
          "jabat",
          "juta",
          "kena",
          "kerja",
          "masuk",
          "naik",
          "negara",
          "orang",
          "pajak",
          "perintah",
          "rakyat",
          "rp",
          "setor",
          "uang",
          "udah"
         ],
         "labels": [
          "barang",
          "bayar",
          "bea",
          "beli",
          "cukai",
          "duit",
          "gaji",
          "harga",
          "hasil",
          "indonesia",
          "jabat",
          "juta",
          "kena",
          "kerja",
          "masuk",
          "naik",
          "negara",
          "orang",
          "pajak",
          "perintah",
          "rakyat",
          "rp",
          "setor",
          "uang",
          "udah"
         ],
         "name": "",
         "parents": [
          "",
          "",
          "",
          "",
          "",
          "",
          "",
          "",
          "",
          "",
          "",
          "",
          "",
          "",
          "",
          "",
          "",
          "",
          "",
          "",
          "",
          "",
          "",
          "",
          ""
         ],
         "type": "treemap",
         "values": [
          129,
          351,
          130,
          87,
          108,
          65,
          88,
          142,
          73,
          71,
          72,
          111,
          155,
          92,
          97,
          73,
          146,
          88,
          1364,
          61,
          167,
          78,
          30,
          111,
          87
         ]
        }
       ],
       "layout": {
        "legend": {
         "tracegroupgap": 0
        },
        "template": {
         "data": {
          "bar": [
           {
            "error_x": {
             "color": "#2a3f5f"
            },
            "error_y": {
             "color": "#2a3f5f"
            },
            "marker": {
             "line": {
              "color": "#E5ECF6",
              "width": 0.5
             },
             "pattern": {
              "fillmode": "overlay",
              "size": 10,
              "solidity": 0.2
             }
            },
            "type": "bar"
           }
          ],
          "barpolar": [
           {
            "marker": {
             "line": {
              "color": "#E5ECF6",
              "width": 0.5
             },
             "pattern": {
              "fillmode": "overlay",
              "size": 10,
              "solidity": 0.2
             }
            },
            "type": "barpolar"
           }
          ],
          "carpet": [
           {
            "aaxis": {
             "endlinecolor": "#2a3f5f",
             "gridcolor": "white",
             "linecolor": "white",
             "minorgridcolor": "white",
             "startlinecolor": "#2a3f5f"
            },
            "baxis": {
             "endlinecolor": "#2a3f5f",
             "gridcolor": "white",
             "linecolor": "white",
             "minorgridcolor": "white",
             "startlinecolor": "#2a3f5f"
            },
            "type": "carpet"
           }
          ],
          "choropleth": [
           {
            "colorbar": {
             "outlinewidth": 0,
             "ticks": ""
            },
            "type": "choropleth"
           }
          ],
          "contour": [
           {
            "colorbar": {
             "outlinewidth": 0,
             "ticks": ""
            },
            "colorscale": [
             [
              0,
              "#0d0887"
             ],
             [
              0.1111111111111111,
              "#46039f"
             ],
             [
              0.2222222222222222,
              "#7201a8"
             ],
             [
              0.3333333333333333,
              "#9c179e"
             ],
             [
              0.4444444444444444,
              "#bd3786"
             ],
             [
              0.5555555555555556,
              "#d8576b"
             ],
             [
              0.6666666666666666,
              "#ed7953"
             ],
             [
              0.7777777777777778,
              "#fb9f3a"
             ],
             [
              0.8888888888888888,
              "#fdca26"
             ],
             [
              1,
              "#f0f921"
             ]
            ],
            "type": "contour"
           }
          ],
          "contourcarpet": [
           {
            "colorbar": {
             "outlinewidth": 0,
             "ticks": ""
            },
            "type": "contourcarpet"
           }
          ],
          "heatmap": [
           {
            "colorbar": {
             "outlinewidth": 0,
             "ticks": ""
            },
            "colorscale": [
             [
              0,
              "#0d0887"
             ],
             [
              0.1111111111111111,
              "#46039f"
             ],
             [
              0.2222222222222222,
              "#7201a8"
             ],
             [
              0.3333333333333333,
              "#9c179e"
             ],
             [
              0.4444444444444444,
              "#bd3786"
             ],
             [
              0.5555555555555556,
              "#d8576b"
             ],
             [
              0.6666666666666666,
              "#ed7953"
             ],
             [
              0.7777777777777778,
              "#fb9f3a"
             ],
             [
              0.8888888888888888,
              "#fdca26"
             ],
             [
              1,
              "#f0f921"
             ]
            ],
            "type": "heatmap"
           }
          ],
          "heatmapgl": [
           {
            "colorbar": {
             "outlinewidth": 0,
             "ticks": ""
            },
            "colorscale": [
             [
              0,
              "#0d0887"
             ],
             [
              0.1111111111111111,
              "#46039f"
             ],
             [
              0.2222222222222222,
              "#7201a8"
             ],
             [
              0.3333333333333333,
              "#9c179e"
             ],
             [
              0.4444444444444444,
              "#bd3786"
             ],
             [
              0.5555555555555556,
              "#d8576b"
             ],
             [
              0.6666666666666666,
              "#ed7953"
             ],
             [
              0.7777777777777778,
              "#fb9f3a"
             ],
             [
              0.8888888888888888,
              "#fdca26"
             ],
             [
              1,
              "#f0f921"
             ]
            ],
            "type": "heatmapgl"
           }
          ],
          "histogram": [
           {
            "marker": {
             "pattern": {
              "fillmode": "overlay",
              "size": 10,
              "solidity": 0.2
             }
            },
            "type": "histogram"
           }
          ],
          "histogram2d": [
           {
            "colorbar": {
             "outlinewidth": 0,
             "ticks": ""
            },
            "colorscale": [
             [
              0,
              "#0d0887"
             ],
             [
              0.1111111111111111,
              "#46039f"
             ],
             [
              0.2222222222222222,
              "#7201a8"
             ],
             [
              0.3333333333333333,
              "#9c179e"
             ],
             [
              0.4444444444444444,
              "#bd3786"
             ],
             [
              0.5555555555555556,
              "#d8576b"
             ],
             [
              0.6666666666666666,
              "#ed7953"
             ],
             [
              0.7777777777777778,
              "#fb9f3a"
             ],
             [
              0.8888888888888888,
              "#fdca26"
             ],
             [
              1,
              "#f0f921"
             ]
            ],
            "type": "histogram2d"
           }
          ],
          "histogram2dcontour": [
           {
            "colorbar": {
             "outlinewidth": 0,
             "ticks": ""
            },
            "colorscale": [
             [
              0,
              "#0d0887"
             ],
             [
              0.1111111111111111,
              "#46039f"
             ],
             [
              0.2222222222222222,
              "#7201a8"
             ],
             [
              0.3333333333333333,
              "#9c179e"
             ],
             [
              0.4444444444444444,
              "#bd3786"
             ],
             [
              0.5555555555555556,
              "#d8576b"
             ],
             [
              0.6666666666666666,
              "#ed7953"
             ],
             [
              0.7777777777777778,
              "#fb9f3a"
             ],
             [
              0.8888888888888888,
              "#fdca26"
             ],
             [
              1,
              "#f0f921"
             ]
            ],
            "type": "histogram2dcontour"
           }
          ],
          "mesh3d": [
           {
            "colorbar": {
             "outlinewidth": 0,
             "ticks": ""
            },
            "type": "mesh3d"
           }
          ],
          "parcoords": [
           {
            "line": {
             "colorbar": {
              "outlinewidth": 0,
              "ticks": ""
             }
            },
            "type": "parcoords"
           }
          ],
          "pie": [
           {
            "automargin": true,
            "type": "pie"
           }
          ],
          "scatter": [
           {
            "fillpattern": {
             "fillmode": "overlay",
             "size": 10,
             "solidity": 0.2
            },
            "type": "scatter"
           }
          ],
          "scatter3d": [
           {
            "line": {
             "colorbar": {
              "outlinewidth": 0,
              "ticks": ""
             }
            },
            "marker": {
             "colorbar": {
              "outlinewidth": 0,
              "ticks": ""
             }
            },
            "type": "scatter3d"
           }
          ],
          "scattercarpet": [
           {
            "marker": {
             "colorbar": {
              "outlinewidth": 0,
              "ticks": ""
             }
            },
            "type": "scattercarpet"
           }
          ],
          "scattergeo": [
           {
            "marker": {
             "colorbar": {
              "outlinewidth": 0,
              "ticks": ""
             }
            },
            "type": "scattergeo"
           }
          ],
          "scattergl": [
           {
            "marker": {
             "colorbar": {
              "outlinewidth": 0,
              "ticks": ""
             }
            },
            "type": "scattergl"
           }
          ],
          "scattermapbox": [
           {
            "marker": {
             "colorbar": {
              "outlinewidth": 0,
              "ticks": ""
             }
            },
            "type": "scattermapbox"
           }
          ],
          "scatterpolar": [
           {
            "marker": {
             "colorbar": {
              "outlinewidth": 0,
              "ticks": ""
             }
            },
            "type": "scatterpolar"
           }
          ],
          "scatterpolargl": [
           {
            "marker": {
             "colorbar": {
              "outlinewidth": 0,
              "ticks": ""
             }
            },
            "type": "scatterpolargl"
           }
          ],
          "scatterternary": [
           {
            "marker": {
             "colorbar": {
              "outlinewidth": 0,
              "ticks": ""
             }
            },
            "type": "scatterternary"
           }
          ],
          "surface": [
           {
            "colorbar": {
             "outlinewidth": 0,
             "ticks": ""
            },
            "colorscale": [
             [
              0,
              "#0d0887"
             ],
             [
              0.1111111111111111,
              "#46039f"
             ],
             [
              0.2222222222222222,
              "#7201a8"
             ],
             [
              0.3333333333333333,
              "#9c179e"
             ],
             [
              0.4444444444444444,
              "#bd3786"
             ],
             [
              0.5555555555555556,
              "#d8576b"
             ],
             [
              0.6666666666666666,
              "#ed7953"
             ],
             [
              0.7777777777777778,
              "#fb9f3a"
             ],
             [
              0.8888888888888888,
              "#fdca26"
             ],
             [
              1,
              "#f0f921"
             ]
            ],
            "type": "surface"
           }
          ],
          "table": [
           {
            "cells": {
             "fill": {
              "color": "#EBF0F8"
             },
             "line": {
              "color": "white"
             }
            },
            "header": {
             "fill": {
              "color": "#C8D4E3"
             },
             "line": {
              "color": "white"
             }
            },
            "type": "table"
           }
          ]
         },
         "layout": {
          "annotationdefaults": {
           "arrowcolor": "#2a3f5f",
           "arrowhead": 0,
           "arrowwidth": 1
          },
          "autotypenumbers": "strict",
          "coloraxis": {
           "colorbar": {
            "outlinewidth": 0,
            "ticks": ""
           }
          },
          "colorscale": {
           "diverging": [
            [
             0,
             "#8e0152"
            ],
            [
             0.1,
             "#c51b7d"
            ],
            [
             0.2,
             "#de77ae"
            ],
            [
             0.3,
             "#f1b6da"
            ],
            [
             0.4,
             "#fde0ef"
            ],
            [
             0.5,
             "#f7f7f7"
            ],
            [
             0.6,
             "#e6f5d0"
            ],
            [
             0.7,
             "#b8e186"
            ],
            [
             0.8,
             "#7fbc41"
            ],
            [
             0.9,
             "#4d9221"
            ],
            [
             1,
             "#276419"
            ]
           ],
           "sequential": [
            [
             0,
             "#0d0887"
            ],
            [
             0.1111111111111111,
             "#46039f"
            ],
            [
             0.2222222222222222,
             "#7201a8"
            ],
            [
             0.3333333333333333,
             "#9c179e"
            ],
            [
             0.4444444444444444,
             "#bd3786"
            ],
            [
             0.5555555555555556,
             "#d8576b"
            ],
            [
             0.6666666666666666,
             "#ed7953"
            ],
            [
             0.7777777777777778,
             "#fb9f3a"
            ],
            [
             0.8888888888888888,
             "#fdca26"
            ],
            [
             1,
             "#f0f921"
            ]
           ],
           "sequentialminus": [
            [
             0,
             "#0d0887"
            ],
            [
             0.1111111111111111,
             "#46039f"
            ],
            [
             0.2222222222222222,
             "#7201a8"
            ],
            [
             0.3333333333333333,
             "#9c179e"
            ],
            [
             0.4444444444444444,
             "#bd3786"
            ],
            [
             0.5555555555555556,
             "#d8576b"
            ],
            [
             0.6666666666666666,
             "#ed7953"
            ],
            [
             0.7777777777777778,
             "#fb9f3a"
            ],
            [
             0.8888888888888888,
             "#fdca26"
            ],
            [
             1,
             "#f0f921"
            ]
           ]
          },
          "colorway": [
           "#636efa",
           "#EF553B",
           "#00cc96",
           "#ab63fa",
           "#FFA15A",
           "#19d3f3",
           "#FF6692",
           "#B6E880",
           "#FF97FF",
           "#FECB52"
          ],
          "font": {
           "color": "#2a3f5f"
          },
          "geo": {
           "bgcolor": "white",
           "lakecolor": "white",
           "landcolor": "#E5ECF6",
           "showlakes": true,
           "showland": true,
           "subunitcolor": "white"
          },
          "hoverlabel": {
           "align": "left"
          },
          "hovermode": "closest",
          "mapbox": {
           "style": "light"
          },
          "paper_bgcolor": "white",
          "plot_bgcolor": "#E5ECF6",
          "polar": {
           "angularaxis": {
            "gridcolor": "white",
            "linecolor": "white",
            "ticks": ""
           },
           "bgcolor": "#E5ECF6",
           "radialaxis": {
            "gridcolor": "white",
            "linecolor": "white",
            "ticks": ""
           }
          },
          "scene": {
           "xaxis": {
            "backgroundcolor": "#E5ECF6",
            "gridcolor": "white",
            "gridwidth": 2,
            "linecolor": "white",
            "showbackground": true,
            "ticks": "",
            "zerolinecolor": "white"
           },
           "yaxis": {
            "backgroundcolor": "#E5ECF6",
            "gridcolor": "white",
            "gridwidth": 2,
            "linecolor": "white",
            "showbackground": true,
            "ticks": "",
            "zerolinecolor": "white"
           },
           "zaxis": {
            "backgroundcolor": "#E5ECF6",
            "gridcolor": "white",
            "gridwidth": 2,
            "linecolor": "white",
            "showbackground": true,
            "ticks": "",
            "zerolinecolor": "white"
           }
          },
          "shapedefaults": {
           "line": {
            "color": "#2a3f5f"
           }
          },
          "ternary": {
           "aaxis": {
            "gridcolor": "white",
            "linecolor": "white",
            "ticks": ""
           },
           "baxis": {
            "gridcolor": "white",
            "linecolor": "white",
            "ticks": ""
           },
           "bgcolor": "#E5ECF6",
           "caxis": {
            "gridcolor": "white",
            "linecolor": "white",
            "ticks": ""
           }
          },
          "title": {
           "x": 0.05
          },
          "xaxis": {
           "automargin": true,
           "gridcolor": "white",
           "linecolor": "white",
           "ticks": "",
           "title": {
            "standoff": 15
           },
           "zerolinecolor": "white",
           "zerolinewidth": 2
          },
          "yaxis": {
           "automargin": true,
           "gridcolor": "white",
           "linecolor": "white",
           "ticks": "",
           "title": {
            "standoff": 15
           },
           "zerolinecolor": "white",
           "zerolinewidth": 2
          }
         }
        },
        "title": {
         "text": "Tree of Most Common Words"
        }
       }
      }
     },
     "metadata": {},
     "output_type": "display_data"
    }
   ],
   "source": [
    "fig = px.treemap(ranking.head(25), path=['term'], values='count',title='Tree of Most Common Words')\n",
    "fig.show()"
   ]
  },
  {
   "cell_type": "markdown",
   "metadata": {},
   "source": [
    "### Count Vectorizer"
   ]
  },
  {
   "cell_type": "code",
   "execution_count": 78,
   "metadata": {},
   "outputs": [],
   "source": [
    "\n",
    "from sklearn.feature_extraction.text import TfidfVectorizer, CountVectorizer\n",
    "from sklearn.preprocessing import normalize\n",
    "\n",
    "max_features = 1000\n",
    "\n",
    "# calc TF vector\n",
    "cvect = CountVectorizer(max_features=max_features)\n",
    "TF_vector = cvect.fit_transform(processed_data[\"tweet_join\"])\n",
    "\n",
    "# normalize TF vector\n",
    "normalized_TF_vector = normalize(TF_vector, norm='l1', axis=1)\n",
    "\n",
    "# calc IDF\n",
    "tfidf = TfidfVectorizer(max_features=max_features, smooth_idf=False)\n",
    "tfs = tfidf.fit_transform(processed_data[\"tweet_join\"])\n",
    "IDF_vector = tfidf.idf_\n",
    "\n",
    "# hitung TF x IDF sehingga dihasilkan TFIDF matrix / vector\n",
    "tfidf_mat = normalized_TF_vector.multiply(IDF_vector).toarray()"
   ]
  },
  {
   "cell_type": "code",
   "execution_count": 81,
   "metadata": {},
   "outputs": [
    {
     "data": {
      "text/plain": [
       "array(['abis', 'abu', 'acara', 'adil', 'administrasi', 'ah', 'ahmad',\n",
       "       'ajar', 'aju', 'akal', 'akaryawanampwiraswasta',\n",
       "       'akaryawanampwiraswasta proses',\n",
       "       'akaryawanampwiraswasta proses cepatampmudah', 'akibat', 'akun',\n",
       "       'akuntansi', 'akuntansi akuntansi', 'akuntansi akuntansi sma',\n",
       "       'akuntansi akuntansi uang', 'akuntansi siklus',\n",
       "       'akuntansi siklus akuntansi', 'akuntansi sma',\n",
       "       'akuntansi sma antar', 'akuntansi uang', 'akuntansi uang dll',\n",
       "       'al', 'alam', 'alat', 'alat sehat', 'alias', 'all', 'alun',\n",
       "       'alun trisambodo', 'ama', 'aman', 'ambil', 'an', 'anak', 'and',\n",
       "       'aneh', 'anggap', 'anggar', 'anggota', 'anies', 'anjing', 'antar',\n",
       "       'antar akuntansi', 'antar akuntansi siklus', 'apa', 'apaapa',\n",
       "       'apbn', 'apresiasi', 'april', 'artikel', 'as', 'asa', 'asing',\n",
       "       'asing maksimal', 'asing maksimal juta', 'asli', 'asn', 'asuransi',\n",
       "       'atas', 'atur', 'ayo', 'ayo guys', 'ayo guys butuh', 'baca',\n",
       "       'badan', 'bagi', 'bagus', 'bahagia', 'bahan', 'bahan pokok',\n",
       "       'bahas', 'baik', 'banding', 'bandung', 'bandung semarang',\n",
       "       'bandung semarang solo', 'bang', 'banget', 'bangke', 'bangsa',\n",
       "       'bangsat', 'bangun', 'bank', 'bank asing', 'bank asing maksimal',\n",
       "       'bansos', 'bantu', 'banyak', 'barang', 'barang kirim',\n",
       "       'barang masuk', 'barang masuk milik', 'barang mewah', 'barang pmi',\n",
       "       'baru', 'batas', 'bawa', 'bawah', 'bayangin', 'bayar', 'bayar bea',\n",
       "       'bayar bea masuk', 'bayar pajak', 'bayar pajak gaji',\n",
       "       'bayar pajak kendara', 'bayar utang', 'bayarin', 'bbm', 'bc', 'be',\n",
       "       'bea', 'bea cukai', 'bea cukai pajak', 'bea masuk',\n",
       "       'bea masuk pajak', 'beacukai', 'beban', 'bebas', 'bebas bea',\n",
       "       'bebas bea masuk', 'bebas pajak', 'bebas pajak barang', 'becuk',\n",
       "       'beda', 'belanja', 'beli', 'beli barang', 'beli sepatu', 'benci',\n",
       "       'bener', 'beneran', 'bengkak', 'benny', 'benny rhamdani', 'bentuk',\n",
       "       'beras', 'berat', 'berita', 'bersih', 'besar', 'besok', 'bgt',\n",
       "       'biaya', 'biaya hidup', 'biaya pajak', 'bijak', 'bisnis', 'bodong',\n",
       "       'bpk', 'bpmi', 'bpmi benny', 'bpmi benny rhamdani', 'bs', 'bu',\n",
       "       'buah', 'buat', 'buka', 'bukti', 'bukti potong',\n",
       "       'bukti potong pajak', 'buku', 'bulan', 'bumi', 'bumn', 'bunga',\n",
       "       'buruh', 'butuh', 'butuh kta', 'butuh kta dm', 'buyer', 'by',\n",
       "       'byr', 'byr pajak', 'cabut', 'capai', 'cari', 'cat', 'catat', 'cc',\n",
       "       'cc npwp', 'cc npwp pakai', 'cek', 'cek testi', 'cekik', 'cepat',\n",
       "       'cepatampmudah', 'cepatampmudah tuju', 'cepatampmudah tuju ayo',\n",
       "       'cerita', 'china', 'cina', 'coba', 'contoh', 'cover',\n",
       "       'cover jabodetabek', 'cover jabodetabek bandung', 'cucu', 'cukai',\n",
       "       'cukai pajak', 'cuman', 'customer', 'daerah', 'daftar', 'dagang',\n",
       "       'dah', 'dampak', 'dana', 'dapat', 'dapet', 'dasar', 'data', 'daya',\n",
       "       'debat', 'defisit', 'deh', 'denda', 'depan', 'dhl', 'diadzab',\n",
       "       'diadzab neraka', 'diadzab neraka hr', 'didik', 'dipajakin',\n",
       "       'dipake', 'dipalakin', 'direktorat', 'dirjen', 'dirjen pajak',\n",
       "       'diskon', 'diskon pajak', 'ditjen', 'ditjen pajak', 'djp', 'dll',\n",
       "       'dll tugas', 'dll tugas pajak', 'dlm', 'dm', 'dm cek',\n",
       "       'dm cek testi', 'dm wa', 'dm wa langsung', 'doang', 'dokumen',\n",
       "       'dolar', 'dosen', 'dpt', 'dr', 'dri', 'duit', 'duit pajak',\n",
       "       'dukung', 'dunia', 'eh', 'ekonomi', 'ekspor', 'email', 'emang',\n",
       "       'emas', 'emg', 'enak', 'fasilitas', 'for', 'from', 'from nego',\n",
       "       'from nego yuk', 'full', 'fungsi', 'gabisa', 'gaes', 'gaji',\n",
       "       'gaji jabat', 'gaji potong', 'gampang', 'ganti', 'gara', 'gas',\n",
       "       'gass', 'gausah', 'gede', 'gelap', 'gelap pajak', 'genjot',\n",
       "       'genjot pajak', 'gibran', 'gift', 'gila', 'gilir', 'gimana', 'gin',\n",
       "       'gitu', 'gk', 'gratis', 'gt', 'gua', 'gue', 'gue bayar', 'guna',\n",
       "       'guru', 'guys', 'guys butuh', 'guys butuh kta', 'gw', 'habis',\n",
       "       'habishabisan', 'hadiah', 'hak', 'hakim', 'happy', 'haram',\n",
       "       'harap', 'harap maklum', 'harga', 'harga barang', 'harga beli',\n",
       "       'harga jt', 'harga juta', 'harga pajak', 'harta', 'hasil',\n",
       "       'hasil pajak', 'hati', 'hermes', 'hibah', 'hidup', 'hilang',\n",
       "       'hitung', 'hitung pajak', 'hormat', 'hr', 'hr ahmad', 'hubung',\n",
       "       'hukum', 'hutang', 'ikhlas', 'ikn', 'ikut', 'impor', 'import',\n",
       "       'in', 'indo', 'indonesia', 'indonesia kena',\n",
       "       'indonesia kena pajak', 'industri', 'info', 'informasi',\n",
       "       'instansi', 'invoice', 'is', 'isi', 'israel', 'istri', 'isu',\n",
       "       'iur', 'iya', 'jabat', 'jabat ditjen', 'jabat ditjen pajak',\n",
       "       'jabodetabek', 'jabodetabek bandung',\n",
       "       'jabodetabek bandung semarang', 'jadi', 'jaga', 'jakarta', 'jalan',\n",
       "       'jalur', 'janji', 'jasa', 'jawa', 'jelas', 'jelek', 'jepang',\n",
       "       'jerman', 'jeruk', 'jg', 'jogetin', 'joki', 'joki tutor',\n",
       "       'joki tutor tugas', 'jokowi', 'jt', 'jual', 'juang', 'jujur',\n",
       "       'juta', 'juta jelas', 'juta jelas bea', 'juta kena',\n",
       "       'juta kena pajak', 'juta pajak', 'juta syarat', 'juta syarat ktp',\n",
       "       'kadang', 'kah', 'kait', 'kak', 'kaki', 'kali', 'kampanye',\n",
       "       'kantor', 'kantor pajak', 'karna', 'karya', 'kasi', 'kasih',\n",
       "       'kaya', 'kayak', 'kejar', 'kek', 'kelas', 'kelas tengah', 'kelola',\n",
       "       'keluarga', 'keluh', 'kemenkeu', 'kemplang', 'kemplang pajak',\n",
       "       'ken', 'kena', 'kena denda', 'kena pajak', 'kena pajak barang',\n",
       "       'kena pajak juta', 'kena pajak rp', 'kena potong',\n",
       "       'kena potong pajak', 'kendara', 'kepala', 'kepala bpmi', 'keras',\n",
       "       'kerja', 'kerja keras', 'kerja migran', 'kerja migran indonesia',\n",
       "       'kipk', 'kirim', 'kl', 'konkret', 'kontol', 'kontribusi', 'korup',\n",
       "       'korupsi', 'koruptor', 'kota', 'kritik', 'kta', 'kta bank',\n",
       "       'kta bank asing', 'kta dm', 'kta dm wa', 'ktp', 'ktp cc',\n",
       "       'ktp cc npwp', 'kuasa', 'kuat', 'kuliah', 'kurang', 'laksana',\n",
       "       'laku', 'langsung', 'lanjut', 'lapor', 'lapor spt', 'layak',\n",
       "       'layan', 'lbh', 'lembaga', 'lengkap', 'lg', 'liat', 'lihat',\n",
       "       'like', 'lipat', 'lipat harga', 'listrik', 'listrik bbm', 'lo',\n",
       "       'logika', 'lokasi', 'lomba', 'lu', 'luas', 'lupa', 'maaf', 'mafia',\n",
       "       'mah', 'mahal', 'main', 'maju', 'makan', 'makan gratis',\n",
       "       'makan siang', 'makan siang gratis', 'maklum', 'makmur',\n",
       "       'maksimal', 'maksimal juta', 'maksimal juta syarat', 'malak',\n",
       "       'males', 'maling', 'mana', 'manfaat', 'mantan', 'manusia', 'marah',\n",
       "       'maret', 'mari', 'mas', 'masuk', 'masuk akal', 'masuk milik',\n",
       "       'masuk neraka', 'masuk pajak', 'masuk pajak impor', 'masyarakat',\n",
       "       'mati', 'medan', 'medan palembang', 'medan palembang pinjam',\n",
       "       'mei', 'menang', 'mending', 'menteri', 'menteri uang', 'mesin',\n",
       "       'mesti', 'mewah', 'migran', 'migran indonesia', 'mikir', 'milih',\n",
       "       'milik', 'milik kerja', 'milik kerja migran', 'min', 'minggu',\n",
       "       'miskin', 'mk', 'mo', 'mobil', 'moga', 'mohon', 'motor', 'msh',\n",
       "       'mudah', 'mulyani', 'mungut', 'mungut pajak', 'murah', 'my',\n",
       "       'naek', 'naik', 'naik bbm', 'naik harga', 'naik pajak', 'naikin',\n",
       "       'nak', 'nama', 'nang', 'nasib', 'nasional', 'need', 'negara',\n",
       "       'negara hasil', 'negara pajak', 'negeri', 'nego', 'nego yuk',\n",
       "       'nego yuk dm', 'negri', 'neraka', 'netizen', 'ngapain', 'ngasih',\n",
       "       'ngeluh', 'ngerti', 'ngga', 'nggak', 'ngotak', 'nik', 'nikmat',\n",
       "       'nila', 'nilai', 'no', 'noh', 'nominal', 'nominal bebas',\n",
       "       'nominal bebas pajak', 'normal', 'npwp', 'npwp pakai',\n",
       "       'npwp pakai bukti', 'ntar', 'nyampe', 'nyari', 'nyata', 'obat',\n",
       "       'of', 'oh', 'ok', 'ok gas', 'oke', 'oke gas', 'oknum', 'on',\n",
       "       'online', 'online rp', 'online rp juta', 'open', 'open joki',\n",
       "       'open joki tutor', 'orang', 'orang kaya', 'orang pajak',\n",
       "       'orangorang', 'org', 'otak', 'our', 'pabean', 'paham', 'paja',\n",
       "       'pajak', 'pajak akaryawanampwiraswasta',\n",
       "       'pajak akaryawanampwiraswasta proses', 'pajak akuntansi',\n",
       "       'pajak barang', 'pajak barang kirim', 'pajak barang masuk',\n",
       "       'pajak barang mewah', 'pajak bayar', 'pajak bbm', 'pajak bea',\n",
       "       'pajak bea cukai', 'pajak becuk', 'pajak cukai', 'pajak daerah',\n",
       "       'pajak diadzab', 'pajak diadzab neraka', 'pajak dipake',\n",
       "       'pajak dll', 'pajak gaji', 'pajak genjot', 'pajak gt', 'pajak gue',\n",
       "       'pajak harga', 'pajak hasil', 'pajak impor', 'pajak indonesia',\n",
       "       'pajak jabat', 'pajak jt', 'pajak jual', 'pajak juta',\n",
       "       'pajak kaya', 'pajak kena', 'pajak kendara', 'pajak makan',\n",
       "       'pajak masuk', 'pajak mobil', 'pajak motor', 'pajak naik',\n",
       "       'pajak negara', 'pajak pajak', 'pajak ppn', 'pajak rakyat',\n",
       "       'pajak rp', 'pajak rp juta', 'pajak start', 'pajak start from',\n",
       "       'pajak tahun', 'pajak tambah', 'pajak tambah nilai',\n",
       "       'pajak terima', 'pajak udah', 'pakai', 'pakai bukti',\n",
       "       'pakai bukti potong', 'pake', 'pake pajak', 'paket', 'paksa',\n",
       "       'palak', 'palembang', 'palembang pinjam', 'palembang pinjam kta',\n",
       "       'palsu', 'pariwisata', 'parkir', 'pas', 'pbb', 'pd', 'pdhl',\n",
       "       'pegawai', 'pegawai pajak', 'pegawai pajak bea', 'pelakupemungut',\n",
       "       'pelakupemungut pajak', 'pelakupemungut pajak diadzab', 'penuh',\n",
       "       'peras', 'percaya', 'periksa', 'perintah', 'perintah relaksasi',\n",
       "       'perintah relaksasi pajak', 'periode', 'persen', 'pesawat',\n",
       "       'piala', 'pikir', 'pilih', 'pilpres', 'pimpin', 'pindah', 'pinjam',\n",
       "       'pinjam kta', 'pinjam kta bank', 'plat', 'pm', 'pmi', 'pmi bpmi',\n",
       "       'pmk', 'pokok', 'polisi', 'politik', 'potong', 'potong pajak',\n",
       "       'potong pajak akaryawanampwiraswasta', 'pph', 'pph impor', 'ppn',\n",
       "       'ppn pajak', 'prabowo', 'prabowo gibran', 'presiden', 'pribadi',\n",
       "       'pro', 'program', 'proses', 'proses cepatampmudah',\n",
       "       'proses cepatampmudah tuju', 'protes', 'provinsi', 'proyek',\n",
       "       'publik', 'pulang', 'pungut', 'putus', 'rafael', 'rafael alun',\n",
       "       'rafael alun trisambodo', 'rakyat', 'rasio', 'rasio pajak',\n",
       "       'ratio', 'ratus', 'raya', 'rb', 'realisasi', 'relaksasi',\n",
       "       'relaksasi pajak', 'relaksasi pajak barang', 'rencana', 'rendah',\n",
       "       'resmi', 'retribusi', 'rezim', 'rhamdani', 'ri', 'ribu', 'rincian',\n",
       "       'robek', 'robek tas', 'rokok', 'rp', 'rp juta', 'rp juta jelas',\n",
       "       'rp juta kena', 'rp triliun', 'rugi', 'rumah', 'rumah sakit',\n",
       "       'rupiah', 'sadar', 'sakit', 'salah', 'sampe', 'samsat', 'sanksi',\n",
       "       'sanksi administrasi', 'satu', 'sbg', 'sd', 'sda', 'sebenernya',\n",
       "       'sehat', 'sejahtera', 'sekolah', 'sektor', 'selamat', 'selesai',\n",
       "       'semangat', 'semarang', 'semarang solo', 'semarang solo surabaya',\n",
       "       'sembako', 'senang', 'sepatu', 'sepatu harga', 'sepatu harga juta',\n",
       "       'sepatu online', 'sepatu online rp', 'seragam', 'sesuai', 'setor',\n",
       "       'setor pajak', 'siang', 'siang gratis', 'siklus',\n",
       "       'siklus akuntansi', 'siklus akuntansi akuntansi', 'simak',\n",
       "       'sistem', 'situ', 'skrg', 'slb', 'sm', 'sma', 'sma antar',\n",
       "       'sma antar akuntansi', 'sok', 'solo', 'solo surabaya',\n",
       "       'solo surabaya medan', 'solusi', 'spt', 'spt tahun', 'sri',\n",
       "       'sri mulyani', 'standar', 'start', 'start from', 'start from nego',\n",
       "       'status', 'suara', 'subsidi', 'suka', 'sukses', 'sulit', 'sumber',\n",
       "       'sungguh', 'surabaya', 'surabaya medan',\n",
       "       'surabaya medan palembang', 'surat', 'surat lengkap', 'suruh',\n",
       "       'suruh bayar', 'suruh bayar pajak', 'suruh mikir', 'susah',\n",
       "       'swiss', 'syarat', 'syarat ktp', 'syarat ktp cc', 'taat',\n",
       "       'taat bayar', 'taat bayar pajak', 'taat pajak', 'tagih', 'tahan',\n",
       "       'tahu', 'tahun', 'takut', 'tambah', 'tambah nilai',\n",
       "       'tambah nominal', 'tambah nominal bebas', 'tanah', 'tanam',\n",
       "       'tangan', 'tanggung', 'tani', 'target', 'tarif', 'tarif pajak',\n",
       "       'tarik', 'tarik pajak', 'tas', 'tas hermes', 'tax', 'teliti',\n",
       "       'teman', 'temen', 'tengah', 'tentu', 'terap', 'terbit', 'terima',\n",
       "       'terima kasih', 'terima pajak', 'testi', 'tetap', 'tetep', 'the',\n",
       "       'this', 'thr', 'tiket', 'tindak', 'tinggal', 'tinggi', 'tingkat',\n",
       "       'to', 'tol', 'tolak', 'tolol', 'tolong', 'total', 'tp', 'tri',\n",
       "       'triliun', 'trisambodo', 'trus', 'tsb', 'ttg', 'ttp', 'tu',\n",
       "       'tugas', 'tugas akuntansi', 'tugas akuntansi akuntansi',\n",
       "       'tugas pajak', 'tugas pajak start', 'tuju', 'tuju ayo',\n",
       "       'tuju ayo guys', 'tukang', 'tulis', 'tumpang', 'tunggu', 'turun',\n",
       "       'tutor', 'tutor tugas', 'tutor tugas akuntansi', 'tutup', 'tv',\n",
       "       'tweet', 'twitter', 'uang', 'uang dll', 'uang dll tugas',\n",
       "       'uang negara', 'uang pajak', 'uang pajak rakyat', 'ubah', 'uda',\n",
       "       'udah', 'udah bayar', 'udah bayar pajak', 'udh', 'ukt', 'ulang',\n",
       "       'ultah', 'untung', 'upah', 'urus', 'us', 'usaha', 'usd', 'usul',\n",
       "       'usul bpmi', 'usul tambah', 'usul tambah nominal', 'utama',\n",
       "       'utang', 'uu', 'via', 'video', 'viral', 'wa', 'wa langsung',\n",
       "       'wajar', 'wajib', 'wajib pajak', 'warga', 'warga negara',\n",
       "       'wilayah', 'with', 'wkwkwk', 'work', 'woy', 'yuk', 'yuk dm',\n",
       "       'yuk dm cek', 'zakat', 'zaman'], dtype=object)"
      ]
     },
     "execution_count": 81,
     "metadata": {},
     "output_type": "execute_result"
    }
   ],
   "source": [
    "from sklearn.feature_extraction.text import TfidfVectorizer, CountVectorizer\n",
    "from sklearn.preprocessing import normalize\n",
    "\n",
    "max_features = 1000\n",
    "\n",
    "cvect = CountVectorizer(max_features=max_features, ngram_range=(1,3))\n",
    "counts = cvect.fit_transform(processed_data[\"tweet_join\"])\n",
    "\n",
    "normalized_counts = normalize(counts, norm='l1', axis=1)\n",
    "\n",
    "tfidf = TfidfVectorizer(max_features=max_features, ngram_range=(1,3), smooth_idf=False)\n",
    "tfs = tfidf.fit_transform(processed_data[\"tweet_join\"])\n",
    "\n",
    "tfidf_mat = normalized_counts.multiply(tfidf.idf_).toarray()\n",
    "tfidf.get_feature_names_out()"
   ]
  },
  {
   "cell_type": "code",
   "execution_count": 83,
   "metadata": {},
   "outputs": [
    {
     "name": "stdout",
     "output_type": "stream",
     "text": [
      "Show TFIDF sample ke-0 \n",
      "\n",
      "['alam', 'bea', 'cukai', 'kerja', 'dah', 'liat', 'berita', 'seliwer', 'kaya', 'nguras', 'duit', 'orang', 'anjir', 'liat', 'kasih', 'pajak', 'lipat', 'harga', 'barang'] \n",
      "\n",
      "\t\t\t TF \t\t IDF \t\t TF-IDF \t Term\n",
      "\n",
      "array position 20\t 0.058824 \t 6.278965 \t 0.369351 \t alam\n",
      "array position 45\t 0.058824 \t 6.684430 \t 0.393202 \t anjir\n",
      "array position 94\t 0.058824 \t 3.416764 \t 0.200986 \t barang\n",
      "array position 108\t 0.058824 \t 3.352225 \t 0.197190 \t bea\n",
      "array position 125\t 0.058824 \t 6.461286 \t 0.380076 \t berita\n",
      "array position 195\t 0.058824 \t 3.506376 \t 0.206257 \t cukai\n",
      "array position 201\t 0.058824 \t 5.505775 \t 0.323869 \t dah\n",
      "array position 258\t 0.058824 \t 3.993187 \t 0.234893 \t duit\n",
      "array position 345\t 0.058824 \t 3.258540 \t 0.191679 \t harga\n",
      "array position 450\t 0.058824 \t 4.544364 \t 0.267316 \t kasih\n",
      "array position 453\t 0.058824 \t 4.220577 \t 0.248269 \t kaya\n",
      "array position 472\t 0.058824 \t 3.701276 \t 0.217722 \t kerja\n",
      "array position 525\t 0.117647 \t 5.362674 \t 0.630903 \t liat\n",
      "array position 529\t 0.058824 \t 5.768139 \t 0.339302 \t lipat\n",
      "array position 659\t 0.058824 \t 3.676275 \t 0.216251 \t orang\n",
      "array position 671\t 0.058824 \t 1.085082 \t 0.063828 \t pajak\n"
     ]
    }
   ],
   "source": [
    "from sklearn.feature_extraction.text import TfidfVectorizer, CountVectorizer\n",
    "from sklearn.preprocessing import normalize\n",
    "\n",
    "max_features = 1000\n",
    "\n",
    "\n",
    "def generate_tfidf_mat(min_gram, max_gram):\n",
    "    cvect = CountVectorizer(max_features=max_features, ngram_range=(min_gram, max_gram))\n",
    "    counts = cvect.fit_transform(processed_data[\"tweet_join\"])\n",
    "\n",
    "    normalized_counts = normalize(counts, norm='l1', axis=1)\n",
    "\n",
    "    tfidf = TfidfVectorizer(max_features=max_features, ngram_range=(min_gram, max_gram), smooth_idf=False)\n",
    "    tfs = tfidf.fit_transform(processed_data[\"tweet_join\"])\n",
    "\n",
    "    tfidf_mat = normalized_counts.multiply(tfidf.idf_).toarray()\n",
    "    \n",
    "    TF = normalized_counts.toarray()\n",
    "    IDF = tfidf.idf_\n",
    "    TF_IDF = tfidf_mat\n",
    "    return TF, IDF, TF_IDF, tfidf.get_feature_names_out()\n",
    "\n",
    "# ngram_range (1, 1) to use unigram only\n",
    "tf_mat_unigram, idf_mat_unigram, tfidf_mat_unigram, terms_unigram = generate_tfidf_mat(1,1)\n",
    "\n",
    "# ngram_range (2, 2) to use bigram only\n",
    "tf_mat_bigram, idf_mat_bigram, tfidf_mat_bigram, terms_bigram = generate_tfidf_mat(2,2)\n",
    "\n",
    "# ngram_range (3, 3) to use trigram only\n",
    "tf_mat_trigram, idf_mat_trigram, tfidf_mat_trigram, terms_trigram = generate_tfidf_mat(3,3)\n",
    "\n",
    "# ---------- check sparse data -------------------\n",
    "idx_sample = 0\n",
    "\n",
    "print(\"Show TFIDF sample ke-\" + str(idx_sample), \"\\n\")\n",
    "print(processed_data['tweet_tokens_stemmed'][idx_sample], \"\\n\")\n",
    "\n",
    "print(\"\\t\\t\\t\", \"TF\", \"\\t\\t\", \"IDF\", \"\\t\\t\", \"TF-IDF\", \"\\t\", \"Term\\n\")\n",
    "for i, item in enumerate(zip(tf_mat_unigram[idx_sample], idf_mat_unigram, tfidf_mat_unigram[idx_sample], terms_unigram)):\n",
    "    if(item[2] != 0.0):\n",
    "        print (\"array position \" + str(i) + \"\\t\", \n",
    "               \"%.6f\" % item[0], \"\\t\", \n",
    "               \"%.6f\" % item[1], \"\\t\", \n",
    "               \"%.6f\" % item[2], \"\\t\", \n",
    "               item[3])\n"
   ]
  },
  {
   "cell_type": "code",
   "execution_count": 84,
   "metadata": {},
   "outputs": [],
   "source": [
    "def get_TF_unigram(row):\n",
    "    idx = row.name\n",
    "    return [tf for tf in tf_mat_unigram[idx] if tf != 0.0]\n",
    "\n",
    "processed_data[\"TF_UNIGRAM\"] = processed_data.apply(get_TF_unigram, axis=1)\n",
    "\n",
    "def get_IDF_unigram(row):\n",
    "    idx = row.name\n",
    "    return [item[1] for item in zip(tf_mat_unigram[idx], idf_mat_unigram) if item[0] != 0.0]\n",
    "\n",
    "processed_data[\"IDF_UNIGRAM\"] = processed_data.apply(get_IDF_unigram, axis=1)\n",
    "\n",
    "def get_TFIDF_unigram(row):\n",
    "    idx = row.name\n",
    "    return [tfidf for tfidf in tfidf_mat_unigram[idx] if tfidf != 0.0]\n",
    "\n",
    "processed_data[\"TFIDF_UNIGRAM\"] = processed_data.apply(get_TFIDF_unigram, axis=1)\n",
    "\n",
    "processed_data[[\"tweet_tokens_stemmed\", \"TF_UNIGRAM\", \"IDF_UNIGRAM\", \"TFIDF_UNIGRAM\"]].head()\n",
    "\n",
    "# save TFIDF Unigram to Excel\n",
    "\n",
    "processed_data[[\"tweet_tokens_stemmed\", \"TF_UNIGRAM\", \"IDF_UNIGRAM\", \"TFIDF_UNIGRAM\"]].to_excel(r\"D:\\Code\\py_code\\Text-Processing\\data\\clean\\TFIDF_Unigram.xlsx\")\n"
   ]
  },
  {
   "cell_type": "code",
   "execution_count": 85,
   "metadata": {},
   "outputs": [],
   "source": [
    "def get_TF_bigram(row):\n",
    "    idx = row.name\n",
    "    return [tf for tf in tf_mat_bigram[idx] if tf != 0.0]\n",
    "\n",
    "processed_data[\"TF_BIGRAM\"] = processed_data.apply(get_TF_bigram, axis=1)\n",
    "\n",
    "def get_IDF_bigram(row):\n",
    "    idx = row.name\n",
    "    return [item[1] for item in zip(tf_mat_bigram[idx], idf_mat_bigram) if item[0] != 0.0]\n",
    "\n",
    "processed_data[\"IDF_BIGRAM\"] = processed_data.apply(get_IDF_bigram, axis=1)\n",
    "\n",
    "def get_TFIDF_bigram(row):\n",
    "    idx = row.name\n",
    "    return [tfidf for tfidf in tfidf_mat_bigram[idx] if tfidf != 0.0]\n",
    "\n",
    "processed_data[\"TFIDF_BIGRAM\"] = processed_data.apply(get_TFIDF_bigram, axis=1)\n",
    "\n",
    "def get_Term_bigram(row):\n",
    "    idx = row.name\n",
    "    return [item[1] for item in zip(tf_mat_bigram[idx], terms_bigram) if item[0] != 0.0]\n",
    "\n",
    "processed_data[\"TWEET_BIGRAM\"] = processed_data.apply(get_Term_bigram, axis=1)\n",
    "\n",
    "processed_data[[\"TWEET_BIGRAM\", \"TF_BIGRAM\", \"IDF_BIGRAM\", \"TFIDF_BIGRAM\"]].head()\n",
    "\n",
    "\n",
    "# save TFIDF Bigram to Excel\n",
    "\n",
    "processed_data[[\"TWEET_BIGRAM\", \"TF_BIGRAM\", \"IDF_BIGRAM\", \"TFIDF_BIGRAM\"]].to_excel(r\"D:\\Code\\py_code\\Text-Processing\\data\\clean\\TFIDF_Bigram.xlsx\")\n"
   ]
  },
  {
   "cell_type": "code",
   "execution_count": 86,
   "metadata": {},
   "outputs": [],
   "source": [
    "def get_TF_trigram(row):\n",
    "    idx = row.name\n",
    "    return [tf for tf in tf_mat_trigram[idx] if tf != 0.0]\n",
    "\n",
    "processed_data[\"TF_trigram\"] = processed_data.apply(get_TF_trigram, axis=1)\n",
    "\n",
    "def get_IDF_trigram(row):\n",
    "    idx = row.name\n",
    "    return [item[1] for item in zip(tf_mat_trigram[idx], idf_mat_trigram) if item[0] != 0.0]\n",
    "\n",
    "processed_data[\"IDF_trigram\"] = processed_data.apply(get_IDF_trigram, axis=1)\n",
    "\n",
    "def get_TFIDF_trigram(row):\n",
    "    idx = row.name\n",
    "    return [tfidf for tfidf in tfidf_mat_trigram[idx] if tfidf != 0.0]\n",
    "\n",
    "processed_data[\"TFIDF_trigram\"] = processed_data.apply(get_TFIDF_trigram, axis=1)\n",
    "\n",
    "def get_Term_trigram(row):\n",
    "    idx = row.name\n",
    "    return [item[1] for item in zip(tf_mat_trigram[idx], terms_trigram) if item[0] != 0.0]\n",
    "\n",
    "processed_data[\"TWEET_TRIGRAM\"] = processed_data.apply(get_Term_trigram, axis=1)\n",
    "\n",
    "processed_data[[\"TWEET_TRIGRAM\", \"TF_trigram\", \"IDF_trigram\", \"TFIDF_trigram\"]].head()\n",
    "\n",
    "\n",
    "# save TFIDF Trigram to Excel\n",
    "\n",
    "processed_data[[\"TWEET_TRIGRAM\", \"TF_trigram\", \"IDF_trigram\", \"TFIDF_trigram\"]].to_excel(r\"D:\\Code\\py_code\\Text-Processing\\data\\clean\\TFIDF_Trigram.xlsx\")\n"
   ]
  }
 ],
 "metadata": {
  "kernelspec": {
   "display_name": "pyenv",
   "language": "python",
   "name": "python3"
  },
  "language_info": {
   "codemirror_mode": {
    "name": "ipython",
    "version": 3
   },
   "file_extension": ".py",
   "mimetype": "text/x-python",
   "name": "python",
   "nbconvert_exporter": "python",
   "pygments_lexer": "ipython3",
   "version": "3.12.3"
  }
 },
 "nbformat": 4,
 "nbformat_minor": 2
}

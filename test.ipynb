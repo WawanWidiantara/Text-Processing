{
 "cells": [
  {
   "cell_type": "code",
   "execution_count": 19,
   "metadata": {},
   "outputs": [
    {
     "name": "stdout",
     "output_type": "stream",
     "text": [
      "=$c$2-c2\t\t=$d$2-d2\t\t=$e$2-e2\t\t=$f$2-f2\n",
      "=$c$3-c2\t\t=$d$3-d2\t\t=$e$3-e2\t\t=$f$3-f2\n",
      "=$c$4-c2\t\t=$d$4-d2\t\t=$e$4-e2\t\t=$f$4-f2\n",
      "=$c$5-c2\t\t=$d$5-d2\t\t=$e$5-e2\t\t=$f$5-f2\n",
      "=$c$6-c2\t\t=$d$6-d2\t\t=$e$6-e2\t\t=$f$6-f2\n",
      "=$c$7-c2\t\t=$d$7-d2\t\t=$e$7-e2\t\t=$f$7-f2\n",
      "=$c$8-c2\t\t=$d$8-d2\t\t=$e$8-e2\t\t=$f$8-f2\n",
      "=$c$9-c2\t\t=$d$9-d2\t\t=$e$9-e2\t\t=$f$9-f2\n",
      "=$c$10-c2\t\t=$d$10-d2\t\t=$e$10-e2\t\t=$f$10-f2\n",
      "=$c$11-c2\t\t=$d$11-d2\t\t=$e$11-e2\t\t=$f$11-f2\n",
      "=$c$12-c2\t\t=$d$12-d2\t\t=$e$12-e2\t\t=$f$12-f2\n",
      "=$c$13-c2\t\t=$d$13-d2\t\t=$e$13-e2\t\t=$f$13-f2\n",
      "=$c$14-c2\t\t=$d$14-d2\t\t=$e$14-e2\t\t=$f$14-f2\n",
      "=$c$15-c2\t\t=$d$15-d2\t\t=$e$15-e2\t\t=$f$15-f2\n",
      "=$c$16-c2\t\t=$d$16-d2\t\t=$e$16-e2\t\t=$f$16-f2\n"
     ]
    }
   ],
   "source": [
    "alphabet = \"bcdef\"\n",
    "for i in range(15):\n",
    "    print(f\"=${alphabet[1]}${i+2}-{alphabet[1]}2\\t\\t=${alphabet[2]}${i+2}-{alphabet[2]}2\\t\\t=${alphabet[3]}${i+2}-{alphabet[3]}2\\t\\t=${alphabet[4]}${i+2}-{alphabet[4]}2\")"
   ]
  },
  {
   "cell_type": "code",
   "execution_count": 41,
   "metadata": {},
   "outputs": [
    {
     "name": "stdout",
     "output_type": "stream",
     "text": [
      "=V229\t=V230\t=V231\t=V232\t=V233\t=V234\t=V235\t=V236\t=V237\t=V238\t=V239\t=V240\t=V241\t=V242\t=V243\t"
     ]
    }
   ],
   "source": [
    "for i in range(15):\n",
    "    print(f\"=V{i+229}\", end='\\t')"
   ]
  }
 ],
 "metadata": {
  "kernelspec": {
   "display_name": "pyenv",
   "language": "python",
   "name": "python3"
  },
  "language_info": {
   "codemirror_mode": {
    "name": "ipython",
    "version": 3
   },
   "file_extension": ".py",
   "mimetype": "text/x-python",
   "name": "python",
   "nbconvert_exporter": "python",
   "pygments_lexer": "ipython3",
   "version": "3.12.3"
  }
 },
 "nbformat": 4,
 "nbformat_minor": 2
}

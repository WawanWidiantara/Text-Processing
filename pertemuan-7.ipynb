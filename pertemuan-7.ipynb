{
 "cells": [
  {
   "cell_type": "markdown",
   "metadata": {},
   "source": [
    "### Define a string raw containing a sentence of your own choosing. Now, split raw on some character other than space, such as 's'"
   ]
  },
  {
   "cell_type": "code",
   "execution_count": null,
   "metadata": {},
   "outputs": [],
   "source": [
    "raw = \"This is a sample sentence for splitting.\""
   ]
  },
  {
   "cell_type": "markdown",
   "metadata": {},
   "source": [
    "Explanation:\n",
    "- The raw variable holds our original sentence.\n",
    "- The split(\"s\") function divides the sentence wherever the letter 's' occurs, creating a list of the resulting substrings.\n",
    "- The output shows how the sentence is broken into smaller fragments."
   ]
  },
  {
   "cell_type": "markdown",
   "metadata": {},
   "source": [
    "### Write a for loop to print out the characters of a string, one per line."
   ]
  },
  {
   "cell_type": "markdown",
   "metadata": {},
   "source": [
    "Explanation:\n",
    "\n",
    "1. The String: We define a string variable my_string with the value \"Hello, world!\".\n",
    "2. The for Loop: The for char in my_string: loop iterates through each character (char) within the string.\n",
    "3. Printing: Inside the loop, print(char) prints the current character on a separate line."
   ]
  },
  {
   "cell_type": "markdown",
   "metadata": {},
   "source": [
    "### What is the difference between calling split on a string with no argument and one with ' ' as the argument, e.g., sent. split() versus sent. split(' ')? What happens when the string being split contains tab characters, consecutive space characters, or a sequence of tabs and spaces? (In IDLE you will need to use 't' to enter a tab character)"
   ]
  },
  {
   "cell_type": "code",
   "execution_count": null,
   "metadata": {},
   "outputs": [],
   "source": [
    "sentence = \"This is a\\tstring\\twith  mixed   whitespace.\"\n",
    "words = sentence.split()\n",
    "print(words)"
   ]
  },
  {
   "cell_type": "markdown",
   "metadata": {},
   "source": [
    "2. `split(' ')` with a space argument:\n",
    "\n",
    "- **Behavior**: Splits the string specifically on spaces. Other whitespace characters are not treated as delimiters."
   ]
  },
  {
   "cell_type": "markdown",
   "metadata": {},
   "source": [
    "**Key Differences**:\n",
    "\n",
    "- **Consecutive Whitespace**: The main difference lies in how they handle sequences of whitespace characters. split() without arguments collapses them into one delimiter, while split(' ') splits at every single space.\n",
    "- **Specificity**: split(' ') is more specific, splitting only on spaces.\n",
    "\n",
    "**Handling Tabs, Spaces, and Mixed Whitespace**:\n",
    "\n",
    "- **Tabs**: Tabs (\\t) are considered whitespace and treated just like spaces by either version of split().\n",
    "- **Consecutive Spaces**: As shown above, they lead to different results depending on whether you use split() or split(' ').\n",
    "- **Mixed Whitespace**: The behavior depends on which version of split() you use, leading to different ways that your string is divided."
   ]
  },
  {
   "cell_type": "markdown",
   "metadata": {},
   "source": [
    "### Create a variable words containing a list of words. Experiment with words. sort() and sorted (words). What is the difference?"
   ]
  },
  {
   "cell_type": "markdown",
   "metadata": {},
   "source": [
    "1. `words.sort()`\n",
    "\n",
    "- Modifies in-place: Sorts the words list directly, changing its order.\n",
    "- Returns None: Doesn't return a new list; it modifies the original one."
   ]
  },
  {
   "cell_type": "code",
   "execution_count": null,
   "metadata": {},
   "outputs": [],
   "source": [
    "print(\"words.sort():\")\n",
    "words.sort()\n",
    "print(words)"
   ]
  },
  {
   "cell_type": "code",
   "execution_count": null,
   "metadata": {},
   "outputs": [],
   "source": [
    "print(\"\\nsorted(words):\")\n",
    "sorted_words = sorted(words)\n",
    "print(sorted_words)\n",
    "print(words) "
   ]
  },
  {
   "cell_type": "markdown",
   "metadata": {},
   "source": [
    "**The Key Difference**:\n",
    "\n",
    "- **Mutability**: `words.sort()` changes the existing list (in-place modification), while sorted(words) creates a new sorted copy without affecting the original list.\n",
    "\n",
    "**When to Use Which**:\n",
    "\n",
    "- Use `words.sort()` when you want to directly modify the order of your list and don't need to preserve the original.\n",
    "- Use `sorted(words)` when you want to work with a sorted version of the list but need to keep the original list intact."
   ]
  }
 ],
 "metadata": {
  "kernelspec": {
   "display_name": "pyenv",
   "language": "python",
   "name": "python3"
  },
  "language_info": {
   "codemirror_mode": {
    "name": "ipython",
    "version": 3
   },
   "file_extension": ".py",
   "mimetype": "text/x-python",
   "name": "python",
   "nbconvert_exporter": "python",
   "pygments_lexer": "ipython3",
   "version": "3.11.3"
  }
 },
 "nbformat": 4,
 "nbformat_minor": 2
}
